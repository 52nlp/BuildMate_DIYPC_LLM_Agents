{
 "cells": [
  {
   "attachments": {},
   "cell_type": "markdown",
   "metadata": {},
   "source": [
    "\n",
    "# Generate PC-Build Recommendation using ChatGPT4o"
   ]
  },
  {
   "cell_type": "code",
   "execution_count": null,
   "metadata": {},
   "outputs": [],
   "source": [
    "import json\n",
    "\n",
    "# 更新 component_map，將 Fan 對應為 Case Fan\n",
    "component_map = {\n",
    "    \"Mother board\": \"Motherboard\",\n",
    "    \"Case\": \"Case\",\n",
    "    \"CPU\": \"CPU\",\n",
    "    \"GPU\": \"GPU\",\n",
    "    \"Memory\": \"Memory\",\n",
    "    \"Device\": \"SSD\",\n",
    "    \"Power\": \"Power Supply\",\n",
    "    \"Fan\": \"Case Fan\"  # 將 Fan 視為機殼風扇\n",
    "}\n",
    "\n",
    "def format_recommendation(recommendation_dict):\n",
    "    \"\"\"\n",
    "    將建議的字典資料轉換成字串輸出，格式如：\n",
    "    CPU: <name> | price: <price>\n",
    "    ...\n",
    "    總價: <sum>\n",
    "    \"\"\"\n",
    "    lines = []\n",
    "    total_price = 0\n",
    "    # 新增 \"Case Fan\" 到輸出順序\n",
    "    order = [\"CPU\", \"Motherboard\", \"Memory\", \"GPU\", \"SSD\", \"Power Supply\", \"Case\", \"Case Fan\"]\n",
    "    for comp in order:\n",
    "        if comp in recommendation_dict:\n",
    "            comp_info = recommendation_dict[comp]\n",
    "            name = comp_info.get(\"name\", \"N/A\")\n",
    "            price = int(comp_info.get(\"price\", \"0\"))\n",
    "            total_price += price\n",
    "            lines.append(f\"{comp}: {name} | price: {price}\")\n",
    "    lines.append(f\"總價: {total_price}\")\n",
    "    return \"\\n\".join(lines)\n",
    "\n",
    "\n",
    "def generate_gpt4o_recommendation(query, llm: ChatOpenAI):\n",
    "    \"\"\"\n",
    "    呼叫 GPT-4 模型根據 query 產生推薦清單，\n",
    "    並使用 one-shot 提示要求特定的 JSON 格式輸出。\n",
    "    \"\"\"\n",
    "\n",
    "    # 一次範例 One-shot 提示 (示意，可以調整成更符合您需求的範例)\n",
    "    # 注意內容：Fan 是 \"Case Fan\"\n",
    "    example_output = {\n",
    "        \"CPU\": {\n",
    "            \"reason\": \"適合該需求場景的高效處理器，提供足夠運算效能。\",\n",
    "            \"name\": \"Intel Core i5-12400\",\n",
    "            \"price\": \"5790\"\n",
    "        },\n",
    "        \"Motherboard\": {\n",
    "            \"reason\": \"穩定耐用，支援所選CPU及其他組件。\",\n",
    "            \"name\": \"ASUS PRIME B660M-A\",\n",
    "            \"price\": \"3990\"\n",
    "        },\n",
    "        \"Memory\": {\n",
    "            \"reason\": \"足夠容量與適當頻率，支持多工與目標應用。\",\n",
    "            \"name\": \"G.SKILL Ripjaws V 16GB (2x8GB) DDR4-3200\",\n",
    "            \"price\": \"1800\"\n",
    "        },\n",
    "        \"GPU\": {\n",
    "            \"reason\": \"滿足遊戲或加速需求，提供流暢影像與運算。\",\n",
    "            \"name\": \"NVIDIA GeForce RTX 3060\",\n",
    "            \"price\": \"8500\"\n",
    "        },\n",
    "        \"SSD\": {\n",
    "            \"reason\": \"快速存取資料，提高系統整體響應速度。\",\n",
    "            \"name\": \"Samsung 970 EVO Plus 1TB\",\n",
    "            \"price\": \"2200\"\n",
    "        },\n",
    "        \"Power Supply\": {\n",
    "            \"reason\": \"穩定供電，確保系統長期穩定運行。\",\n",
    "            \"name\": \"Corsair RM650x 80+ Gold\",\n",
    "            \"price\": \"3200\"\n",
    "        },\n",
    "        \"Case\": {\n",
    "            \"reason\": \"良好結構與散熱空間，易於安裝和維護。\",\n",
    "            \"name\": \"Fractal Design Meshify C\",\n",
    "            \"price\": \"2500\"\n",
    "        },\n",
    "        \"CPU Cooler\": {\n",
    "            \"reason\": \"足夠散熱能力，確保CPU在高負載下穩定。\",\n",
    "            \"name\": \"Cooler Master Hyper 212\",\n",
    "            \"price\": \"1000\"\n",
    "        },\n",
    "        \"Case Fan\": {\n",
    "            \"reason\": \"提供額外氣流，提高機殼內部散熱效率。\",\n",
    "            \"name\": \"Cooler Master SickleFlow 120\",\n",
    "            \"price\": \"200\"\n",
    "        }\n",
    "    }\n",
    "\n",
    "    system_prompt = f\"\"\"你是一位組裝電腦的專家，請根據以下使用者需求提供一份電腦組裝清單。\n",
    "    請用 JSON 格式輸出，並包含以下元件的資訊：\n",
    "    CPU, Motherboard, Memory, GPU, SSD, Power Supply, Case, CPU Cooler, Case Fan\n",
    "\n",
    "    每個元件需含有 `name`, `price`, `reason` 三個欄位（reason為簡短原因說明）。\n",
    "    Fan已對應為 Case Fan。\n",
    "\n",
    "    使用者需求：\n",
    "    {query}\n",
    "\n",
    "    以下為範例輸出格式（One-shot），請仿照此結構但內容請重新推薦適合的產品（根據上述query）：\n",
    "    ```json\n",
    "    {json.dumps(example_output, ensure_ascii=False, indent=2)}\n",
    "    請直接輸出JSON格式結果，勿包含多餘說明文字。 \"\"\"\n",
    "    messages = [\n",
    "    SystemMessage(content=system_prompt),\n",
    "    ]\n",
    "    print (SystemMessage(content=system_prompt))\n",
    "    \n",
    "    \n",
    "    response = llm.invoke(messages)\n",
    "\n",
    "    print (response)\n",
    "\n",
    "    pattern = r'```json\\s*(\\{[\\s\\S]*?\\})\\s*```'\n",
    "\n",
    "    match = re.search(pattern, response.content)\n",
    "    if match:\n",
    "        json_str = match.group(1)  # 取得 JSON 區塊\n",
    "        try:\n",
    "            result = json.loads(json_str)\n",
    "            print(result)\n",
    "        except json.JSONDecodeError as e:\n",
    "            print(\"JSON解析失敗:\", e)\n",
    "            result = {}\n",
    "\n",
    "    else:\n",
    "        print(\"未找到 JSON 區塊\")\n",
    "        result = {}\n",
    "    return result\n",
    "    \n",
    "    \n",
    "\n",
    "\n",
    "def main():\n",
    "    buildmate_file = \"./results.json\"\n",
    "    llm = ChatOpenAI(model=\"gpt-4o-mini\", temperature=0.3)\n",
    "\n",
    "    with open(buildmate_file, \"r\", encoding=\"utf-8\") as f:\n",
    "        buildmate_data = json.load(f)\n",
    "    print (buildmate_data)\n",
    "    final_results = []\n",
    "    \n",
    "    question_id = 1\n",
    "    \n",
    "    for query, components in buildmate_data.items():\n",
    "        # 將 BuildMate 推薦清單轉成標準格式\n",
    "        buildmate_recom = {}\n",
    "        for original_comp, comp_info in components.items():\n",
    "            mapped_comp = component_map.get(original_comp, original_comp)\n",
    "            buildmate_recom[mapped_comp] = {\n",
    "                \"name\": comp_info.get(\"name\", \"N/A\"),\n",
    "                \"price\": comp_info.get(\"price\", \"0\"),\n",
    "                \"reason\": comp_info.get(\"reason\", \"\")\n",
    "            }\n",
    "\n",
    "        # 產生 gpt4o 推薦清單\n",
    "        gpt4o_recom = generate_gpt4o_recommendation(query, llm)\n",
    "\n",
    "        # 將兩者的清單格式化為字串\n",
    "        gpt4o_str = format_recommendation(gpt4o_recom)\n",
    "        buildmate_str = format_recommendation(buildmate_recom)\n",
    "\n",
    "        # 整理成最終 output 格式\n",
    "        final_results.append({\n",
    "            \"question_id\": question_id,\n",
    "            \"question\": query,\n",
    "            \"gpt4o_recommendation\": gpt4o_str,\n",
    "            \"buildmate_recommendation\": buildmate_str\n",
    "        })\n",
    "        if question_id == 10:\n",
    "            break\n",
    "        question_id += 1\n",
    "\n",
    "        \n",
    "\n",
    "    # 輸出 final results\n",
    "    with open(\"final_output.json\", \"w\", encoding=\"utf-8\") as out_f:\n",
    "        json.dump(final_results, out_f, ensure_ascii=False, indent=2)\n",
    "\n",
    "if __name__ == \"__main__\":\n",
    "    main()\n"
   ]
  },
  {
   "attachments": {},
   "cell_type": "markdown",
   "metadata": {},
   "source": [
    "# CouncilEval\n",
    "- A collaborative evaluation framework where multiple expert agents convene to assess, compare, and refine recommendations. By simulating a panel of specialists—each focusing on different performance criteria—CouncilEval ensures well-rounded, consensus-driven decisions on system recommendations, ultimately delivering more balanced, reliable, and user-focused outcomes."
   ]
  },
  {
   "cell_type": "code",
   "execution_count": 2,
   "metadata": {},
   "outputs": [
    {
     "data": {
      "text/html": [
       "<pre style=\"white-space:pre;overflow-x:auto;line-height:normal;font-family:Menlo,'DejaVu Sans Mono',consolas,'Courier New',monospace\"><span style=\"font-weight: bold\">{</span>\n",
       "    <span style=\"color: #008000; text-decoration-color: #008000\">'question_id'</span>: <span style=\"color: #008080; text-decoration-color: #008080; font-weight: bold\">1</span>,\n",
       "    <span style=\"color: #008000; text-decoration-color: #008000\">'question'</span>: <span style=\"color: #008000; text-decoration-color: #008000\">'請問30000元內能組一台什麼樣的主機，主要是玩LOL和看Netflix用，機殼要小且多彩？'</span>,\n",
       "    <span style=\"color: #008000; text-decoration-color: #008000\">'gpt4o_recommendation'</span>: <span style=\"color: #008000; text-decoration-color: #008000\">'CPU: AMD Ryzen 5 5600G | price: 5500\\nMotherboard: ASUS TUF Gaming B550M-PLUS | price:</span>\n",
       "<span style=\"color: #008000; text-decoration-color: #008000\">3500\\nMemory: Corsair Vengeance LPX 16GB (2x8GB) DDR4-3200 | price: 1800\\nGPU: AMD Radeon Graphics (integrated) | </span>\n",
       "<span style=\"color: #008000; text-decoration-color: #008000\">price: 0\\nSSD: Crucial P3 500GB NVMe SSD | price: 1500\\nPower Supply: Thermaltake Smart 500W 80+ | price: </span>\n",
       "<span style=\"color: #008000; text-decoration-color: #008000\">1500\\nCase: Cooler Master MasterBox Q300L | price: 1200\\nCase Fan: ARCTIC P12 PWM PST 120mm | price: 300\\n總價: </span>\n",
       "<span style=\"color: #008000; text-decoration-color: #008000\">15300'</span>,\n",
       "    <span style=\"color: #008000; text-decoration-color: #008000\">'buildmate_recommendation'</span>: <span style=\"color: #008000; text-decoration-color: #008000\">'CPU: AMD Ryzen 5 5600G | price: 7500\\nMotherboard: MSI B450M PRO-VDH MAX | price: </span>\n",
       "<span style=\"color: #008000; text-decoration-color: #008000\">3000\\nMemory: Corsair Vengeance LPX 16GB (2 x 8GB) DDR4 3200MHz | price: 2000\\nGPU: NVIDIA GeForce GTX 1650 | </span>\n",
       "<span style=\"color: #008000; text-decoration-color: #008000\">price: 8000\\nSSD: MSI B450M PRO-VDH MAX | price: 3000\\nPower Supply: Corsair CV450 450W 80 PLUS Bronze | price: </span>\n",
       "<span style=\"color: #008000; text-decoration-color: #008000\">1500\\nCase: Cooler Master MasterBox Q300L | price: 1200\\nCase Fan: Cooler Master Hyper 212 LED | price: 1200\\n總價:</span>\n",
       "<span style=\"color: #008000; text-decoration-color: #008000\">27400'</span>\n",
       "<span style=\"font-weight: bold\">}</span>\n",
       "</pre>\n"
      ],
      "text/plain": [
       "\u001b[1m{\u001b[0m\n",
       "    \u001b[32m'question_id'\u001b[0m: \u001b[1;36m1\u001b[0m,\n",
       "    \u001b[32m'question'\u001b[0m: \u001b[32m'請問30000元內能組一台什麼樣的主機，主要是玩LOL和看Netflix用，機殼要小且多彩？'\u001b[0m,\n",
       "    \u001b[32m'gpt4o_recommendation'\u001b[0m: \u001b[32m'CPU: AMD Ryzen 5 5600G | price: 5500\\nMotherboard: ASUS TUF Gaming B550M-PLUS | price:\u001b[0m\n",
       "\u001b[32m3500\\nMemory: Corsair Vengeance LPX 16GB \u001b[0m\u001b[32m(\u001b[0m\u001b[32m2x8GB\u001b[0m\u001b[32m)\u001b[0m\u001b[32m DDR4-3200 | price: 1800\\nGPU: AMD Radeon Graphics \u001b[0m\u001b[32m(\u001b[0m\u001b[32mintegrated\u001b[0m\u001b[32m)\u001b[0m\u001b[32m | \u001b[0m\n",
       "\u001b[32mprice: 0\\nSSD: Crucial P3 500GB NVMe SSD | price: 1500\\nPower Supply: Thermaltake Smart 500W 80+ | price: \u001b[0m\n",
       "\u001b[32m1500\\nCase: Cooler Master MasterBox Q300L | price: 1200\\nCase Fan: ARCTIC P12 PWM PST 120mm | price: 300\\n總價: \u001b[0m\n",
       "\u001b[32m15300'\u001b[0m,\n",
       "    \u001b[32m'buildmate_recommendation'\u001b[0m: \u001b[32m'CPU: AMD Ryzen 5 5600G | price: 7500\\nMotherboard: MSI B450M PRO-VDH MAX | price: \u001b[0m\n",
       "\u001b[32m3000\\nMemory: Corsair Vengeance LPX 16GB \u001b[0m\u001b[32m(\u001b[0m\u001b[32m2 x 8GB\u001b[0m\u001b[32m)\u001b[0m\u001b[32m DDR4 3200MHz | price: 2000\\nGPU: NVIDIA GeForce GTX 1650 | \u001b[0m\n",
       "\u001b[32mprice: 8000\\nSSD: MSI B450M PRO-VDH MAX | price: 3000\\nPower Supply: Corsair CV450 450W 80 PLUS Bronze | price: \u001b[0m\n",
       "\u001b[32m1500\\nCase: Cooler Master MasterBox Q300L | price: 1200\\nCase Fan: Cooler Master Hyper 212 LED | price: 1200\\n總價:\u001b[0m\n",
       "\u001b[32m27400'\u001b[0m\n",
       "\u001b[1m}\u001b[0m\n"
      ]
     },
     "metadata": {},
     "output_type": "display_data"
    },
    {
     "data": {
      "text/html": [
       "<pre style=\"white-space:pre;overflow-x:auto;line-height:normal;font-family:Menlo,'DejaVu Sans Mono',consolas,'Courier New',monospace\">Agent1: <span style=\"font-weight: bold\">[</span>對gpt4o評價<span style=\"font-weight: bold\">]</span>: <span style=\"color: #008080; text-decoration-color: #008080; font-weight: bold\">7</span>  \n",
       "<span style=\"font-weight: bold\">[</span>對BuildMate評價<span style=\"font-weight: bold\">]</span>: <span style=\"color: #008080; text-decoration-color: #008080; font-weight: bold\">8</span>  \n",
       "\n",
       "<span style=\"font-weight: bold\">[</span>簡短原因<span style=\"font-weight: bold\">]</span>:  \n",
       "gpt4o方案更省預算，適合LOL和Netflix，但效能受限於整合顯示卡；BuildMate方案有GTX \n",
       "<span style=\"color: #008080; text-decoration-color: #008080; font-weight: bold\">1650</span>，效能更高，但價格接近預算上限，散熱和電源稍弱於理想配置。\n",
       "</pre>\n"
      ],
      "text/plain": [
       "Agent1: \u001b[1m[\u001b[0m對gpt4o評價\u001b[1m]\u001b[0m: \u001b[1;36m7\u001b[0m  \n",
       "\u001b[1m[\u001b[0m對BuildMate評價\u001b[1m]\u001b[0m: \u001b[1;36m8\u001b[0m  \n",
       "\n",
       "\u001b[1m[\u001b[0m簡短原因\u001b[1m]\u001b[0m:  \n",
       "gpt4o方案更省預算，適合LOL和Netflix，但效能受限於整合顯示卡；BuildMate方案有GTX \n",
       "\u001b[1;36m1650\u001b[0m，效能更高，但價格接近預算上限，散熱和電源稍弱於理想配置。\n"
      ]
     },
     "metadata": {},
     "output_type": "display_data"
    },
    {
     "name": "stdout",
     "output_type": "stream",
     "text": [
      "======\n"
     ]
    },
    {
     "data": {
      "text/html": [
       "<pre style=\"white-space:pre;overflow-x:auto;line-height:normal;font-family:Menlo,'DejaVu Sans Mono',consolas,'Courier New',monospace\">Agent2: <span style=\"font-weight: bold\">[</span>對gpt4o評價<span style=\"font-weight: bold\">]</span>: <span style=\"color: #008080; text-decoration-color: #008080; font-weight: bold\">8</span>  \n",
       "<span style=\"font-weight: bold\">[</span>對BuildMate評價<span style=\"font-weight: bold\">]</span>: <span style=\"color: #008080; text-decoration-color: #008080; font-weight: bold\">7</span>  \n",
       "\n",
       "<span style=\"font-weight: bold\">[</span>簡短原因<span style=\"font-weight: bold\">]</span>:  \n",
       "gpt4o方案以整合顯卡為主，效能足夠應付LOL和Netflix，價格低且預算分配合理；BuildMate方案有獨顯，效能更高但價格偏高，\n",
       "且CPU和GPU搭配性價比不佳。\n",
       "</pre>\n"
      ],
      "text/plain": [
       "Agent2: \u001b[1m[\u001b[0m對gpt4o評價\u001b[1m]\u001b[0m: \u001b[1;36m8\u001b[0m  \n",
       "\u001b[1m[\u001b[0m對BuildMate評價\u001b[1m]\u001b[0m: \u001b[1;36m7\u001b[0m  \n",
       "\n",
       "\u001b[1m[\u001b[0m簡短原因\u001b[1m]\u001b[0m:  \n",
       "gpt4o方案以整合顯卡為主，效能足夠應付LOL和Netflix，價格低且預算分配合理；BuildMate方案有獨顯，效能更高但價格偏高，\n",
       "且CPU和GPU搭配性價比不佳。\n"
      ]
     },
     "metadata": {},
     "output_type": "display_data"
    },
    {
     "name": "stdout",
     "output_type": "stream",
     "text": [
      "======\n"
     ]
    },
    {
     "data": {
      "text/html": [
       "<pre style=\"white-space:pre;overflow-x:auto;line-height:normal;font-family:Menlo,'DejaVu Sans Mono',consolas,'Courier New',monospace\">Agent3: <span style=\"font-weight: bold\">[</span>對gpt4o評價<span style=\"font-weight: bold\">]</span>: <span style=\"color: #008080; text-decoration-color: #008080; font-weight: bold\">8</span>  \n",
       "<span style=\"font-weight: bold\">[</span>對BuildMate評價<span style=\"font-weight: bold\">]</span>: <span style=\"color: #008080; text-decoration-color: #008080; font-weight: bold\">7</span>  \n",
       "\n",
       "<span style=\"font-weight: bold\">[</span>簡短原因<span style=\"font-weight: bold\">]</span>:  \n",
       "gpt4o方案效能足夠應付LOL和Netflix，價格低且預算分配合理，但整合顯卡效能有限；BuildMate方案有獨顯，效能更高，但價格\n",
       "接近預算上限，且CPU與GPU搭配性價比不佳。\n",
       "</pre>\n"
      ],
      "text/plain": [
       "Agent3: \u001b[1m[\u001b[0m對gpt4o評價\u001b[1m]\u001b[0m: \u001b[1;36m8\u001b[0m  \n",
       "\u001b[1m[\u001b[0m對BuildMate評價\u001b[1m]\u001b[0m: \u001b[1;36m7\u001b[0m  \n",
       "\n",
       "\u001b[1m[\u001b[0m簡短原因\u001b[1m]\u001b[0m:  \n",
       "gpt4o方案效能足夠應付LOL和Netflix，價格低且預算分配合理，但整合顯卡效能有限；BuildMate方案有獨顯，效能更高，但價格\n",
       "接近預算上限，且CPU與GPU搭配性價比不佳。\n"
      ]
     },
     "metadata": {},
     "output_type": "display_data"
    },
    {
     "name": "stdout",
     "output_type": "stream",
     "text": [
      "======\n"
     ]
    },
    {
     "data": {
      "text/html": [
       "<pre style=\"white-space:pre;overflow-x:auto;line-height:normal;font-family:Menlo,'DejaVu Sans Mono',consolas,'Courier New',monospace\">Coordinator: 已達成共識，gpt4o較佳：效能足夠應付LOL和Netflix，價格低且預算分配合理，適合需求。\n",
       "</pre>\n"
      ],
      "text/plain": [
       "Coordinator: 已達成共識，gpt4o較佳：效能足夠應付LOL和Netflix，價格低且預算分配合理，適合需求。\n"
      ]
     },
     "metadata": {},
     "output_type": "display_data"
    },
    {
     "name": "stdout",
     "output_type": "stream",
     "text": [
      "======\n"
     ]
    },
    {
     "data": {
      "text/html": [
       "<pre style=\"white-space:pre;overflow-x:auto;line-height:normal;font-family:Menlo,'DejaVu Sans Mono',consolas,'Courier New',monospace\">Agent1: <span style=\"font-weight: bold\">[</span>對gpt4o評價<span style=\"font-weight: bold\">]</span>: <span style=\"color: #008080; text-decoration-color: #008080; font-weight: bold\">8</span>  \n",
       "<span style=\"font-weight: bold\">[</span>對BuildMate評價<span style=\"font-weight: bold\">]</span>: <span style=\"color: #008080; text-decoration-color: #008080; font-weight: bold\">7</span>  \n",
       "\n",
       "<span style=\"font-weight: bold\">[</span>簡短原因<span style=\"font-weight: bold\">]</span>:  \n",
       "gpt4o方案效能足夠應付LOL和Netflix，價格低且預算分配合理，散熱與電源穩定性良好；BuildMate方案有獨顯提升效能，但價格\n",
       "偏高，電源瓦數不足，穩定性稍弱。\n",
       "</pre>\n"
      ],
      "text/plain": [
       "Agent1: \u001b[1m[\u001b[0m對gpt4o評價\u001b[1m]\u001b[0m: \u001b[1;36m8\u001b[0m  \n",
       "\u001b[1m[\u001b[0m對BuildMate評價\u001b[1m]\u001b[0m: \u001b[1;36m7\u001b[0m  \n",
       "\n",
       "\u001b[1m[\u001b[0m簡短原因\u001b[1m]\u001b[0m:  \n",
       "gpt4o方案效能足夠應付LOL和Netflix，價格低且預算分配合理，散熱與電源穩定性良好；BuildMate方案有獨顯提升效能，但價格\n",
       "偏高，電源瓦數不足，穩定性稍弱。\n"
      ]
     },
     "metadata": {},
     "output_type": "display_data"
    },
    {
     "name": "stdout",
     "output_type": "stream",
     "text": [
      "======\n"
     ]
    },
    {
     "data": {
      "text/html": [
       "<pre style=\"white-space:pre;overflow-x:auto;line-height:normal;font-family:Menlo,'DejaVu Sans Mono',consolas,'Courier New',monospace\">Agent2: <span style=\"font-weight: bold\">[</span>對gpt4o評價<span style=\"font-weight: bold\">]</span>: <span style=\"color: #008080; text-decoration-color: #008080; font-weight: bold\">9</span>  \n",
       "<span style=\"font-weight: bold\">[</span>對BuildMate評價<span style=\"font-weight: bold\">]</span>: <span style=\"color: #008080; text-decoration-color: #008080; font-weight: bold\">7</span>  \n",
       "\n",
       "<span style=\"font-weight: bold\">[</span>簡短原因<span style=\"font-weight: bold\">]</span>:  \n",
       "gpt4o方案效能足夠應付LOL和Netflix，價格僅15300，預算分配合理且機殼小巧；BuildMate有獨顯效能更高，但價格接近預算上限\n",
       "，CPU與GPU搭配性價比不佳，電源瓦數偏低。\n",
       "</pre>\n"
      ],
      "text/plain": [
       "Agent2: \u001b[1m[\u001b[0m對gpt4o評價\u001b[1m]\u001b[0m: \u001b[1;36m9\u001b[0m  \n",
       "\u001b[1m[\u001b[0m對BuildMate評價\u001b[1m]\u001b[0m: \u001b[1;36m7\u001b[0m  \n",
       "\n",
       "\u001b[1m[\u001b[0m簡短原因\u001b[1m]\u001b[0m:  \n",
       "gpt4o方案效能足夠應付LOL和Netflix，價格僅15300，預算分配合理且機殼小巧；BuildMate有獨顯效能更高，但價格接近預算上限\n",
       "，CPU與GPU搭配性價比不佳，電源瓦數偏低。\n"
      ]
     },
     "metadata": {},
     "output_type": "display_data"
    },
    {
     "name": "stdout",
     "output_type": "stream",
     "text": [
      "======\n"
     ]
    },
    {
     "data": {
      "text/html": [
       "<pre style=\"white-space:pre;overflow-x:auto;line-height:normal;font-family:Menlo,'DejaVu Sans Mono',consolas,'Courier New',monospace\">Agent3: <span style=\"font-weight: bold\">[</span>對gpt4o評價<span style=\"font-weight: bold\">]</span>: <span style=\"color: #008080; text-decoration-color: #008080; font-weight: bold\">9</span>  \n",
       "<span style=\"font-weight: bold\">[</span>對BuildMate評價<span style=\"font-weight: bold\">]</span>: <span style=\"color: #008080; text-decoration-color: #008080; font-weight: bold\">7</span>  \n",
       "\n",
       "<span style=\"font-weight: bold\">[</span>簡短原因<span style=\"font-weight: bold\">]</span>:  \n",
       "gpt4o方案效能足夠應付LOL和Netflix，價格僅15300，預算分配合理，機殼小巧且散熱穩定；BuildMate方案有獨顯提升效能，但價\n",
       "格接近預算上限，電源瓦數不足，性價比不佳。\n",
       "</pre>\n"
      ],
      "text/plain": [
       "Agent3: \u001b[1m[\u001b[0m對gpt4o評價\u001b[1m]\u001b[0m: \u001b[1;36m9\u001b[0m  \n",
       "\u001b[1m[\u001b[0m對BuildMate評價\u001b[1m]\u001b[0m: \u001b[1;36m7\u001b[0m  \n",
       "\n",
       "\u001b[1m[\u001b[0m簡短原因\u001b[1m]\u001b[0m:  \n",
       "gpt4o方案效能足夠應付LOL和Netflix，價格僅15300，預算分配合理，機殼小巧且散熱穩定；BuildMate方案有獨顯提升效能，但價\n",
       "格接近預算上限，電源瓦數不足，性價比不佳。\n"
      ]
     },
     "metadata": {},
     "output_type": "display_data"
    },
    {
     "name": "stdout",
     "output_type": "stream",
     "text": [
      "======\n"
     ]
    },
    {
     "data": {
      "text/html": [
       "<pre style=\"white-space:pre;overflow-x:auto;line-height:normal;font-family:Menlo,'DejaVu Sans Mono',consolas,'Courier New',monospace\">Coordinator: \n",
       "已達成共識，gpt4o較佳：效能足夠應付LOL和Netflix，價格低至15300，預算分配合理，機殼小巧且散熱穩定，性價比更高。\n",
       "</pre>\n"
      ],
      "text/plain": [
       "Coordinator: \n",
       "已達成共識，gpt4o較佳：效能足夠應付LOL和Netflix，價格低至15300，預算分配合理，機殼小巧且散熱穩定，性價比更高。\n"
      ]
     },
     "metadata": {},
     "output_type": "display_data"
    },
    {
     "name": "stdout",
     "output_type": "stream",
     "text": [
      "======\n",
      "{'Coordinator': {'messages': [HumanMessage(content='Agent1: [對gpt4o評價]: 7  \\n[對BuildMate評價]: 8  \\n\\n[簡短原因]:  \\ngpt4o方案更省預算，適合LOL和Netflix，但效能受限於整合顯示卡；BuildMate方案有GTX 1650，效能更高，但價格接近預算上限，散熱和電源稍弱於理想配置。', additional_kwargs={}, response_metadata={}), HumanMessage(content='Agent2: [對gpt4o評價]: 8  \\n[對BuildMate評價]: 7  \\n\\n[簡短原因]:  \\ngpt4o方案以整合顯卡為主，效能足夠應付LOL和Netflix，價格低且預算分配合理；BuildMate方案有獨顯，效能更高但價格偏高，且CPU和GPU搭配性價比不佳。', additional_kwargs={}, response_metadata={}), HumanMessage(content='Agent3: [對gpt4o評價]: 8  \\n[對BuildMate評價]: 7  \\n\\n[簡短原因]:  \\ngpt4o方案效能足夠應付LOL和Netflix，價格低且預算分配合理，但整合顯卡效能有限；BuildMate方案有獨顯，效能更高，但價格接近預算上限，且CPU與GPU搭配性價比不佳。', additional_kwargs={}, response_metadata={}), HumanMessage(content='Coordinator: 已達成共識，gpt4o較佳：效能足夠應付LOL和Netflix，價格低且預算分配合理，適合需求。', additional_kwargs={}, response_metadata={}), HumanMessage(content='Agent1: [對gpt4o評價]: 8  \\n[對BuildMate評價]: 7  \\n\\n[簡短原因]:  \\ngpt4o方案效能足夠應付LOL和Netflix，價格低且預算分配合理，散熱與電源穩定性良好；BuildMate方案有獨顯提升效能，但價格偏高，電源瓦數不足，穩定性稍弱。', additional_kwargs={}, response_metadata={}), HumanMessage(content='Agent2: [對gpt4o評價]: 9  \\n[對BuildMate評價]: 7  \\n\\n[簡短原因]:  \\ngpt4o方案效能足夠應付LOL和Netflix，價格僅15300，預算分配合理且機殼小巧；BuildMate有獨顯效能更高，但價格接近預算上限，CPU與GPU搭配性價比不佳，電源瓦數偏低。', additional_kwargs={}, response_metadata={}), HumanMessage(content='Agent3: [對gpt4o評價]: 9  \\n[對BuildMate評價]: 7  \\n\\n[簡短原因]:  \\ngpt4o方案效能足夠應付LOL和Netflix，價格僅15300，預算分配合理，機殼小巧且散熱穩定；BuildMate方案有獨顯提升效能，但價格接近預算上限，電源瓦數不足，性價比不佳。', additional_kwargs={}, response_metadata={}), HumanMessage(content='Coordinator: 已達成共識，gpt4o較佳：效能足夠應付LOL和Netflix，價格低至15300，預算分配合理，機殼小巧且散熱穩定，性價比更高。', additional_kwargs={}, response_metadata={})], 'next_agent': '__end__', 'question_id': 1, 'question': '請問30000元內能組一台什麼樣的主機，主要是玩LOL和看Netflix用，機殼要小且多彩？', 'gpt4o_recommendation': 'CPU: AMD Ryzen 5 5600G | price: 5500\\nMotherboard: ASUS TUF Gaming B550M-PLUS | price: 3500\\nMemory: Corsair Vengeance LPX 16GB (2x8GB) DDR4-3200 | price: 1800\\nGPU: AMD Radeon Graphics (integrated) | price: 0\\nSSD: Crucial P3 500GB NVMe SSD | price: 1500\\nPower Supply: Thermaltake Smart 500W 80+ | price: 1500\\nCase: Cooler Master MasterBox Q300L | price: 1200\\nCase Fan: ARCTIC P12 PWM PST 120mm | price: 300\\n總價: 15300', 'buildmate_recommendation': 'CPU: AMD Ryzen 5 5600G | price: 7500\\nMotherboard: MSI B450M PRO-VDH MAX | price: 3000\\nMemory: Corsair Vengeance LPX 16GB (2 x 8GB) DDR4 3200MHz | price: 2000\\nGPU: NVIDIA GeForce GTX 1650 | price: 8000\\nSSD: MSI B450M PRO-VDH MAX | price: 3000\\nPower Supply: Corsair CV450 450W 80 PLUS Bronze | price: 1500\\nCase: Cooler Master MasterBox Q300L | price: 1200\\nCase Fan: Cooler Master Hyper 212 LED | price: 1200\\n總價: 27400', 'agent_scores': {'Agent1_round1': {'gpt4o_score': 7, 'buildmate_score': 8, 'reason': 'gpt4o方案更省預算，適合LOL和Netflix，但效能受限於整合顯示卡；BuildMate方案有GTX 1650，效能更高，但價格接近預算上限，散熱和電源稍弱於理想配置。'}, 'Agent2_round1': {'gpt4o_score': 8, 'buildmate_score': 7, 'reason': 'gpt4o方案以整合顯卡為主，效能足夠應付LOL和Netflix，價格低且預算分配合理；BuildMate方案有獨顯，效能更高但價格偏高，且CPU和GPU搭配性價比不佳。'}, 'Agent3_round1': {'gpt4o_score': 8, 'buildmate_score': 7, 'reason': 'gpt4o方案效能足夠應付LOL和Netflix，價格低且預算分配合理，但整合顯卡效能有限；BuildMate方案有獨顯，效能更高，但價格接近預算上限，且CPU與GPU搭配性價比不佳。'}, 'Agent1_round2': {'gpt4o_score': 8, 'buildmate_score': 7, 'reason': 'gpt4o方案效能足夠應付LOL和Netflix，價格低且預算分配合理，散熱與電源穩定性良好；BuildMate方案有獨顯提升效能，但價格偏高，電源瓦數不足，穩定性稍弱。'}, 'Agent2_round2': {'gpt4o_score': 9, 'buildmate_score': 7, 'reason': 'gpt4o方案效能足夠應付LOL和Netflix，價格僅15300，預算分配合理且機殼小巧；BuildMate有獨顯效能更高，但價格接近預算上限，CPU與GPU搭配性價比不佳，電源瓦數偏低。'}, 'Agent3_round2': {'gpt4o_score': 9, 'buildmate_score': 7, 'reason': 'gpt4o方案效能足夠應付LOL和Netflix，價格僅15300，預算分配合理，機殼小巧且散熱穩定；BuildMate方案有獨顯提升效能，但價格接近預算上限，電源瓦數不足，性價比不佳。'}}, 'round_count': 2, 'max_rounds': 3, 'consensus_reached': True}}\n",
      "{\n",
      "  \"question_id\": 1,\n",
      "  \"question\": \"請問30000元內能組一台什麼樣的主機，主要是玩LOL和看Netflix用，機殼要小且多彩？\",\n",
      "  \"buildmate_recommendation\": \"CPU: AMD Ryzen 5 5600G | price: 7500\\nMotherboard: MSI B450M PRO-VDH MAX | price: 3000\\nMemory: Corsair Vengeance LPX 16GB (2 x 8GB) DDR4 3200MHz | price: 2000\\nGPU: NVIDIA GeForce GTX 1650 | price: 8000\\nSSD: MSI B450M PRO-VDH MAX | price: 3000\\nPower Supply: Corsair CV450 450W 80 PLUS Bronze | price: 1500\\nCase: Cooler Master MasterBox Q300L | price: 1200\\nCase Fan: Cooler Master Hyper 212 LED | price: 1200\\n總價: 27400\",\n",
      "  \"gpt4o_recommendation\": \"CPU: AMD Ryzen 5 5600G | price: 5500\\nMotherboard: ASUS TUF Gaming B550M-PLUS | price: 3500\\nMemory: Corsair Vengeance LPX 16GB (2x8GB) DDR4-3200 | price: 1800\\nGPU: AMD Radeon Graphics (integrated) | price: 0\\nSSD: Crucial P3 500GB NVMe SSD | price: 1500\\nPower Supply: Thermaltake Smart 500W 80+ | price: 1500\\nCase: Cooler Master MasterBox Q300L | price: 1200\\nCase Fan: ARCTIC P12 PWM PST 120mm | price: 300\\n總價: 15300\",\n",
      "  \"winner\": 0,\n",
      "  \"buildmate_avg_score\": 7.166666666666667,\n",
      "  \"gpt4o_avg_score\": 8.166666666666666,\n",
      "  \"rounds\": [\n",
      "    {\n",
      "      \"round_number\": 1,\n",
      "      \"Agent1\": {\n",
      "        \"gpt4o_score\": 7,\n",
      "        \"buildmate_score\": 8,\n",
      "        \"reason\": \"gpt4o方案更省預算，適合LOL和Netflix，但效能受限於整合顯示卡；BuildMate方案有GTX 1650，效能更高，但價格接近預算上限，散熱和電源稍弱於理想配置。\"\n",
      "      },\n",
      "      \"Agent2\": {\n",
      "        \"gpt4o_score\": 8,\n",
      "        \"buildmate_score\": 7,\n",
      "        \"reason\": \"gpt4o方案以整合顯卡為主，效能足夠應付LOL和Netflix，價格低且預算分配合理；BuildMate方案有獨顯，效能更高但價格偏高，且CPU和GPU搭配性價比不佳。\"\n",
      "      },\n",
      "      \"Agent3\": {\n",
      "        \"gpt4o_score\": 8,\n",
      "        \"buildmate_score\": 7,\n",
      "        \"reason\": \"gpt4o方案效能足夠應付LOL和Netflix，價格低且預算分配合理，但整合顯卡效能有限；BuildMate方案有獨顯，效能更高，但價格接近預算上限，且CPU與GPU搭配性價比不佳。\"\n",
      "      }\n",
      "    },\n",
      "    {\n",
      "      \"round_number\": 2,\n",
      "      \"Agent1\": {\n",
      "        \"gpt4o_score\": 8,\n",
      "        \"buildmate_score\": 7,\n",
      "        \"reason\": \"gpt4o方案效能足夠應付LOL和Netflix，價格低且預算分配合理，散熱與電源穩定性良好；BuildMate方案有獨顯提升效能，但價格偏高，電源瓦數不足，穩定性稍弱。\"\n",
      "      },\n",
      "      \"Agent2\": {\n",
      "        \"gpt4o_score\": 9,\n",
      "        \"buildmate_score\": 7,\n",
      "        \"reason\": \"gpt4o方案效能足夠應付LOL和Netflix，價格僅15300，預算分配合理且機殼小巧；BuildMate有獨顯效能更高，但價格接近預算上限，CPU與GPU搭配性價比不佳，電源瓦數偏低。\"\n",
      "      },\n",
      "      \"Agent3\": {\n",
      "        \"gpt4o_score\": 9,\n",
      "        \"buildmate_score\": 7,\n",
      "        \"reason\": \"gpt4o方案效能足夠應付LOL和Netflix，價格僅15300，預算分配合理，機殼小巧且散熱穩定；BuildMate方案有獨顯提升效能，但價格接近預算上限，電源瓦數不足，性價比不佳。\"\n",
      "      }\n",
      "    }\n",
      "  ]\n",
      "}\n"
     ]
    },
    {
     "data": {
      "text/html": [
       "<pre style=\"white-space:pre;overflow-x:auto;line-height:normal;font-family:Menlo,'DejaVu Sans Mono',consolas,'Courier New',monospace\"><span style=\"font-weight: bold\">{</span>\n",
       "    <span style=\"color: #008000; text-decoration-color: #008000\">'question_id'</span>: <span style=\"color: #008080; text-decoration-color: #008080; font-weight: bold\">2</span>,\n",
       "    <span style=\"color: #008000; text-decoration-color: #008000\">'question'</span>: <span style=\"color: #008000; text-decoration-color: #008000\">'有推薦的組合嗎？預算大概在50000元，要能處理攝影後製和輕遊戲，如：軒轅劍7。想找白色透側電競風機殼'</span>,\n",
       "    <span style=\"color: #008000; text-decoration-color: #008000\">'gpt4o_recommendation'</span>: <span style=\"color: #008000; text-decoration-color: #008000\">'CPU: AMD Ryzen 5 5600X | price: 5990\\nMotherboard: MSI B550M PRO-VDH WIFI | price: </span>\n",
       "<span style=\"color: #008000; text-decoration-color: #008000\">3290\\nMemory: Corsair Vengeance LPX 16GB (2x8GB) DDR4-3200 | price: 1800\\nGPU: AMD Radeon RX 6600 | price: </span>\n",
       "<span style=\"color: #008000; text-decoration-color: #008000\">8500\\nSSD: Western Digital Blue SN550 1TB | price: 2200\\nPower Supply: Seasonic S12III 650W 80+ Bronze | price: </span>\n",
       "<span style=\"color: #008000; text-decoration-color: #008000\">2500\\nCase: NZXT H510 | price: 2000\\nCase Fan: ARCTIC P12 PWM PST | price: 300\\n總價: 26580'</span>,\n",
       "    <span style=\"color: #008000; text-decoration-color: #008000\">'buildmate_recommendation'</span>: <span style=\"color: #008000; text-decoration-color: #008000\">'CPU: AMD Ryzen 5 5600X | price: 8500\\nMotherboard: AMD Ryzen 5 5600X | price: </span>\n",
       "<span style=\"color: #008000; text-decoration-color: #008000\">8500\\nMemory: Corsair Vengeance LPX 16GB (2 x 8GB) DDR4 3200MHz | price: 2500\\nGPU: NVIDIA GeForce GTX 1660 Super |</span>\n",
       "<span style=\"color: #008000; text-decoration-color: #008000\">price: 8000\\nSSD: 電源供應器（Corsair CV550 550W） | price: 2000\\nPower Supply: AMD Ryzen 5 5600X | price: </span>\n",
       "<span style=\"color: #008000; text-decoration-color: #008000\">8500\\nCase: Cooler Master MasterBox Q300L | price: 2000\\nCase Fan: Cooler Master Hyper 212 Black Edition | price: </span>\n",
       "<span style=\"color: #008000; text-decoration-color: #008000\">1600\\n總價: 41600'</span>\n",
       "<span style=\"font-weight: bold\">}</span>\n",
       "</pre>\n"
      ],
      "text/plain": [
       "\u001b[1m{\u001b[0m\n",
       "    \u001b[32m'question_id'\u001b[0m: \u001b[1;36m2\u001b[0m,\n",
       "    \u001b[32m'question'\u001b[0m: \u001b[32m'有推薦的組合嗎？預算大概在50000元，要能處理攝影後製和輕遊戲，如：軒轅劍7。想找白色透側電競風機殼'\u001b[0m,\n",
       "    \u001b[32m'gpt4o_recommendation'\u001b[0m: \u001b[32m'CPU: AMD Ryzen 5 5600X | price: 5990\\nMotherboard: MSI B550M PRO-VDH WIFI | price: \u001b[0m\n",
       "\u001b[32m3290\\nMemory: Corsair Vengeance LPX 16GB \u001b[0m\u001b[32m(\u001b[0m\u001b[32m2x8GB\u001b[0m\u001b[32m)\u001b[0m\u001b[32m DDR4-3200 | price: 1800\\nGPU: AMD Radeon RX 6600 | price: \u001b[0m\n",
       "\u001b[32m8500\\nSSD: Western Digital Blue SN550 1TB | price: 2200\\nPower Supply: Seasonic S12III 650W 80+ Bronze | price: \u001b[0m\n",
       "\u001b[32m2500\\nCase: NZXT H510 | price: 2000\\nCase Fan: ARCTIC P12 PWM PST | price: 300\\n總價: 26580'\u001b[0m,\n",
       "    \u001b[32m'buildmate_recommendation'\u001b[0m: \u001b[32m'CPU: AMD Ryzen 5 5600X | price: 8500\\nMotherboard: AMD Ryzen 5 5600X | price: \u001b[0m\n",
       "\u001b[32m8500\\nMemory: Corsair Vengeance LPX 16GB \u001b[0m\u001b[32m(\u001b[0m\u001b[32m2 x 8GB\u001b[0m\u001b[32m)\u001b[0m\u001b[32m DDR4 3200MHz | price: 2500\\nGPU: NVIDIA GeForce GTX 1660 Super |\u001b[0m\n",
       "\u001b[32mprice: 8000\\nSSD: 電源供應器（Corsair CV550 550W） | price: 2000\\nPower Supply: AMD Ryzen 5 5600X | price: \u001b[0m\n",
       "\u001b[32m8500\\nCase: Cooler Master MasterBox Q300L | price: 2000\\nCase Fan: Cooler Master Hyper 212 Black Edition | price: \u001b[0m\n",
       "\u001b[32m1600\\n總價: 41600'\u001b[0m\n",
       "\u001b[1m}\u001b[0m\n"
      ]
     },
     "metadata": {},
     "output_type": "display_data"
    },
    {
     "data": {
      "text/html": [
       "<pre style=\"white-space:pre;overflow-x:auto;line-height:normal;font-family:Menlo,'DejaVu Sans Mono',consolas,'Courier New',monospace\">Agent1: <span style=\"font-weight: bold\">[</span>對gpt4o評價<span style=\"font-weight: bold\">]</span>: <span style=\"color: #008080; text-decoration-color: #008080; font-weight: bold\">8</span>  \n",
       "<span style=\"font-weight: bold\">[</span>對BuildMate評價<span style=\"font-weight: bold\">]</span>: <span style=\"color: #008080; text-decoration-color: #008080; font-weight: bold\">4</span>  \n",
       "<span style=\"font-weight: bold\">[</span>簡短原因<span style=\"font-weight: bold\">]</span>:  \n",
       "gpt4o清單效能與穩定性較高，搭配合理，散熱與電源選擇適當；BuildMate清單存在重複與錯誤項目，組裝平衡性差，影響穩定性\n",
       "與效能發揮。\n",
       "</pre>\n"
      ],
      "text/plain": [
       "Agent1: \u001b[1m[\u001b[0m對gpt4o評價\u001b[1m]\u001b[0m: \u001b[1;36m8\u001b[0m  \n",
       "\u001b[1m[\u001b[0m對BuildMate評價\u001b[1m]\u001b[0m: \u001b[1;36m4\u001b[0m  \n",
       "\u001b[1m[\u001b[0m簡短原因\u001b[1m]\u001b[0m:  \n",
       "gpt4o清單效能與穩定性較高，搭配合理，散熱與電源選擇適當；BuildMate清單存在重複與錯誤項目，組裝平衡性差，影響穩定性\n",
       "與效能發揮。\n"
      ]
     },
     "metadata": {},
     "output_type": "display_data"
    },
    {
     "name": "stdout",
     "output_type": "stream",
     "text": [
      "======\n"
     ]
    },
    {
     "data": {
      "text/html": [
       "<pre style=\"white-space:pre;overflow-x:auto;line-height:normal;font-family:Menlo,'DejaVu Sans Mono',consolas,'Courier New',monospace\">Agent2: <span style=\"font-weight: bold\">[</span>對gpt4o評價<span style=\"font-weight: bold\">]</span>: <span style=\"color: #008080; text-decoration-color: #008080; font-weight: bold\">9</span>  \n",
       "<span style=\"font-weight: bold\">[</span>對BuildMate評價<span style=\"font-weight: bold\">]</span>: <span style=\"color: #008080; text-decoration-color: #008080; font-weight: bold\">2</span>  \n",
       "<span style=\"font-weight: bold\">[</span>簡短原因<span style=\"font-weight: bold\">]</span>:  \n",
       "gpt4o清單效能均衡，價格合理，適合攝影後製與輕遊戲；BuildMate清單有多處錯誤（重複CPU、電源標示錯誤），配置混亂且性價\n",
       "比極低。\n",
       "</pre>\n"
      ],
      "text/plain": [
       "Agent2: \u001b[1m[\u001b[0m對gpt4o評價\u001b[1m]\u001b[0m: \u001b[1;36m9\u001b[0m  \n",
       "\u001b[1m[\u001b[0m對BuildMate評價\u001b[1m]\u001b[0m: \u001b[1;36m2\u001b[0m  \n",
       "\u001b[1m[\u001b[0m簡短原因\u001b[1m]\u001b[0m:  \n",
       "gpt4o清單效能均衡，價格合理，適合攝影後製與輕遊戲；BuildMate清單有多處錯誤（重複CPU、電源標示錯誤），配置混亂且性價\n",
       "比極低。\n"
      ]
     },
     "metadata": {},
     "output_type": "display_data"
    },
    {
     "name": "stdout",
     "output_type": "stream",
     "text": [
      "======\n"
     ]
    },
    {
     "data": {
      "text/html": [
       "<pre style=\"white-space:pre;overflow-x:auto;line-height:normal;font-family:Menlo,'DejaVu Sans Mono',consolas,'Courier New',monospace\">Agent3: <span style=\"font-weight: bold\">[</span>對gpt4o評價<span style=\"font-weight: bold\">]</span>: <span style=\"color: #008080; text-decoration-color: #008080; font-weight: bold\">8</span>  \n",
       "<span style=\"font-weight: bold\">[</span>對BuildMate評價<span style=\"font-weight: bold\">]</span>: <span style=\"color: #008080; text-decoration-color: #008080; font-weight: bold\">2</span>  \n",
       "<span style=\"font-weight: bold\">[</span>簡短原因<span style=\"font-weight: bold\">]</span>:  \n",
       "gpt4o清單效能均衡，價格合理，但未滿足白色透側機殼需求；BuildMate清單配置混亂，重複與錯誤項目多，性價比極低且不符合\n",
       "需求。\n",
       "</pre>\n"
      ],
      "text/plain": [
       "Agent3: \u001b[1m[\u001b[0m對gpt4o評價\u001b[1m]\u001b[0m: \u001b[1;36m8\u001b[0m  \n",
       "\u001b[1m[\u001b[0m對BuildMate評價\u001b[1m]\u001b[0m: \u001b[1;36m2\u001b[0m  \n",
       "\u001b[1m[\u001b[0m簡短原因\u001b[1m]\u001b[0m:  \n",
       "gpt4o清單效能均衡，價格合理，但未滿足白色透側機殼需求；BuildMate清單配置混亂，重複與錯誤項目多，性價比極低且不符合\n",
       "需求。\n"
      ]
     },
     "metadata": {},
     "output_type": "display_data"
    },
    {
     "name": "stdout",
     "output_type": "stream",
     "text": [
      "======\n"
     ]
    },
    {
     "data": {
      "text/html": [
       "<pre style=\"white-space:pre;overflow-x:auto;line-height:normal;font-family:Menlo,'DejaVu Sans Mono',consolas,'Courier New',monospace\">Coordinator: 已達成共識，gpt4o較佳：效能穩定、性價比高，且配置均衡。\n",
       "</pre>\n"
      ],
      "text/plain": [
       "Coordinator: 已達成共識，gpt4o較佳：效能穩定、性價比高，且配置均衡。\n"
      ]
     },
     "metadata": {},
     "output_type": "display_data"
    },
    {
     "name": "stdout",
     "output_type": "stream",
     "text": [
      "======\n"
     ]
    },
    {
     "data": {
      "text/html": [
       "<pre style=\"white-space:pre;overflow-x:auto;line-height:normal;font-family:Menlo,'DejaVu Sans Mono',consolas,'Courier New',monospace\">Agent1: <span style=\"font-weight: bold\">[</span>對gpt4o評價<span style=\"font-weight: bold\">]</span>: <span style=\"color: #008080; text-decoration-color: #008080; font-weight: bold\">8</span>  \n",
       "<span style=\"font-weight: bold\">[</span>對BuildMate評價<span style=\"font-weight: bold\">]</span>: <span style=\"color: #008080; text-decoration-color: #008080; font-weight: bold\">2</span>  \n",
       "<span style=\"font-weight: bold\">[</span>簡短原因<span style=\"font-weight: bold\">]</span>:  \n",
       "gpt4o清單效能穩定，性價比高，適合攝影後製與輕遊戲，但未滿足白色透側機殼需求；BuildMate清單配置錯誤（重複CPU與電源）\n",
       "，效能與穩定性受損，完全不推薦。\n",
       "</pre>\n"
      ],
      "text/plain": [
       "Agent1: \u001b[1m[\u001b[0m對gpt4o評價\u001b[1m]\u001b[0m: \u001b[1;36m8\u001b[0m  \n",
       "\u001b[1m[\u001b[0m對BuildMate評價\u001b[1m]\u001b[0m: \u001b[1;36m2\u001b[0m  \n",
       "\u001b[1m[\u001b[0m簡短原因\u001b[1m]\u001b[0m:  \n",
       "gpt4o清單效能穩定，性價比高，適合攝影後製與輕遊戲，但未滿足白色透側機殼需求；BuildMate清單配置錯誤（重複CPU與電源）\n",
       "，效能與穩定性受損，完全不推薦。\n"
      ]
     },
     "metadata": {},
     "output_type": "display_data"
    },
    {
     "name": "stdout",
     "output_type": "stream",
     "text": [
      "======\n"
     ]
    },
    {
     "data": {
      "text/html": [
       "<pre style=\"white-space:pre;overflow-x:auto;line-height:normal;font-family:Menlo,'DejaVu Sans Mono',consolas,'Courier New',monospace\">Agent2: <span style=\"font-weight: bold\">[</span>對gpt4o評價<span style=\"font-weight: bold\">]</span>: <span style=\"color: #008080; text-decoration-color: #008080; font-weight: bold\">9</span>  \n",
       "<span style=\"font-weight: bold\">[</span>對BuildMate評價<span style=\"font-weight: bold\">]</span>: <span style=\"color: #008080; text-decoration-color: #008080; font-weight: bold\">1</span>  \n",
       "<span style=\"font-weight: bold\">[</span>簡短原因<span style=\"font-weight: bold\">]</span>:  \n",
       "gpt4o清單效能均衡，價格合理，適合攝影後製與輕遊戲，但未滿足白色透側機殼需求；BuildMate清單配置混亂，重複與錯誤項目\n",
       "多，性價比極低且不實用。\n",
       "\n",
       "---\n",
       "\n",
       "**推薦組合**（預算50000元，白色透側電競風機殼）：  \n",
       "- **CPU**: AMD Ryzen <span style=\"color: #008080; text-decoration-color: #008080; font-weight: bold\">5</span> 5600X | 約5990  \n",
       "- **主機板**: ASUS TUF GAMING B550-PLUS WIFI | 約4500  \n",
       "- **記憶體**: Corsair Vengeance RGB PRO 16GB <span style=\"font-weight: bold\">(</span>2x8GB<span style=\"font-weight: bold\">)</span> DDR4-<span style=\"color: #008080; text-decoration-color: #008080; font-weight: bold\">3600</span> | 約2500  \n",
       "- **顯示卡**: AMD Radeon RX <span style=\"color: #008080; text-decoration-color: #008080; font-weight: bold\">6700</span> XT | 約15000  \n",
       "- **SSD**: Samsung <span style=\"color: #008080; text-decoration-color: #008080; font-weight: bold\">970</span> EVO Plus 1TB | 約3200  \n",
       "- **電源供應器**: Seasonic Focus GX-750W <span style=\"color: #008080; text-decoration-color: #008080; font-weight: bold\">80</span>+ Gold | 約4000  \n",
       "- **機殼**: Lian Li Lancool II Mesh RGB（白色透側）| 約3500  \n",
       "- **風扇**: ARCTIC P12 PWM PST（額外3顆）| 約900  \n",
       "\n",
       "**總價**: 約49490  \n",
       "\n",
       "**理由**:  \n",
       "此組合效能更強，顯卡升級到RX <span style=\"color: #008080; text-decoration-color: #008080; font-weight: bold\">6700</span> XT，適合攝影後製與輕遊戲；選用白色透側電競風機殼，滿足需求，並提升散熱與穩定性。\n",
       "</pre>\n"
      ],
      "text/plain": [
       "Agent2: \u001b[1m[\u001b[0m對gpt4o評價\u001b[1m]\u001b[0m: \u001b[1;36m9\u001b[0m  \n",
       "\u001b[1m[\u001b[0m對BuildMate評價\u001b[1m]\u001b[0m: \u001b[1;36m1\u001b[0m  \n",
       "\u001b[1m[\u001b[0m簡短原因\u001b[1m]\u001b[0m:  \n",
       "gpt4o清單效能均衡，價格合理，適合攝影後製與輕遊戲，但未滿足白色透側機殼需求；BuildMate清單配置混亂，重複與錯誤項目\n",
       "多，性價比極低且不實用。\n",
       "\n",
       "---\n",
       "\n",
       "**推薦組合**（預算50000元，白色透側電競風機殼）：  \n",
       "- **CPU**: AMD Ryzen \u001b[1;36m5\u001b[0m 5600X | 約5990  \n",
       "- **主機板**: ASUS TUF GAMING B550-PLUS WIFI | 約4500  \n",
       "- **記憶體**: Corsair Vengeance RGB PRO 16GB \u001b[1m(\u001b[0m2x8GB\u001b[1m)\u001b[0m DDR4-\u001b[1;36m3600\u001b[0m | 約2500  \n",
       "- **顯示卡**: AMD Radeon RX \u001b[1;36m6700\u001b[0m XT | 約15000  \n",
       "- **SSD**: Samsung \u001b[1;36m970\u001b[0m EVO Plus 1TB | 約3200  \n",
       "- **電源供應器**: Seasonic Focus GX-750W \u001b[1;36m80\u001b[0m+ Gold | 約4000  \n",
       "- **機殼**: Lian Li Lancool II Mesh RGB（白色透側）| 約3500  \n",
       "- **風扇**: ARCTIC P12 PWM PST（額外3顆）| 約900  \n",
       "\n",
       "**總價**: 約49490  \n",
       "\n",
       "**理由**:  \n",
       "此組合效能更強，顯卡升級到RX \u001b[1;36m6700\u001b[0m XT，適合攝影後製與輕遊戲；選用白色透側電競風機殼，滿足需求，並提升散熱與穩定性。\n"
      ]
     },
     "metadata": {},
     "output_type": "display_data"
    },
    {
     "name": "stdout",
     "output_type": "stream",
     "text": [
      "======\n"
     ]
    },
    {
     "data": {
      "text/html": [
       "<pre style=\"white-space:pre;overflow-x:auto;line-height:normal;font-family:Menlo,'DejaVu Sans Mono',consolas,'Courier New',monospace\">Agent3: <span style=\"font-weight: bold\">[</span>對gpt4o評價<span style=\"font-weight: bold\">]</span>: <span style=\"color: #008080; text-decoration-color: #008080; font-weight: bold\">7</span>  \n",
       "<span style=\"font-weight: bold\">[</span>對BuildMate評價<span style=\"font-weight: bold\">]</span>: <span style=\"color: #008080; text-decoration-color: #008080; font-weight: bold\">1</span>  \n",
       "<span style=\"font-weight: bold\">[</span>簡短原因<span style=\"font-weight: bold\">]</span>:  \n",
       "gpt4o清單效能均衡，但顯卡與電源供應器稍弱，且未滿足白色透側機殼需求；BuildMate清單配置錯誤（重複CPU與電源），完全不\n",
       "符合需求，性價比極低。\n",
       "\n",
       "---\n",
       "\n",
       "**推薦組合**（預算50000元，白色透側電競風機殼）：  \n",
       "- **CPU**: AMD Ryzen <span style=\"color: #008080; text-decoration-color: #008080; font-weight: bold\">5</span> 5600X | 約5990  \n",
       "- **主機板**: ASUS TUF GAMING B550-PLUS WIFI | 約4500  \n",
       "- **記憶體**: Corsair Vengeance RGB PRO 16GB <span style=\"font-weight: bold\">(</span>2x8GB<span style=\"font-weight: bold\">)</span> DDR4-<span style=\"color: #008080; text-decoration-color: #008080; font-weight: bold\">3600</span> | 約2500  \n",
       "- **顯示卡**: AMD Radeon RX <span style=\"color: #008080; text-decoration-color: #008080; font-weight: bold\">6700</span> XT | 約15000  \n",
       "- **SSD**: Samsung <span style=\"color: #008080; text-decoration-color: #008080; font-weight: bold\">970</span> EVO Plus 1TB | 約3200  \n",
       "- **電源供應器**: Seasonic Focus GX-750W <span style=\"color: #008080; text-decoration-color: #008080; font-weight: bold\">80</span>+ Gold | 約4000  \n",
       "- **機殼**: Lian Li Lancool II Mesh RGB（白色透側）| 約3500  \n",
       "- **風扇**: ARCTIC P12 PWM PST（額外3顆）| 約900  \n",
       "\n",
       "**總價**: 約49490  \n",
       "\n",
       "**理由**:  \n",
       "此組合在預算內，顯卡升級到RX <span style=\"color: #008080; text-decoration-color: #008080; font-weight: bold\">6700</span> \n",
       "XT，效能更強，適合攝影後製與輕遊戲；選用白色透側電競風機殼，滿足外觀需求，並提升散熱與穩定性。\n",
       "</pre>\n"
      ],
      "text/plain": [
       "Agent3: \u001b[1m[\u001b[0m對gpt4o評價\u001b[1m]\u001b[0m: \u001b[1;36m7\u001b[0m  \n",
       "\u001b[1m[\u001b[0m對BuildMate評價\u001b[1m]\u001b[0m: \u001b[1;36m1\u001b[0m  \n",
       "\u001b[1m[\u001b[0m簡短原因\u001b[1m]\u001b[0m:  \n",
       "gpt4o清單效能均衡，但顯卡與電源供應器稍弱，且未滿足白色透側機殼需求；BuildMate清單配置錯誤（重複CPU與電源），完全不\n",
       "符合需求，性價比極低。\n",
       "\n",
       "---\n",
       "\n",
       "**推薦組合**（預算50000元，白色透側電競風機殼）：  \n",
       "- **CPU**: AMD Ryzen \u001b[1;36m5\u001b[0m 5600X | 約5990  \n",
       "- **主機板**: ASUS TUF GAMING B550-PLUS WIFI | 約4500  \n",
       "- **記憶體**: Corsair Vengeance RGB PRO 16GB \u001b[1m(\u001b[0m2x8GB\u001b[1m)\u001b[0m DDR4-\u001b[1;36m3600\u001b[0m | 約2500  \n",
       "- **顯示卡**: AMD Radeon RX \u001b[1;36m6700\u001b[0m XT | 約15000  \n",
       "- **SSD**: Samsung \u001b[1;36m970\u001b[0m EVO Plus 1TB | 約3200  \n",
       "- **電源供應器**: Seasonic Focus GX-750W \u001b[1;36m80\u001b[0m+ Gold | 約4000  \n",
       "- **機殼**: Lian Li Lancool II Mesh RGB（白色透側）| 約3500  \n",
       "- **風扇**: ARCTIC P12 PWM PST（額外3顆）| 約900  \n",
       "\n",
       "**總價**: 約49490  \n",
       "\n",
       "**理由**:  \n",
       "此組合在預算內，顯卡升級到RX \u001b[1;36m6700\u001b[0m \n",
       "XT，效能更強，適合攝影後製與輕遊戲；選用白色透側電競風機殼，滿足外觀需求，並提升散熱與穩定性。\n"
      ]
     },
     "metadata": {},
     "output_type": "display_data"
    },
    {
     "name": "stdout",
     "output_type": "stream",
     "text": [
      "======\n"
     ]
    },
    {
     "data": {
      "text/html": [
       "<pre style=\"white-space:pre;overflow-x:auto;line-height:normal;font-family:Menlo,'DejaVu Sans Mono',consolas,'Courier New',monospace\">Coordinator: 未達共識\n",
       "</pre>\n"
      ],
      "text/plain": [
       "Coordinator: 未達共識\n"
      ]
     },
     "metadata": {},
     "output_type": "display_data"
    },
    {
     "name": "stdout",
     "output_type": "stream",
     "text": [
      "======\n"
     ]
    },
    {
     "data": {
      "text/html": [
       "<pre style=\"white-space:pre;overflow-x:auto;line-height:normal;font-family:Menlo,'DejaVu Sans Mono',consolas,'Courier New',monospace\">Agent1: <span style=\"font-weight: bold\">[</span>對gpt4o評價<span style=\"font-weight: bold\">]</span>: <span style=\"color: #008080; text-decoration-color: #008080; font-weight: bold\">7</span>  \n",
       "<span style=\"font-weight: bold\">[</span>對BuildMate評價<span style=\"font-weight: bold\">]</span>: <span style=\"color: #008080; text-decoration-color: #008080; font-weight: bold\">1</span>  \n",
       "<span style=\"font-weight: bold\">[</span>簡短原因<span style=\"font-weight: bold\">]</span>:  \n",
       "gpt4o清單效能均衡，但顯卡與電源供應器稍弱，且未滿足白色透側機殼需求；BuildMate清單配置錯誤（重複CPU與電源），完全不\n",
       "符合需求，性價比極低。\n",
       "\n",
       "---\n",
       "\n",
       "**推薦組合**（預算50000元，白色透側電競風機殼）：  \n",
       "- **CPU**: AMD Ryzen <span style=\"color: #008080; text-decoration-color: #008080; font-weight: bold\">5</span> 5600X | 約5990  \n",
       "- **主機板**: ASUS TUF GAMING B550-PLUS WIFI | 約4500  \n",
       "- **記憶體**: Corsair Vengeance RGB PRO 16GB <span style=\"font-weight: bold\">(</span>2x8GB<span style=\"font-weight: bold\">)</span> DDR4-<span style=\"color: #008080; text-decoration-color: #008080; font-weight: bold\">3600</span> | 約2500  \n",
       "- **顯示卡**: AMD Radeon RX <span style=\"color: #008080; text-decoration-color: #008080; font-weight: bold\">6700</span> XT | 約15000  \n",
       "- **SSD**: Samsung <span style=\"color: #008080; text-decoration-color: #008080; font-weight: bold\">970</span> EVO Plus 1TB | 約3200  \n",
       "- **電源供應器**: Seasonic Focus GX-750W <span style=\"color: #008080; text-decoration-color: #008080; font-weight: bold\">80</span>+ Gold | 約4000  \n",
       "- **機殼**: Lian Li Lancool II Mesh RGB（白色透側）| 約3500  \n",
       "- **風扇**: ARCTIC P12 PWM PST（額外3顆）| 約900  \n",
       "\n",
       "**總價**: 約49490  \n",
       "\n",
       "**理由**:  \n",
       "此組合在預算內，顯卡升級到RX <span style=\"color: #008080; text-decoration-color: #008080; font-weight: bold\">6700</span> \n",
       "XT，效能更強，適合攝影後製與輕遊戲；選用白色透側電競風機殼，滿足外觀需求，並提升散熱與穩定性。\n",
       "</pre>\n"
      ],
      "text/plain": [
       "Agent1: \u001b[1m[\u001b[0m對gpt4o評價\u001b[1m]\u001b[0m: \u001b[1;36m7\u001b[0m  \n",
       "\u001b[1m[\u001b[0m對BuildMate評價\u001b[1m]\u001b[0m: \u001b[1;36m1\u001b[0m  \n",
       "\u001b[1m[\u001b[0m簡短原因\u001b[1m]\u001b[0m:  \n",
       "gpt4o清單效能均衡，但顯卡與電源供應器稍弱，且未滿足白色透側機殼需求；BuildMate清單配置錯誤（重複CPU與電源），完全不\n",
       "符合需求，性價比極低。\n",
       "\n",
       "---\n",
       "\n",
       "**推薦組合**（預算50000元，白色透側電競風機殼）：  \n",
       "- **CPU**: AMD Ryzen \u001b[1;36m5\u001b[0m 5600X | 約5990  \n",
       "- **主機板**: ASUS TUF GAMING B550-PLUS WIFI | 約4500  \n",
       "- **記憶體**: Corsair Vengeance RGB PRO 16GB \u001b[1m(\u001b[0m2x8GB\u001b[1m)\u001b[0m DDR4-\u001b[1;36m3600\u001b[0m | 約2500  \n",
       "- **顯示卡**: AMD Radeon RX \u001b[1;36m6700\u001b[0m XT | 約15000  \n",
       "- **SSD**: Samsung \u001b[1;36m970\u001b[0m EVO Plus 1TB | 約3200  \n",
       "- **電源供應器**: Seasonic Focus GX-750W \u001b[1;36m80\u001b[0m+ Gold | 約4000  \n",
       "- **機殼**: Lian Li Lancool II Mesh RGB（白色透側）| 約3500  \n",
       "- **風扇**: ARCTIC P12 PWM PST（額外3顆）| 約900  \n",
       "\n",
       "**總價**: 約49490  \n",
       "\n",
       "**理由**:  \n",
       "此組合在預算內，顯卡升級到RX \u001b[1;36m6700\u001b[0m \n",
       "XT，效能更強，適合攝影後製與輕遊戲；選用白色透側電競風機殼，滿足外觀需求，並提升散熱與穩定性。\n"
      ]
     },
     "metadata": {},
     "output_type": "display_data"
    },
    {
     "name": "stdout",
     "output_type": "stream",
     "text": [
      "======\n"
     ]
    },
    {
     "data": {
      "text/html": [
       "<pre style=\"white-space:pre;overflow-x:auto;line-height:normal;font-family:Menlo,'DejaVu Sans Mono',consolas,'Courier New',monospace\">Agent2: <span style=\"font-weight: bold\">[</span>對gpt4o評價<span style=\"font-weight: bold\">]</span>: <span style=\"color: #008080; text-decoration-color: #008080; font-weight: bold\">7</span>  \n",
       "<span style=\"font-weight: bold\">[</span>對BuildMate評價<span style=\"font-weight: bold\">]</span>: <span style=\"color: #008080; text-decoration-color: #008080; font-weight: bold\">1</span>  \n",
       "<span style=\"font-weight: bold\">[</span>簡短原因<span style=\"font-weight: bold\">]</span>:  \n",
       "gpt4o清單效能均衡，但顯卡與電源供應器稍弱，且未滿足白色透側機殼需求；BuildMate清單配置錯誤（重複CPU與電源），完全不\n",
       "符合需求，性價比極低。\n",
       "\n",
       "---\n",
       "\n",
       "**推薦組合**（預算50000元，白色透側電競風機殼）：  \n",
       "- **CPU**: AMD Ryzen <span style=\"color: #008080; text-decoration-color: #008080; font-weight: bold\">5</span> 5600X | 約5990  \n",
       "- **主機板**: ASUS TUF GAMING B550-PLUS WIFI | 約4500  \n",
       "- **記憶體**: Corsair Vengeance RGB PRO 16GB <span style=\"font-weight: bold\">(</span>2x8GB<span style=\"font-weight: bold\">)</span> DDR4-<span style=\"color: #008080; text-decoration-color: #008080; font-weight: bold\">3600</span> | 約2500  \n",
       "- **顯示卡**: AMD Radeon RX <span style=\"color: #008080; text-decoration-color: #008080; font-weight: bold\">6700</span> XT | 約15000  \n",
       "- **SSD**: Samsung <span style=\"color: #008080; text-decoration-color: #008080; font-weight: bold\">970</span> EVO Plus 1TB | 約3200  \n",
       "- **電源供應器**: Seasonic Focus GX-750W <span style=\"color: #008080; text-decoration-color: #008080; font-weight: bold\">80</span>+ Gold | 約4000  \n",
       "- **機殼**: Lian Li Lancool II Mesh RGB（白色透側）| 約3500  \n",
       "- **風扇**: ARCTIC P12 PWM PST（額外3顆）| 約900  \n",
       "\n",
       "**總價**: 約49490  \n",
       "\n",
       "**理由**:  \n",
       "此組合在預算內，顯卡升級到RX <span style=\"color: #008080; text-decoration-color: #008080; font-weight: bold\">6700</span> \n",
       "XT，效能更強，適合攝影後製與輕遊戲；選用白色透側電競風機殼，滿足外觀需求，並提升散熱與穩定性。\n",
       "</pre>\n"
      ],
      "text/plain": [
       "Agent2: \u001b[1m[\u001b[0m對gpt4o評價\u001b[1m]\u001b[0m: \u001b[1;36m7\u001b[0m  \n",
       "\u001b[1m[\u001b[0m對BuildMate評價\u001b[1m]\u001b[0m: \u001b[1;36m1\u001b[0m  \n",
       "\u001b[1m[\u001b[0m簡短原因\u001b[1m]\u001b[0m:  \n",
       "gpt4o清單效能均衡，但顯卡與電源供應器稍弱，且未滿足白色透側機殼需求；BuildMate清單配置錯誤（重複CPU與電源），完全不\n",
       "符合需求，性價比極低。\n",
       "\n",
       "---\n",
       "\n",
       "**推薦組合**（預算50000元，白色透側電競風機殼）：  \n",
       "- **CPU**: AMD Ryzen \u001b[1;36m5\u001b[0m 5600X | 約5990  \n",
       "- **主機板**: ASUS TUF GAMING B550-PLUS WIFI | 約4500  \n",
       "- **記憶體**: Corsair Vengeance RGB PRO 16GB \u001b[1m(\u001b[0m2x8GB\u001b[1m)\u001b[0m DDR4-\u001b[1;36m3600\u001b[0m | 約2500  \n",
       "- **顯示卡**: AMD Radeon RX \u001b[1;36m6700\u001b[0m XT | 約15000  \n",
       "- **SSD**: Samsung \u001b[1;36m970\u001b[0m EVO Plus 1TB | 約3200  \n",
       "- **電源供應器**: Seasonic Focus GX-750W \u001b[1;36m80\u001b[0m+ Gold | 約4000  \n",
       "- **機殼**: Lian Li Lancool II Mesh RGB（白色透側）| 約3500  \n",
       "- **風扇**: ARCTIC P12 PWM PST（額外3顆）| 約900  \n",
       "\n",
       "**總價**: 約49490  \n",
       "\n",
       "**理由**:  \n",
       "此組合在預算內，顯卡升級到RX \u001b[1;36m6700\u001b[0m \n",
       "XT，效能更強，適合攝影後製與輕遊戲；選用白色透側電競風機殼，滿足外觀需求，並提升散熱與穩定性。\n"
      ]
     },
     "metadata": {},
     "output_type": "display_data"
    },
    {
     "name": "stdout",
     "output_type": "stream",
     "text": [
      "======\n"
     ]
    },
    {
     "data": {
      "text/html": [
       "<pre style=\"white-space:pre;overflow-x:auto;line-height:normal;font-family:Menlo,'DejaVu Sans Mono',consolas,'Courier New',monospace\">Agent3: <span style=\"font-weight: bold\">[</span>對gpt4o評價<span style=\"font-weight: bold\">]</span>: <span style=\"color: #008080; text-decoration-color: #008080; font-weight: bold\">7</span>  \n",
       "<span style=\"font-weight: bold\">[</span>對BuildMate評價<span style=\"font-weight: bold\">]</span>: <span style=\"color: #008080; text-decoration-color: #008080; font-weight: bold\">1</span>  \n",
       "<span style=\"font-weight: bold\">[</span>簡短原因<span style=\"font-weight: bold\">]</span>:  \n",
       "gpt4o清單效能均衡，適合輕遊戲與攝影後製，但顯卡效能偏弱，且未滿足白色透側機殼需求；BuildMate清單配置錯誤（重複CPU與\n",
       "電源），完全不符合需求，性價比極低。\n",
       "\n",
       "---\n",
       "\n",
       "**推薦組合**（預算50000元，白色透側電競風機殼）：  \n",
       "- **CPU**: AMD Ryzen <span style=\"color: #008080; text-decoration-color: #008080; font-weight: bold\">5</span> 5600X | 約5990  \n",
       "- **主機板**: ASUS TUF GAMING B550-PLUS WIFI | 約4500  \n",
       "- **記憶體**: Corsair Vengeance RGB PRO 16GB <span style=\"font-weight: bold\">(</span>2x8GB<span style=\"font-weight: bold\">)</span> DDR4-<span style=\"color: #008080; text-decoration-color: #008080; font-weight: bold\">3600</span> | 約2500  \n",
       "- **顯示卡**: AMD Radeon RX <span style=\"color: #008080; text-decoration-color: #008080; font-weight: bold\">6700</span> XT | 約15000  \n",
       "- **SSD**: Samsung <span style=\"color: #008080; text-decoration-color: #008080; font-weight: bold\">970</span> EVO Plus 1TB | 約3200  \n",
       "- **電源供應器**: Seasonic Focus GX-750W <span style=\"color: #008080; text-decoration-color: #008080; font-weight: bold\">80</span>+ Gold | 約4000  \n",
       "- **機殼**: Lian Li Lancool II Mesh RGB（白色透側）| 約3500  \n",
       "- **風扇**: ARCTIC P12 PWM PST（額外3顆）| 約900  \n",
       "\n",
       "**總價**: 約49490  \n",
       "\n",
       "**理由**:  \n",
       "此組合在預算內，顯卡升級到RX <span style=\"color: #008080; text-decoration-color: #008080; font-weight: bold\">6700</span> \n",
       "XT，效能更強，適合攝影後製與輕遊戲；選用白色透側電競風機殼，滿足外觀需求，並提升散熱與穩定性。\n",
       "</pre>\n"
      ],
      "text/plain": [
       "Agent3: \u001b[1m[\u001b[0m對gpt4o評價\u001b[1m]\u001b[0m: \u001b[1;36m7\u001b[0m  \n",
       "\u001b[1m[\u001b[0m對BuildMate評價\u001b[1m]\u001b[0m: \u001b[1;36m1\u001b[0m  \n",
       "\u001b[1m[\u001b[0m簡短原因\u001b[1m]\u001b[0m:  \n",
       "gpt4o清單效能均衡，適合輕遊戲與攝影後製，但顯卡效能偏弱，且未滿足白色透側機殼需求；BuildMate清單配置錯誤（重複CPU與\n",
       "電源），完全不符合需求，性價比極低。\n",
       "\n",
       "---\n",
       "\n",
       "**推薦組合**（預算50000元，白色透側電競風機殼）：  \n",
       "- **CPU**: AMD Ryzen \u001b[1;36m5\u001b[0m 5600X | 約5990  \n",
       "- **主機板**: ASUS TUF GAMING B550-PLUS WIFI | 約4500  \n",
       "- **記憶體**: Corsair Vengeance RGB PRO 16GB \u001b[1m(\u001b[0m2x8GB\u001b[1m)\u001b[0m DDR4-\u001b[1;36m3600\u001b[0m | 約2500  \n",
       "- **顯示卡**: AMD Radeon RX \u001b[1;36m6700\u001b[0m XT | 約15000  \n",
       "- **SSD**: Samsung \u001b[1;36m970\u001b[0m EVO Plus 1TB | 約3200  \n",
       "- **電源供應器**: Seasonic Focus GX-750W \u001b[1;36m80\u001b[0m+ Gold | 約4000  \n",
       "- **機殼**: Lian Li Lancool II Mesh RGB（白色透側）| 約3500  \n",
       "- **風扇**: ARCTIC P12 PWM PST（額外3顆）| 約900  \n",
       "\n",
       "**總價**: 約49490  \n",
       "\n",
       "**理由**:  \n",
       "此組合在預算內，顯卡升級到RX \u001b[1;36m6700\u001b[0m \n",
       "XT，效能更強，適合攝影後製與輕遊戲；選用白色透側電競風機殼，滿足外觀需求，並提升散熱與穩定性。\n"
      ]
     },
     "metadata": {},
     "output_type": "display_data"
    },
    {
     "name": "stdout",
     "output_type": "stream",
     "text": [
      "======\n"
     ]
    },
    {
     "data": {
      "text/html": [
       "<pre style=\"white-space:pre;overflow-x:auto;line-height:normal;font-family:Menlo,'DejaVu Sans Mono',consolas,'Courier New',monospace\">Coordinator: 已達成共識，gpt4o較佳：效能穩定，性價比高，但需調整以滿足白色透側機殼需求。\n",
       "</pre>\n"
      ],
      "text/plain": [
       "Coordinator: 已達成共識，gpt4o較佳：效能穩定，性價比高，但需調整以滿足白色透側機殼需求。\n"
      ]
     },
     "metadata": {},
     "output_type": "display_data"
    },
    {
     "name": "stdout",
     "output_type": "stream",
     "text": [
      "======\n",
      "{'Coordinator': {'messages': [HumanMessage(content='Agent1: [對gpt4o評價]: 8  \\n[對BuildMate評價]: 4  \\n[簡短原因]:  \\ngpt4o清單效能與穩定性較高，搭配合理，散熱與電源選擇適當；BuildMate清單存在重複與錯誤項目，組裝平衡性差，影響穩定性與效能發揮。', additional_kwargs={}, response_metadata={}), HumanMessage(content='Agent2: [對gpt4o評價]: 9  \\n[對BuildMate評價]: 2  \\n[簡短原因]:  \\ngpt4o清單效能均衡，價格合理，適合攝影後製與輕遊戲；BuildMate清單有多處錯誤（重複CPU、電源標示錯誤），配置混亂且性價比極低。', additional_kwargs={}, response_metadata={}), HumanMessage(content='Agent3: [對gpt4o評價]: 8  \\n[對BuildMate評價]: 2  \\n[簡短原因]:  \\ngpt4o清單效能均衡，價格合理，但未滿足白色透側機殼需求；BuildMate清單配置混亂，重複與錯誤項目多，性價比極低且不符合需求。', additional_kwargs={}, response_metadata={}), HumanMessage(content='Coordinator: 已達成共識，gpt4o較佳：效能穩定、性價比高，且配置均衡。', additional_kwargs={}, response_metadata={}), HumanMessage(content='Agent1: [對gpt4o評價]: 8  \\n[對BuildMate評價]: 2  \\n[簡短原因]:  \\ngpt4o清單效能穩定，性價比高，適合攝影後製與輕遊戲，但未滿足白色透側機殼需求；BuildMate清單配置錯誤（重複CPU與電源），效能與穩定性受損，完全不推薦。', additional_kwargs={}, response_metadata={}), HumanMessage(content='Agent2: [對gpt4o評價]: 9  \\n[對BuildMate評價]: 1  \\n[簡短原因]:  \\ngpt4o清單效能均衡，價格合理，適合攝影後製與輕遊戲，但未滿足白色透側機殼需求；BuildMate清單配置混亂，重複與錯誤項目多，性價比極低且不實用。\\n\\n---\\n\\n**推薦組合**（預算50000元，白色透側電競風機殼）：  \\n- **CPU**: AMD Ryzen 5 5600X | 約5990  \\n- **主機板**: ASUS TUF GAMING B550-PLUS WIFI | 約4500  \\n- **記憶體**: Corsair Vengeance RGB PRO 16GB (2x8GB) DDR4-3600 | 約2500  \\n- **顯示卡**: AMD Radeon RX 6700 XT | 約15000  \\n- **SSD**: Samsung 970 EVO Plus 1TB | 約3200  \\n- **電源供應器**: Seasonic Focus GX-750W 80+ Gold | 約4000  \\n- **機殼**: Lian Li Lancool II Mesh RGB（白色透側）| 約3500  \\n- **風扇**: ARCTIC P12 PWM PST（額外3顆）| 約900  \\n\\n**總價**: 約49490  \\n\\n**理由**:  \\n此組合效能更強，顯卡升級到RX 6700 XT，適合攝影後製與輕遊戲；選用白色透側電競風機殼，滿足需求，並提升散熱與穩定性。', additional_kwargs={}, response_metadata={}), HumanMessage(content='Agent3: [對gpt4o評價]: 7  \\n[對BuildMate評價]: 1  \\n[簡短原因]:  \\ngpt4o清單效能均衡，但顯卡與電源供應器稍弱，且未滿足白色透側機殼需求；BuildMate清單配置錯誤（重複CPU與電源），完全不符合需求，性價比極低。\\n\\n---\\n\\n**推薦組合**（預算50000元，白色透側電競風機殼）：  \\n- **CPU**: AMD Ryzen 5 5600X | 約5990  \\n- **主機板**: ASUS TUF GAMING B550-PLUS WIFI | 約4500  \\n- **記憶體**: Corsair Vengeance RGB PRO 16GB (2x8GB) DDR4-3600 | 約2500  \\n- **顯示卡**: AMD Radeon RX 6700 XT | 約15000  \\n- **SSD**: Samsung 970 EVO Plus 1TB | 約3200  \\n- **電源供應器**: Seasonic Focus GX-750W 80+ Gold | 約4000  \\n- **機殼**: Lian Li Lancool II Mesh RGB（白色透側）| 約3500  \\n- **風扇**: ARCTIC P12 PWM PST（額外3顆）| 約900  \\n\\n**總價**: 約49490  \\n\\n**理由**:  \\n此組合在預算內，顯卡升級到RX 6700 XT，效能更強，適合攝影後製與輕遊戲；選用白色透側電競風機殼，滿足外觀需求，並提升散熱與穩定性。', additional_kwargs={}, response_metadata={}), HumanMessage(content='Coordinator: 未達共識', additional_kwargs={}, response_metadata={}), HumanMessage(content='Agent1: [對gpt4o評價]: 7  \\n[對BuildMate評價]: 1  \\n[簡短原因]:  \\ngpt4o清單效能均衡，但顯卡與電源供應器稍弱，且未滿足白色透側機殼需求；BuildMate清單配置錯誤（重複CPU與電源），完全不符合需求，性價比極低。\\n\\n---\\n\\n**推薦組合**（預算50000元，白色透側電競風機殼）：  \\n- **CPU**: AMD Ryzen 5 5600X | 約5990  \\n- **主機板**: ASUS TUF GAMING B550-PLUS WIFI | 約4500  \\n- **記憶體**: Corsair Vengeance RGB PRO 16GB (2x8GB) DDR4-3600 | 約2500  \\n- **顯示卡**: AMD Radeon RX 6700 XT | 約15000  \\n- **SSD**: Samsung 970 EVO Plus 1TB | 約3200  \\n- **電源供應器**: Seasonic Focus GX-750W 80+ Gold | 約4000  \\n- **機殼**: Lian Li Lancool II Mesh RGB（白色透側）| 約3500  \\n- **風扇**: ARCTIC P12 PWM PST（額外3顆）| 約900  \\n\\n**總價**: 約49490  \\n\\n**理由**:  \\n此組合在預算內，顯卡升級到RX 6700 XT，效能更強，適合攝影後製與輕遊戲；選用白色透側電競風機殼，滿足外觀需求，並提升散熱與穩定性。', additional_kwargs={}, response_metadata={}), HumanMessage(content='Agent2: [對gpt4o評價]: 7  \\n[對BuildMate評價]: 1  \\n[簡短原因]:  \\ngpt4o清單效能均衡，但顯卡與電源供應器稍弱，且未滿足白色透側機殼需求；BuildMate清單配置錯誤（重複CPU與電源），完全不符合需求，性價比極低。\\n\\n---\\n\\n**推薦組合**（預算50000元，白色透側電競風機殼）：  \\n- **CPU**: AMD Ryzen 5 5600X | 約5990  \\n- **主機板**: ASUS TUF GAMING B550-PLUS WIFI | 約4500  \\n- **記憶體**: Corsair Vengeance RGB PRO 16GB (2x8GB) DDR4-3600 | 約2500  \\n- **顯示卡**: AMD Radeon RX 6700 XT | 約15000  \\n- **SSD**: Samsung 970 EVO Plus 1TB | 約3200  \\n- **電源供應器**: Seasonic Focus GX-750W 80+ Gold | 約4000  \\n- **機殼**: Lian Li Lancool II Mesh RGB（白色透側）| 約3500  \\n- **風扇**: ARCTIC P12 PWM PST（額外3顆）| 約900  \\n\\n**總價**: 約49490  \\n\\n**理由**:  \\n此組合在預算內，顯卡升級到RX 6700 XT，效能更強，適合攝影後製與輕遊戲；選用白色透側電競風機殼，滿足外觀需求，並提升散熱與穩定性。', additional_kwargs={}, response_metadata={}), HumanMessage(content='Agent3: [對gpt4o評價]: 7  \\n[對BuildMate評價]: 1  \\n[簡短原因]:  \\ngpt4o清單效能均衡，適合輕遊戲與攝影後製，但顯卡效能偏弱，且未滿足白色透側機殼需求；BuildMate清單配置錯誤（重複CPU與電源），完全不符合需求，性價比極低。\\n\\n---\\n\\n**推薦組合**（預算50000元，白色透側電競風機殼）：  \\n- **CPU**: AMD Ryzen 5 5600X | 約5990  \\n- **主機板**: ASUS TUF GAMING B550-PLUS WIFI | 約4500  \\n- **記憶體**: Corsair Vengeance RGB PRO 16GB (2x8GB) DDR4-3600 | 約2500  \\n- **顯示卡**: AMD Radeon RX 6700 XT | 約15000  \\n- **SSD**: Samsung 970 EVO Plus 1TB | 約3200  \\n- **電源供應器**: Seasonic Focus GX-750W 80+ Gold | 約4000  \\n- **機殼**: Lian Li Lancool II Mesh RGB（白色透側）| 約3500  \\n- **風扇**: ARCTIC P12 PWM PST（額外3顆）| 約900  \\n\\n**總價**: 約49490  \\n\\n**理由**:  \\n此組合在預算內，顯卡升級到RX 6700 XT，效能更強，適合攝影後製與輕遊戲；選用白色透側電競風機殼，滿足外觀需求，並提升散熱與穩定性。', additional_kwargs={}, response_metadata={}), HumanMessage(content='Coordinator: 已達成共識，gpt4o較佳：效能穩定，性價比高，但需調整以滿足白色透側機殼需求。', additional_kwargs={}, response_metadata={})], 'next_agent': '__end__', 'question_id': 2, 'question': '有推薦的組合嗎？預算大概在50000元，要能處理攝影後製和輕遊戲，如：軒轅劍7。想找白色透側電競風機殼', 'gpt4o_recommendation': 'CPU: AMD Ryzen 5 5600X | price: 5990\\nMotherboard: MSI B550M PRO-VDH WIFI | price: 3290\\nMemory: Corsair Vengeance LPX 16GB (2x8GB) DDR4-3200 | price: 1800\\nGPU: AMD Radeon RX 6600 | price: 8500\\nSSD: Western Digital Blue SN550 1TB | price: 2200\\nPower Supply: Seasonic S12III 650W 80+ Bronze | price: 2500\\nCase: NZXT H510 | price: 2000\\nCase Fan: ARCTIC P12 PWM PST | price: 300\\n總價: 26580', 'buildmate_recommendation': 'CPU: AMD Ryzen 5 5600X | price: 8500\\nMotherboard: AMD Ryzen 5 5600X | price: 8500\\nMemory: Corsair Vengeance LPX 16GB (2 x 8GB) DDR4 3200MHz | price: 2500\\nGPU: NVIDIA GeForce GTX 1660 Super | price: 8000\\nSSD: 電源供應器（Corsair CV550 550W） | price: 2000\\nPower Supply: AMD Ryzen 5 5600X | price: 8500\\nCase: Cooler Master MasterBox Q300L | price: 2000\\nCase Fan: Cooler Master Hyper 212 Black Edition | price: 1600\\n總價: 41600', 'agent_scores': {'Agent1_round1': {'gpt4o_score': 8, 'buildmate_score': 4, 'reason': 'gpt4o清單效能與穩定性較高，搭配合理，散熱與電源選擇適當；BuildMate清單存在重複與錯誤項目，組裝平衡性差，影響穩定性與效能發揮。'}, 'Agent2_round1': {'gpt4o_score': 9, 'buildmate_score': 2, 'reason': 'gpt4o清單效能均衡，價格合理，適合攝影後製與輕遊戲；BuildMate清單有多處錯誤（重複CPU、電源標示錯誤），配置混亂且性價比極低。'}, 'Agent3_round1': {'gpt4o_score': 8, 'buildmate_score': 2, 'reason': 'gpt4o清單效能均衡，價格合理，但未滿足白色透側機殼需求；BuildMate清單配置混亂，重複與錯誤項目多，性價比極低且不符合需求。'}, 'Agent1_round2': {'gpt4o_score': 8, 'buildmate_score': 2, 'reason': 'gpt4o清單效能穩定，性價比高，適合攝影後製與輕遊戲，但未滿足白色透側機殼需求；BuildMate清單配置錯誤（重複CPU與電源），效能與穩定性受損，完全不推薦。'}, 'Agent2_round2': {'gpt4o_score': 9, 'buildmate_score': 1, 'reason': 'gpt4o清單效能均衡，價格合理，適合攝影後製與輕遊戲，但未滿足白色透側機殼需求；BuildMate清單配置混亂，重複與錯誤項目多，性價比極低且不實用。'}, 'Agent3_round2': {'gpt4o_score': 7, 'buildmate_score': 1, 'reason': 'gpt4o清單效能均衡，但顯卡與電源供應器稍弱，且未滿足白色透側機殼需求；BuildMate清單配置錯誤（重複CPU與電源），完全不符合需求，性價比極低。'}, 'Agent1_round3': {'gpt4o_score': 7, 'buildmate_score': 1, 'reason': 'gpt4o清單效能均衡，但顯卡與電源供應器稍弱，且未滿足白色透側機殼需求；BuildMate清單配置錯誤（重複CPU與電源），完全不符合需求，性價比極低。'}, 'Agent2_round3': {'gpt4o_score': 7, 'buildmate_score': 1, 'reason': 'gpt4o清單效能均衡，但顯卡與電源供應器稍弱，且未滿足白色透側機殼需求；BuildMate清單配置錯誤（重複CPU與電源），完全不符合需求，性價比極低。'}, 'Agent3_round3': {'gpt4o_score': 7, 'buildmate_score': 1, 'reason': 'gpt4o清單效能均衡，適合輕遊戲與攝影後製，但顯卡效能偏弱，且未滿足白色透側機殼需求；BuildMate清單配置錯誤（重複CPU與電源），完全不符合需求，性價比極低。'}}, 'round_count': 3, 'max_rounds': 3, 'consensus_reached': True}}\n",
      "{\n",
      "  \"question_id\": 2,\n",
      "  \"question\": \"有推薦的組合嗎？預算大概在50000元，要能處理攝影後製和輕遊戲，如：軒轅劍7。想找白色透側電競風機殼\",\n",
      "  \"buildmate_recommendation\": \"CPU: AMD Ryzen 5 5600X | price: 8500\\nMotherboard: AMD Ryzen 5 5600X | price: 8500\\nMemory: Corsair Vengeance LPX 16GB (2 x 8GB) DDR4 3200MHz | price: 2500\\nGPU: NVIDIA GeForce GTX 1660 Super | price: 8000\\nSSD: 電源供應器（Corsair CV550 550W） | price: 2000\\nPower Supply: AMD Ryzen 5 5600X | price: 8500\\nCase: Cooler Master MasterBox Q300L | price: 2000\\nCase Fan: Cooler Master Hyper 212 Black Edition | price: 1600\\n總價: 41600\",\n",
      "  \"gpt4o_recommendation\": \"CPU: AMD Ryzen 5 5600X | price: 5990\\nMotherboard: MSI B550M PRO-VDH WIFI | price: 3290\\nMemory: Corsair Vengeance LPX 16GB (2x8GB) DDR4-3200 | price: 1800\\nGPU: AMD Radeon RX 6600 | price: 8500\\nSSD: Western Digital Blue SN550 1TB | price: 2200\\nPower Supply: Seasonic S12III 650W 80+ Bronze | price: 2500\\nCase: NZXT H510 | price: 2000\\nCase Fan: ARCTIC P12 PWM PST | price: 300\\n總價: 26580\",\n",
      "  \"winner\": 0,\n",
      "  \"buildmate_avg_score\": 1.6666666666666667,\n",
      "  \"gpt4o_avg_score\": 7.777777777777778,\n",
      "  \"rounds\": [\n",
      "    {\n",
      "      \"round_number\": 1,\n",
      "      \"Agent1\": {\n",
      "        \"gpt4o_score\": 8,\n",
      "        \"buildmate_score\": 4,\n",
      "        \"reason\": \"gpt4o清單效能與穩定性較高，搭配合理，散熱與電源選擇適當；BuildMate清單存在重複與錯誤項目，組裝平衡性差，影響穩定性與效能發揮。\"\n",
      "      },\n",
      "      \"Agent2\": {\n",
      "        \"gpt4o_score\": 9,\n",
      "        \"buildmate_score\": 2,\n",
      "        \"reason\": \"gpt4o清單效能均衡，價格合理，適合攝影後製與輕遊戲；BuildMate清單有多處錯誤（重複CPU、電源標示錯誤），配置混亂且性價比極低。\"\n",
      "      },\n",
      "      \"Agent3\": {\n",
      "        \"gpt4o_score\": 8,\n",
      "        \"buildmate_score\": 2,\n",
      "        \"reason\": \"gpt4o清單效能均衡，價格合理，但未滿足白色透側機殼需求；BuildMate清單配置混亂，重複與錯誤項目多，性價比極低且不符合需求。\"\n",
      "      }\n",
      "    },\n",
      "    {\n",
      "      \"round_number\": 2,\n",
      "      \"Agent1\": {\n",
      "        \"gpt4o_score\": 8,\n",
      "        \"buildmate_score\": 2,\n",
      "        \"reason\": \"gpt4o清單效能穩定，性價比高，適合攝影後製與輕遊戲，但未滿足白色透側機殼需求；BuildMate清單配置錯誤（重複CPU與電源），效能與穩定性受損，完全不推薦。\"\n",
      "      },\n",
      "      \"Agent2\": {\n",
      "        \"gpt4o_score\": 9,\n",
      "        \"buildmate_score\": 1,\n",
      "        \"reason\": \"gpt4o清單效能均衡，價格合理，適合攝影後製與輕遊戲，但未滿足白色透側機殼需求；BuildMate清單配置混亂，重複與錯誤項目多，性價比極低且不實用。\"\n",
      "      },\n",
      "      \"Agent3\": {\n",
      "        \"gpt4o_score\": 7,\n",
      "        \"buildmate_score\": 1,\n",
      "        \"reason\": \"gpt4o清單效能均衡，但顯卡與電源供應器稍弱，且未滿足白色透側機殼需求；BuildMate清單配置錯誤（重複CPU與電源），完全不符合需求，性價比極低。\"\n",
      "      }\n",
      "    },\n",
      "    {\n",
      "      \"round_number\": 3,\n",
      "      \"Agent1\": {\n",
      "        \"gpt4o_score\": 7,\n",
      "        \"buildmate_score\": 1,\n",
      "        \"reason\": \"gpt4o清單效能均衡，但顯卡與電源供應器稍弱，且未滿足白色透側機殼需求；BuildMate清單配置錯誤（重複CPU與電源），完全不符合需求，性價比極低。\"\n",
      "      },\n",
      "      \"Agent2\": {\n",
      "        \"gpt4o_score\": 7,\n",
      "        \"buildmate_score\": 1,\n",
      "        \"reason\": \"gpt4o清單效能均衡，但顯卡與電源供應器稍弱，且未滿足白色透側機殼需求；BuildMate清單配置錯誤（重複CPU與電源），完全不符合需求，性價比極低。\"\n",
      "      },\n",
      "      \"Agent3\": {\n",
      "        \"gpt4o_score\": 7,\n",
      "        \"buildmate_score\": 1,\n",
      "        \"reason\": \"gpt4o清單效能均衡，適合輕遊戲與攝影後製，但顯卡效能偏弱，且未滿足白色透側機殼需求；BuildMate清單配置錯誤（重複CPU與電源），完全不符合需求，性價比極低。\"\n",
      "      }\n",
      "    }\n",
      "  ]\n",
      "}\n"
     ]
    },
    {
     "data": {
      "text/html": [
       "<pre style=\"white-space:pre;overflow-x:auto;line-height:normal;font-family:Menlo,'DejaVu Sans Mono',consolas,'Courier New',monospace\"><span style=\"font-weight: bold\">{</span>\n",
       "    <span style=\"color: #008000; text-decoration-color: #008000\">'question_id'</span>: <span style=\"color: #008080; text-decoration-color: #008080; font-weight: bold\">3</span>,\n",
       "    <span style=\"color: #008000; text-decoration-color: #008000\">'question'</span>: <span style=\"color: #008000; text-decoration-color: #008000\">'碩士生研究用的電腦，預算約70000元，需要跑深度學習模型，有沒有建議配置？'</span>,\n",
       "    <span style=\"color: #008000; text-decoration-color: #008000\">'gpt4o_recommendation'</span>: <span style=\"color: #008000; text-decoration-color: #008000\">'CPU: AMD Ryzen 7 5800X | price: 9500\\nMotherboard: MSI B550-A PRO | price: </span>\n",
       "<span style=\"color: #008000; text-decoration-color: #008000\">3500\\nMemory: Corsair Vengeance LPX 32GB (2x16GB) DDR4-3200 | price: 4000\\nGPU: NVIDIA GeForce RTX 3060 Ti | price:</span>\n",
       "<span style=\"color: #008000; text-decoration-color: #008000\">12000\\nSSD: Samsung 970 EVO Plus 1TB | price: 2200\\nPower Supply: Seasonic Focus GX-750, 80+ Gold | price: </span>\n",
       "<span style=\"color: #008000; text-decoration-color: #008000\">3500\\nCase: NZXT H510 | price: 2000\\nCase Fan: Noctua NF-P12 redux-1700 PWM | price: 400\\n總價: 37100'</span>,\n",
       "    <span style=\"color: #008000; text-decoration-color: #008000\">'buildmate_recommendation'</span>: <span style=\"color: #008000; text-decoration-color: #008000\">'CPU: AMD Ryzen 7 5800X | price: 12000\\nMotherboard: ASUS ROG Strix X570-E Gaming |</span>\n",
       "<span style=\"color: #008000; text-decoration-color: #008000\">price: 17000\\nMemory: Corsair Vengeance LPX 32GB (2 x 16GB) DDR4 3200MHz | price: 5500\\nGPU: NVIDIA GeForce GTX </span>\n",
       "<span style=\"color: #008000; text-decoration-color: #008000\">1650 Super | price: 6000\\nSSD: Corsair RM850x 850W | price: 7500\\nPower Supply: Noctua NH-D15 | price: 3500\\nCase: </span>\n",
       "<span style=\"color: #008000; text-decoration-color: #008000\">AMD Ryzen 9 5900X | price: 16000\\nCase Fan: Noctua NF-A14 PWM | price: 2500\\n總價: 70000'</span>\n",
       "<span style=\"font-weight: bold\">}</span>\n",
       "</pre>\n"
      ],
      "text/plain": [
       "\u001b[1m{\u001b[0m\n",
       "    \u001b[32m'question_id'\u001b[0m: \u001b[1;36m3\u001b[0m,\n",
       "    \u001b[32m'question'\u001b[0m: \u001b[32m'碩士生研究用的電腦，預算約70000元，需要跑深度學習模型，有沒有建議配置？'\u001b[0m,\n",
       "    \u001b[32m'gpt4o_recommendation'\u001b[0m: \u001b[32m'CPU: AMD Ryzen 7 5800X | price: 9500\\nMotherboard: MSI B550-A PRO | price: \u001b[0m\n",
       "\u001b[32m3500\\nMemory: Corsair Vengeance LPX 32GB \u001b[0m\u001b[32m(\u001b[0m\u001b[32m2x16GB\u001b[0m\u001b[32m)\u001b[0m\u001b[32m DDR4-3200 | price: 4000\\nGPU: NVIDIA GeForce RTX 3060 Ti | price:\u001b[0m\n",
       "\u001b[32m12000\\nSSD: Samsung 970 EVO Plus 1TB | price: 2200\\nPower Supply: Seasonic Focus GX-750, 80+ Gold | price: \u001b[0m\n",
       "\u001b[32m3500\\nCase: NZXT H510 | price: 2000\\nCase Fan: Noctua NF-P12 redux-1700 PWM | price: 400\\n總價: 37100'\u001b[0m,\n",
       "    \u001b[32m'buildmate_recommendation'\u001b[0m: \u001b[32m'CPU: AMD Ryzen 7 5800X | price: 12000\\nMotherboard: ASUS ROG Strix X570-E Gaming |\u001b[0m\n",
       "\u001b[32mprice: 17000\\nMemory: Corsair Vengeance LPX 32GB \u001b[0m\u001b[32m(\u001b[0m\u001b[32m2 x 16GB\u001b[0m\u001b[32m)\u001b[0m\u001b[32m DDR4 3200MHz | price: 5500\\nGPU: NVIDIA GeForce GTX \u001b[0m\n",
       "\u001b[32m1650 Super | price: 6000\\nSSD: Corsair RM850x 850W | price: 7500\\nPower Supply: Noctua NH-D15 | price: 3500\\nCase: \u001b[0m\n",
       "\u001b[32mAMD Ryzen 9 5900X | price: 16000\\nCase Fan: Noctua NF-A14 PWM | price: 2500\\n總價: 70000'\u001b[0m\n",
       "\u001b[1m}\u001b[0m\n"
      ]
     },
     "metadata": {},
     "output_type": "display_data"
    },
    {
     "data": {
      "text/html": [
       "<pre style=\"white-space:pre;overflow-x:auto;line-height:normal;font-family:Menlo,'DejaVu Sans Mono',consolas,'Courier New',monospace\">Agent1: <span style=\"font-weight: bold\">[</span>對gpt4o評價<span style=\"font-weight: bold\">]</span>: <span style=\"color: #008080; text-decoration-color: #008080; font-weight: bold\">8</span>/<span style=\"color: #008080; text-decoration-color: #008080; font-weight: bold\">10</span>  \n",
       "<span style=\"font-weight: bold\">[</span>對BuildMate評價<span style=\"font-weight: bold\">]</span>: <span style=\"color: #008080; text-decoration-color: #008080; font-weight: bold\">4</span>/<span style=\"color: #008080; text-decoration-color: #008080; font-weight: bold\">10</span>  \n",
       "<span style=\"font-weight: bold\">[</span>簡短原因<span style=\"font-weight: bold\">]</span>: \n",
       "gpt4o配置平衡，效能與穩定性佳，適合深度學習；BuildMate顯示卡效能不足，預算分配不合理，影響整體效能與穩定性。\n",
       "</pre>\n"
      ],
      "text/plain": [
       "Agent1: \u001b[1m[\u001b[0m對gpt4o評價\u001b[1m]\u001b[0m: \u001b[1;36m8\u001b[0m/\u001b[1;36m10\u001b[0m  \n",
       "\u001b[1m[\u001b[0m對BuildMate評價\u001b[1m]\u001b[0m: \u001b[1;36m4\u001b[0m/\u001b[1;36m10\u001b[0m  \n",
       "\u001b[1m[\u001b[0m簡短原因\u001b[1m]\u001b[0m: \n",
       "gpt4o配置平衡，效能與穩定性佳，適合深度學習；BuildMate顯示卡效能不足，預算分配不合理，影響整體效能與穩定性。\n"
      ]
     },
     "metadata": {},
     "output_type": "display_data"
    },
    {
     "name": "stdout",
     "output_type": "stream",
     "text": [
      "======\n"
     ]
    },
    {
     "data": {
      "text/html": [
       "<pre style=\"white-space:pre;overflow-x:auto;line-height:normal;font-family:Menlo,'DejaVu Sans Mono',consolas,'Courier New',monospace\">Agent2: <span style=\"font-weight: bold\">[</span>對gpt4o評價<span style=\"font-weight: bold\">]</span>: <span style=\"color: #008080; text-decoration-color: #008080; font-weight: bold\">9</span>/<span style=\"color: #008080; text-decoration-color: #008080; font-weight: bold\">10</span>  \n",
       "<span style=\"font-weight: bold\">[</span>對BuildMate評價<span style=\"font-weight: bold\">]</span>: <span style=\"color: #008080; text-decoration-color: #008080; font-weight: bold\">3</span>/<span style=\"color: #008080; text-decoration-color: #008080; font-weight: bold\">10</span>  \n",
       "<span style=\"font-weight: bold\">[</span>簡短原因<span style=\"font-weight: bold\">]</span>: gpt4o配置均衡，GPU效能適合深度學習，預算分配合理；BuildMate \n",
       "GPU效能嚴重不足，浪費預算在不必要的主機板與散熱器上，CP值極低。\n",
       "</pre>\n"
      ],
      "text/plain": [
       "Agent2: \u001b[1m[\u001b[0m對gpt4o評價\u001b[1m]\u001b[0m: \u001b[1;36m9\u001b[0m/\u001b[1;36m10\u001b[0m  \n",
       "\u001b[1m[\u001b[0m對BuildMate評價\u001b[1m]\u001b[0m: \u001b[1;36m3\u001b[0m/\u001b[1;36m10\u001b[0m  \n",
       "\u001b[1m[\u001b[0m簡短原因\u001b[1m]\u001b[0m: gpt4o配置均衡，GPU效能適合深度學習，預算分配合理；BuildMate \n",
       "GPU效能嚴重不足，浪費預算在不必要的主機板與散熱器上，CP值極低。\n"
      ]
     },
     "metadata": {},
     "output_type": "display_data"
    },
    {
     "name": "stdout",
     "output_type": "stream",
     "text": [
      "======\n"
     ]
    },
    {
     "data": {
      "text/html": [
       "<pre style=\"white-space:pre;overflow-x:auto;line-height:normal;font-family:Menlo,'DejaVu Sans Mono',consolas,'Courier New',monospace\">Agent3: <span style=\"font-weight: bold\">[</span>對gpt4o評價<span style=\"font-weight: bold\">]</span>: <span style=\"color: #008080; text-decoration-color: #008080; font-weight: bold\">9</span>/<span style=\"color: #008080; text-decoration-color: #008080; font-weight: bold\">10</span>  \n",
       "<span style=\"font-weight: bold\">[</span>對BuildMate評價<span style=\"font-weight: bold\">]</span>: <span style=\"color: #008080; text-decoration-color: #008080; font-weight: bold\">2</span>/<span style=\"color: #008080; text-decoration-color: #008080; font-weight: bold\">10</span>  \n",
       "<span style=\"font-weight: bold\">[</span>簡短原因<span style=\"font-weight: bold\">]</span>: gpt4o配置均衡，GPU效能適合深度學習，預算分配合理；BuildMate \n",
       "GPU效能嚴重不足，過多預算浪費在不必要的主機板與散熱器上，完全不符合需求。\n",
       "</pre>\n"
      ],
      "text/plain": [
       "Agent3: \u001b[1m[\u001b[0m對gpt4o評價\u001b[1m]\u001b[0m: \u001b[1;36m9\u001b[0m/\u001b[1;36m10\u001b[0m  \n",
       "\u001b[1m[\u001b[0m對BuildMate評價\u001b[1m]\u001b[0m: \u001b[1;36m2\u001b[0m/\u001b[1;36m10\u001b[0m  \n",
       "\u001b[1m[\u001b[0m簡短原因\u001b[1m]\u001b[0m: gpt4o配置均衡，GPU效能適合深度學習，預算分配合理；BuildMate \n",
       "GPU效能嚴重不足，過多預算浪費在不必要的主機板與散熱器上，完全不符合需求。\n"
      ]
     },
     "metadata": {},
     "output_type": "display_data"
    },
    {
     "name": "stdout",
     "output_type": "stream",
     "text": [
      "======\n"
     ]
    },
    {
     "data": {
      "text/html": [
       "<pre style=\"white-space:pre;overflow-x:auto;line-height:normal;font-family:Menlo,'DejaVu Sans Mono',consolas,'Courier New',monospace\">Coordinator: \n",
       "已達成共識，gpt4o較佳：效能與穩定性、CP值及需求符合度全面優於BuildMate，特別是GPU配置更適合深度學習需求。\n",
       "</pre>\n"
      ],
      "text/plain": [
       "Coordinator: \n",
       "已達成共識，gpt4o較佳：效能與穩定性、CP值及需求符合度全面優於BuildMate，特別是GPU配置更適合深度學習需求。\n"
      ]
     },
     "metadata": {},
     "output_type": "display_data"
    },
    {
     "name": "stdout",
     "output_type": "stream",
     "text": [
      "======\n"
     ]
    },
    {
     "data": {
      "text/html": [
       "<pre style=\"white-space:pre;overflow-x:auto;line-height:normal;font-family:Menlo,'DejaVu Sans Mono',consolas,'Courier New',monospace\">Agent1: <span style=\"font-weight: bold\">[</span>對gpt4o評價<span style=\"font-weight: bold\">]</span>: <span style=\"color: #008080; text-decoration-color: #008080; font-weight: bold\">9</span>/<span style=\"color: #008080; text-decoration-color: #008080; font-weight: bold\">10</span>  \n",
       "<span style=\"font-weight: bold\">[</span>對BuildMate評價<span style=\"font-weight: bold\">]</span>: <span style=\"color: #008080; text-decoration-color: #008080; font-weight: bold\">2</span>/<span style=\"color: #008080; text-decoration-color: #008080; font-weight: bold\">10</span>  \n",
       "<span style=\"font-weight: bold\">[</span>簡短原因<span style=\"font-weight: bold\">]</span>: gpt4o配置均衡，GPU效能適合深度學習，預算分配合理，整體效能與穩定性佳；BuildMate \n",
       "GPU效能嚴重不足，過多預算浪費在主機板與散熱器上，完全不符需求。\n",
       "</pre>\n"
      ],
      "text/plain": [
       "Agent1: \u001b[1m[\u001b[0m對gpt4o評價\u001b[1m]\u001b[0m: \u001b[1;36m9\u001b[0m/\u001b[1;36m10\u001b[0m  \n",
       "\u001b[1m[\u001b[0m對BuildMate評價\u001b[1m]\u001b[0m: \u001b[1;36m2\u001b[0m/\u001b[1;36m10\u001b[0m  \n",
       "\u001b[1m[\u001b[0m簡短原因\u001b[1m]\u001b[0m: gpt4o配置均衡，GPU效能適合深度學習，預算分配合理，整體效能與穩定性佳；BuildMate \n",
       "GPU效能嚴重不足，過多預算浪費在主機板與散熱器上，完全不符需求。\n"
      ]
     },
     "metadata": {},
     "output_type": "display_data"
    },
    {
     "name": "stdout",
     "output_type": "stream",
     "text": [
      "======\n"
     ]
    },
    {
     "data": {
      "text/html": [
       "<pre style=\"white-space:pre;overflow-x:auto;line-height:normal;font-family:Menlo,'DejaVu Sans Mono',consolas,'Courier New',monospace\">Agent2: <span style=\"font-weight: bold\">[</span>對gpt4o評價<span style=\"font-weight: bold\">]</span>: <span style=\"color: #008080; text-decoration-color: #008080; font-weight: bold\">9</span>/<span style=\"color: #008080; text-decoration-color: #008080; font-weight: bold\">10</span>  \n",
       "<span style=\"font-weight: bold\">[</span>對BuildMate評價<span style=\"font-weight: bold\">]</span>: <span style=\"color: #008080; text-decoration-color: #008080; font-weight: bold\">2</span>/<span style=\"color: #008080; text-decoration-color: #008080; font-weight: bold\">10</span>  \n",
       "<span style=\"font-weight: bold\">[</span>簡短原因<span style=\"font-weight: bold\">]</span>: gpt4o配置均衡，GPU效能適合深度學習，預算分配合理，整體效能與穩定性佳；BuildMate \n",
       "GPU效能過低，預算浪費在高價主機板與散熱器上，完全不符需求。\n",
       "</pre>\n"
      ],
      "text/plain": [
       "Agent2: \u001b[1m[\u001b[0m對gpt4o評價\u001b[1m]\u001b[0m: \u001b[1;36m9\u001b[0m/\u001b[1;36m10\u001b[0m  \n",
       "\u001b[1m[\u001b[0m對BuildMate評價\u001b[1m]\u001b[0m: \u001b[1;36m2\u001b[0m/\u001b[1;36m10\u001b[0m  \n",
       "\u001b[1m[\u001b[0m簡短原因\u001b[1m]\u001b[0m: gpt4o配置均衡，GPU效能適合深度學習，預算分配合理，整體效能與穩定性佳；BuildMate \n",
       "GPU效能過低，預算浪費在高價主機板與散熱器上，完全不符需求。\n"
      ]
     },
     "metadata": {},
     "output_type": "display_data"
    },
    {
     "name": "stdout",
     "output_type": "stream",
     "text": [
      "======\n"
     ]
    },
    {
     "data": {
      "text/html": [
       "<pre style=\"white-space:pre;overflow-x:auto;line-height:normal;font-family:Menlo,'DejaVu Sans Mono',consolas,'Courier New',monospace\">Agent3: <span style=\"font-weight: bold\">[</span>對gpt4o評價<span style=\"font-weight: bold\">]</span>: <span style=\"color: #008080; text-decoration-color: #008080; font-weight: bold\">9</span>/<span style=\"color: #008080; text-decoration-color: #008080; font-weight: bold\">10</span>  \n",
       "<span style=\"font-weight: bold\">[</span>對BuildMate評價<span style=\"font-weight: bold\">]</span>: <span style=\"color: #008080; text-decoration-color: #008080; font-weight: bold\">2</span>/<span style=\"color: #008080; text-decoration-color: #008080; font-weight: bold\">10</span>  \n",
       "<span style=\"font-weight: bold\">[</span>簡短原因<span style=\"font-weight: bold\">]</span>: gpt4o配置均衡，GPU效能適合深度學習，預算分配合理，符合需求；BuildMate \n",
       "GPU效能嚴重不足，過多預算浪費在高價主機板與散熱器上，完全不符需求。\n",
       "</pre>\n"
      ],
      "text/plain": [
       "Agent3: \u001b[1m[\u001b[0m對gpt4o評價\u001b[1m]\u001b[0m: \u001b[1;36m9\u001b[0m/\u001b[1;36m10\u001b[0m  \n",
       "\u001b[1m[\u001b[0m對BuildMate評價\u001b[1m]\u001b[0m: \u001b[1;36m2\u001b[0m/\u001b[1;36m10\u001b[0m  \n",
       "\u001b[1m[\u001b[0m簡短原因\u001b[1m]\u001b[0m: gpt4o配置均衡，GPU效能適合深度學習，預算分配合理，符合需求；BuildMate \n",
       "GPU效能嚴重不足，過多預算浪費在高價主機板與散熱器上，完全不符需求。\n"
      ]
     },
     "metadata": {},
     "output_type": "display_data"
    },
    {
     "name": "stdout",
     "output_type": "stream",
     "text": [
      "======\n"
     ]
    },
    {
     "data": {
      "text/html": [
       "<pre style=\"white-space:pre;overflow-x:auto;line-height:normal;font-family:Menlo,'DejaVu Sans Mono',consolas,'Courier New',monospace\">Coordinator: \n",
       "已達成共識，gpt4o較佳：效能與穩定性、CP值及需求符合度全面優於BuildMate，特別是GPU配置更適合深度學習需求。\n",
       "</pre>\n"
      ],
      "text/plain": [
       "Coordinator: \n",
       "已達成共識，gpt4o較佳：效能與穩定性、CP值及需求符合度全面優於BuildMate，特別是GPU配置更適合深度學習需求。\n"
      ]
     },
     "metadata": {},
     "output_type": "display_data"
    },
    {
     "name": "stdout",
     "output_type": "stream",
     "text": [
      "======\n",
      "{'Coordinator': {'messages': [HumanMessage(content='Agent1: [對gpt4o評價]: 8/10  \\n[對BuildMate評價]: 4/10  \\n[簡短原因]: gpt4o配置平衡，效能與穩定性佳，適合深度學習；BuildMate顯示卡效能不足，預算分配不合理，影響整體效能與穩定性。', additional_kwargs={}, response_metadata={}), HumanMessage(content='Agent2: [對gpt4o評價]: 9/10  \\n[對BuildMate評價]: 3/10  \\n[簡短原因]: gpt4o配置均衡，GPU效能適合深度學習，預算分配合理；BuildMate GPU效能嚴重不足，浪費預算在不必要的主機板與散熱器上，CP值極低。', additional_kwargs={}, response_metadata={}), HumanMessage(content='Agent3: [對gpt4o評價]: 9/10  \\n[對BuildMate評價]: 2/10  \\n[簡短原因]: gpt4o配置均衡，GPU效能適合深度學習，預算分配合理；BuildMate GPU效能嚴重不足，過多預算浪費在不必要的主機板與散熱器上，完全不符合需求。', additional_kwargs={}, response_metadata={}), HumanMessage(content='Coordinator: 已達成共識，gpt4o較佳：效能與穩定性、CP值及需求符合度全面優於BuildMate，特別是GPU配置更適合深度學習需求。', additional_kwargs={}, response_metadata={}), HumanMessage(content='Agent1: [對gpt4o評價]: 9/10  \\n[對BuildMate評價]: 2/10  \\n[簡短原因]: gpt4o配置均衡，GPU效能適合深度學習，預算分配合理，整體效能與穩定性佳；BuildMate GPU效能嚴重不足，過多預算浪費在主機板與散熱器上，完全不符需求。', additional_kwargs={}, response_metadata={}), HumanMessage(content='Agent2: [對gpt4o評價]: 9/10  \\n[對BuildMate評價]: 2/10  \\n[簡短原因]: gpt4o配置均衡，GPU效能適合深度學習，預算分配合理，整體效能與穩定性佳；BuildMate GPU效能過低，預算浪費在高價主機板與散熱器上，完全不符需求。', additional_kwargs={}, response_metadata={}), HumanMessage(content='Agent3: [對gpt4o評價]: 9/10  \\n[對BuildMate評價]: 2/10  \\n[簡短原因]: gpt4o配置均衡，GPU效能適合深度學習，預算分配合理，符合需求；BuildMate GPU效能嚴重不足，過多預算浪費在高價主機板與散熱器上，完全不符需求。', additional_kwargs={}, response_metadata={}), HumanMessage(content='Coordinator: 已達成共識，gpt4o較佳：效能與穩定性、CP值及需求符合度全面優於BuildMate，特別是GPU配置更適合深度學習需求。', additional_kwargs={}, response_metadata={})], 'next_agent': '__end__', 'question_id': 3, 'question': '碩士生研究用的電腦，預算約70000元，需要跑深度學習模型，有沒有建議配置？', 'gpt4o_recommendation': 'CPU: AMD Ryzen 7 5800X | price: 9500\\nMotherboard: MSI B550-A PRO | price: 3500\\nMemory: Corsair Vengeance LPX 32GB (2x16GB) DDR4-3200 | price: 4000\\nGPU: NVIDIA GeForce RTX 3060 Ti | price: 12000\\nSSD: Samsung 970 EVO Plus 1TB | price: 2200\\nPower Supply: Seasonic Focus GX-750, 80+ Gold | price: 3500\\nCase: NZXT H510 | price: 2000\\nCase Fan: Noctua NF-P12 redux-1700 PWM | price: 400\\n總價: 37100', 'buildmate_recommendation': 'CPU: AMD Ryzen 7 5800X | price: 12000\\nMotherboard: ASUS ROG Strix X570-E Gaming | price: 17000\\nMemory: Corsair Vengeance LPX 32GB (2 x 16GB) DDR4 3200MHz | price: 5500\\nGPU: NVIDIA GeForce GTX 1650 Super | price: 6000\\nSSD: Corsair RM850x 850W | price: 7500\\nPower Supply: Noctua NH-D15 | price: 3500\\nCase: AMD Ryzen 9 5900X | price: 16000\\nCase Fan: Noctua NF-A14 PWM | price: 2500\\n總價: 70000', 'agent_scores': {'Agent1_round1': {'gpt4o_score': 8, 'buildmate_score': 4, 'reason': 'gpt4o配置平衡，效能與穩定性佳，適合深度學習；BuildMate顯示卡效能不足，預算分配不合理，影響整體效能與穩定性。'}, 'Agent2_round1': {'gpt4o_score': 9, 'buildmate_score': 3, 'reason': 'gpt4o配置均衡，GPU效能適合深度學習，預算分配合理；BuildMate GPU效能嚴重不足，浪費預算在不必要的主機板與散熱器上，CP值極低。'}, 'Agent3_round1': {'gpt4o_score': 9, 'buildmate_score': 2, 'reason': 'gpt4o配置均衡，GPU效能適合深度學習，預算分配合理；BuildMate GPU效能嚴重不足，過多預算浪費在不必要的主機板與散熱器上，完全不符合需求。'}, 'Agent1_round2': {'gpt4o_score': 9, 'buildmate_score': 2, 'reason': 'gpt4o配置均衡，GPU效能適合深度學習，預算分配合理，整體效能與穩定性佳；BuildMate GPU效能嚴重不足，過多預算浪費在主機板與散熱器上，完全不符需求。'}, 'Agent2_round2': {'gpt4o_score': 9, 'buildmate_score': 2, 'reason': 'gpt4o配置均衡，GPU效能適合深度學習，預算分配合理，整體效能與穩定性佳；BuildMate GPU效能過低，預算浪費在高價主機板與散熱器上，完全不符需求。'}, 'Agent3_round2': {'gpt4o_score': 9, 'buildmate_score': 2, 'reason': 'gpt4o配置均衡，GPU效能適合深度學習，預算分配合理，符合需求；BuildMate GPU效能嚴重不足，過多預算浪費在高價主機板與散熱器上，完全不符需求。'}}, 'round_count': 2, 'max_rounds': 3, 'consensus_reached': True}}\n",
      "{\n",
      "  \"question_id\": 3,\n",
      "  \"question\": \"碩士生研究用的電腦，預算約70000元，需要跑深度學習模型，有沒有建議配置？\",\n",
      "  \"buildmate_recommendation\": \"CPU: AMD Ryzen 7 5800X | price: 12000\\nMotherboard: ASUS ROG Strix X570-E Gaming | price: 17000\\nMemory: Corsair Vengeance LPX 32GB (2 x 16GB) DDR4 3200MHz | price: 5500\\nGPU: NVIDIA GeForce GTX 1650 Super | price: 6000\\nSSD: Corsair RM850x 850W | price: 7500\\nPower Supply: Noctua NH-D15 | price: 3500\\nCase: AMD Ryzen 9 5900X | price: 16000\\nCase Fan: Noctua NF-A14 PWM | price: 2500\\n總價: 70000\",\n",
      "  \"gpt4o_recommendation\": \"CPU: AMD Ryzen 7 5800X | price: 9500\\nMotherboard: MSI B550-A PRO | price: 3500\\nMemory: Corsair Vengeance LPX 32GB (2x16GB) DDR4-3200 | price: 4000\\nGPU: NVIDIA GeForce RTX 3060 Ti | price: 12000\\nSSD: Samsung 970 EVO Plus 1TB | price: 2200\\nPower Supply: Seasonic Focus GX-750, 80+ Gold | price: 3500\\nCase: NZXT H510 | price: 2000\\nCase Fan: Noctua NF-P12 redux-1700 PWM | price: 400\\n總價: 37100\",\n",
      "  \"winner\": 0,\n",
      "  \"buildmate_avg_score\": 2.5,\n",
      "  \"gpt4o_avg_score\": 8.833333333333334,\n",
      "  \"rounds\": [\n",
      "    {\n",
      "      \"round_number\": 1,\n",
      "      \"Agent1\": {\n",
      "        \"gpt4o_score\": 8,\n",
      "        \"buildmate_score\": 4,\n",
      "        \"reason\": \"gpt4o配置平衡，效能與穩定性佳，適合深度學習；BuildMate顯示卡效能不足，預算分配不合理，影響整體效能與穩定性。\"\n",
      "      },\n",
      "      \"Agent2\": {\n",
      "        \"gpt4o_score\": 9,\n",
      "        \"buildmate_score\": 3,\n",
      "        \"reason\": \"gpt4o配置均衡，GPU效能適合深度學習，預算分配合理；BuildMate GPU效能嚴重不足，浪費預算在不必要的主機板與散熱器上，CP值極低。\"\n",
      "      },\n",
      "      \"Agent3\": {\n",
      "        \"gpt4o_score\": 9,\n",
      "        \"buildmate_score\": 2,\n",
      "        \"reason\": \"gpt4o配置均衡，GPU效能適合深度學習，預算分配合理；BuildMate GPU效能嚴重不足，過多預算浪費在不必要的主機板與散熱器上，完全不符合需求。\"\n",
      "      }\n",
      "    },\n",
      "    {\n",
      "      \"round_number\": 2,\n",
      "      \"Agent1\": {\n",
      "        \"gpt4o_score\": 9,\n",
      "        \"buildmate_score\": 2,\n",
      "        \"reason\": \"gpt4o配置均衡，GPU效能適合深度學習，預算分配合理，整體效能與穩定性佳；BuildMate GPU效能嚴重不足，過多預算浪費在主機板與散熱器上，完全不符需求。\"\n",
      "      },\n",
      "      \"Agent2\": {\n",
      "        \"gpt4o_score\": 9,\n",
      "        \"buildmate_score\": 2,\n",
      "        \"reason\": \"gpt4o配置均衡，GPU效能適合深度學習，預算分配合理，整體效能與穩定性佳；BuildMate GPU效能過低，預算浪費在高價主機板與散熱器上，完全不符需求。\"\n",
      "      },\n",
      "      \"Agent3\": {\n",
      "        \"gpt4o_score\": 9,\n",
      "        \"buildmate_score\": 2,\n",
      "        \"reason\": \"gpt4o配置均衡，GPU效能適合深度學習，預算分配合理，符合需求；BuildMate GPU效能嚴重不足，過多預算浪費在高價主機板與散熱器上，完全不符需求。\"\n",
      "      }\n",
      "    }\n",
      "  ]\n",
      "}\n"
     ]
    },
    {
     "data": {
      "text/html": [
       "<pre style=\"white-space:pre;overflow-x:auto;line-height:normal;font-family:Menlo,'DejaVu Sans Mono',consolas,'Courier New',monospace\"><span style=\"font-weight: bold\">{</span>\n",
       "    <span style=\"color: #008000; text-decoration-color: #008000\">'question_id'</span>: <span style=\"color: #008080; text-decoration-color: #008080; font-weight: bold\">4</span>,\n",
       "    <span style=\"color: #008000; text-decoration-color: #008000\">'question'</span>: <span style=\"color: #008000; text-decoration-color: #008000\">'預算大約20000元，尋求一台能寫報告和上網的簡易電腦，要求瀏覽器多開流暢。'</span>,\n",
       "    <span style=\"color: #008000; text-decoration-color: #008000\">'gpt4o_recommendation'</span>: <span style=\"color: #008000; text-decoration-color: #008000\">'CPU: AMD Ryzen 5 5600G | price: 5500\\nMotherboard: ASRock B550M-HDV | price: </span>\n",
       "<span style=\"color: #008000; text-decoration-color: #008000\">3000\\nMemory: Corsair Vengeance LPX 16GB (2x8GB) DDR4-3200 | price: 1600\\nGPU: AMD Radeon Graphics (內建) | price: </span>\n",
       "<span style=\"color: #008000; text-decoration-color: #008000\">0\\nSSD: Crucial P3 500GB NVMe | price: 1500\\nPower Supply: Thermaltake Smart 500W | price: 1200\\nCase: Cooler </span>\n",
       "<span style=\"color: #008000; text-decoration-color: #008000\">Master MasterBox Q300L | price: 1200\\nCase Fan: ARCTIC P12 PWM PST | price: 300\\n總價: 14300'</span>,\n",
       "    <span style=\"color: #008000; text-decoration-color: #008000\">'buildmate_recommendation'</span>: <span style=\"color: #008000; text-decoration-color: #008000\">'CPU: Intel Celeron G5900 | price: 800\\nMotherboard: 華碩 PRIME B560M-A | price: </span>\n",
       "<span style=\"color: #008000; text-decoration-color: #008000\">5000\\nMemory: Corsair Vengeance LPX 16GB (2 x 8GB) DDR4 3200MHz | price: 2000\\nGPU: Corsair Vengeance LPX 16GB (2 x</span>\n",
       "<span style=\"color: #008000; text-decoration-color: #008000\">8GB) DDR4 3200MHz | price: 2000\\nSSD: ADATA SU635 480GB SSD | price: 1500\\nPower Supply: 海盜船 RM550x 550W | </span>\n",
       "<span style=\"color: #008000; text-decoration-color: #008000\">price: 3500\\nCase: Intel Core i3-10100 | price: 4000\\nCase Fan: Cooler Master Hyper 212 Black Edition | price: </span>\n",
       "<span style=\"color: #008000; text-decoration-color: #008000\">1500\\n總價: 20300'</span>\n",
       "<span style=\"font-weight: bold\">}</span>\n",
       "</pre>\n"
      ],
      "text/plain": [
       "\u001b[1m{\u001b[0m\n",
       "    \u001b[32m'question_id'\u001b[0m: \u001b[1;36m4\u001b[0m,\n",
       "    \u001b[32m'question'\u001b[0m: \u001b[32m'預算大約20000元，尋求一台能寫報告和上網的簡易電腦，要求瀏覽器多開流暢。'\u001b[0m,\n",
       "    \u001b[32m'gpt4o_recommendation'\u001b[0m: \u001b[32m'CPU: AMD Ryzen 5 5600G | price: 5500\\nMotherboard: ASRock B550M-HDV | price: \u001b[0m\n",
       "\u001b[32m3000\\nMemory: Corsair Vengeance LPX 16GB \u001b[0m\u001b[32m(\u001b[0m\u001b[32m2x8GB\u001b[0m\u001b[32m)\u001b[0m\u001b[32m DDR4-3200 | price: 1600\\nGPU: AMD Radeon Graphics \u001b[0m\u001b[32m(\u001b[0m\u001b[32m內建\u001b[0m\u001b[32m)\u001b[0m\u001b[32m | price: \u001b[0m\n",
       "\u001b[32m0\\nSSD: Crucial P3 500GB NVMe | price: 1500\\nPower Supply: Thermaltake Smart 500W | price: 1200\\nCase: Cooler \u001b[0m\n",
       "\u001b[32mMaster MasterBox Q300L | price: 1200\\nCase Fan: ARCTIC P12 PWM PST | price: 300\\n總價: 14300'\u001b[0m,\n",
       "    \u001b[32m'buildmate_recommendation'\u001b[0m: \u001b[32m'CPU: Intel Celeron G5900 | price: 800\\nMotherboard: 華碩 PRIME B560M-A | price: \u001b[0m\n",
       "\u001b[32m5000\\nMemory: Corsair Vengeance LPX 16GB \u001b[0m\u001b[32m(\u001b[0m\u001b[32m2 x 8GB\u001b[0m\u001b[32m)\u001b[0m\u001b[32m DDR4 3200MHz | price: 2000\\nGPU: Corsair Vengeance LPX 16GB \u001b[0m\u001b[32m(\u001b[0m\u001b[32m2 x\u001b[0m\n",
       "\u001b[32m8GB\u001b[0m\u001b[32m)\u001b[0m\u001b[32m DDR4 3200MHz | price: 2000\\nSSD: ADATA SU635 480GB SSD | price: 1500\\nPower Supply: 海盜船 RM550x 550W | \u001b[0m\n",
       "\u001b[32mprice: 3500\\nCase: Intel Core i3-10100 | price: 4000\\nCase Fan: Cooler Master Hyper 212 Black Edition | price: \u001b[0m\n",
       "\u001b[32m1500\\n總價: 20300'\u001b[0m\n",
       "\u001b[1m}\u001b[0m\n"
      ]
     },
     "metadata": {},
     "output_type": "display_data"
    },
    {
     "data": {
      "text/html": [
       "<pre style=\"white-space:pre;overflow-x:auto;line-height:normal;font-family:Menlo,'DejaVu Sans Mono',consolas,'Courier New',monospace\">Agent1: <span style=\"font-weight: bold\">[</span>對gpt4o評價<span style=\"font-weight: bold\">]</span>: <span style=\"color: #008080; text-decoration-color: #008080; font-weight: bold\">8</span>  \n",
       "<span style=\"font-weight: bold\">[</span>對BuildMate評價<span style=\"font-weight: bold\">]</span>: <span style=\"color: #008080; text-decoration-color: #008080; font-weight: bold\">5</span>  \n",
       "<span style=\"font-weight: bold\">[</span>簡短原因<span style=\"font-weight: bold\">]</span>: gpt4o選用Ryzen <span style=\"color: #008080; text-decoration-color: #008080; font-weight: bold\">5</span> \n",
       "5600G內建顯卡，效能足夠且成本控制佳，適合多開瀏覽器。BuildMate配置不平衡，CPU性能過低，且主板與電源過度高規，性價比\n",
       "不佳。\n",
       "</pre>\n"
      ],
      "text/plain": [
       "Agent1: \u001b[1m[\u001b[0m對gpt4o評價\u001b[1m]\u001b[0m: \u001b[1;36m8\u001b[0m  \n",
       "\u001b[1m[\u001b[0m對BuildMate評價\u001b[1m]\u001b[0m: \u001b[1;36m5\u001b[0m  \n",
       "\u001b[1m[\u001b[0m簡短原因\u001b[1m]\u001b[0m: gpt4o選用Ryzen \u001b[1;36m5\u001b[0m \n",
       "5600G內建顯卡，效能足夠且成本控制佳，適合多開瀏覽器。BuildMate配置不平衡，CPU性能過低，且主板與電源過度高規，性價比\n",
       "不佳。\n"
      ]
     },
     "metadata": {},
     "output_type": "display_data"
    },
    {
     "name": "stdout",
     "output_type": "stream",
     "text": [
      "======\n"
     ]
    },
    {
     "data": {
      "text/html": [
       "<pre style=\"white-space:pre;overflow-x:auto;line-height:normal;font-family:Menlo,'DejaVu Sans Mono',consolas,'Courier New',monospace\">Agent2: <span style=\"font-weight: bold\">[</span>對gpt4o評價<span style=\"font-weight: bold\">]</span>: <span style=\"color: #008080; text-decoration-color: #008080; font-weight: bold\">9</span>  \n",
       "<span style=\"font-weight: bold\">[</span>對BuildMate評價<span style=\"font-weight: bold\">]</span>: <span style=\"color: #008080; text-decoration-color: #008080; font-weight: bold\">4</span>  \n",
       "<span style=\"font-weight: bold\">[</span>簡短原因<span style=\"font-weight: bold\">]</span>: gpt4o配置均衡，Ryzen <span style=\"color: #008080; text-decoration-color: #008080; font-weight: bold\">5</span> 5600G內建顯卡效能足夠，預算控制佳。BuildMate選用低效能Celeron \n",
       "CPU，卻搭配高價主板與電源，配置嚴重失衡，CP值低。\n",
       "</pre>\n"
      ],
      "text/plain": [
       "Agent2: \u001b[1m[\u001b[0m對gpt4o評價\u001b[1m]\u001b[0m: \u001b[1;36m9\u001b[0m  \n",
       "\u001b[1m[\u001b[0m對BuildMate評價\u001b[1m]\u001b[0m: \u001b[1;36m4\u001b[0m  \n",
       "\u001b[1m[\u001b[0m簡短原因\u001b[1m]\u001b[0m: gpt4o配置均衡，Ryzen \u001b[1;36m5\u001b[0m 5600G內建顯卡效能足夠，預算控制佳。BuildMate選用低效能Celeron \n",
       "CPU，卻搭配高價主板與電源，配置嚴重失衡，CP值低。\n"
      ]
     },
     "metadata": {},
     "output_type": "display_data"
    },
    {
     "name": "stdout",
     "output_type": "stream",
     "text": [
      "======\n"
     ]
    },
    {
     "data": {
      "text/html": [
       "<pre style=\"white-space:pre;overflow-x:auto;line-height:normal;font-family:Menlo,'DejaVu Sans Mono',consolas,'Courier New',monospace\">Agent3: <span style=\"font-weight: bold\">[</span>對gpt4o評價<span style=\"font-weight: bold\">]</span>: <span style=\"color: #008080; text-decoration-color: #008080; font-weight: bold\">9</span>  \n",
       "<span style=\"font-weight: bold\">[</span>對BuildMate評價<span style=\"font-weight: bold\">]</span>: <span style=\"color: #008080; text-decoration-color: #008080; font-weight: bold\">3</span>  \n",
       "<span style=\"font-weight: bold\">[</span>簡短原因<span style=\"font-weight: bold\">]</span>: gpt4o配置均衡，Ryzen <span style=\"color: #008080; text-decoration-color: #008080; font-weight: bold\">5</span> 5600G內建顯卡效能足夠，記憶體容量適中，價格合理。BuildMate選用低效能Celeron \n",
       "CPU，卻搭配過高規主板與電源，配置嚴重失衡，性價比極低。\n",
       "</pre>\n"
      ],
      "text/plain": [
       "Agent3: \u001b[1m[\u001b[0m對gpt4o評價\u001b[1m]\u001b[0m: \u001b[1;36m9\u001b[0m  \n",
       "\u001b[1m[\u001b[0m對BuildMate評價\u001b[1m]\u001b[0m: \u001b[1;36m3\u001b[0m  \n",
       "\u001b[1m[\u001b[0m簡短原因\u001b[1m]\u001b[0m: gpt4o配置均衡，Ryzen \u001b[1;36m5\u001b[0m 5600G內建顯卡效能足夠，記憶體容量適中，價格合理。BuildMate選用低效能Celeron \n",
       "CPU，卻搭配過高規主板與電源，配置嚴重失衡，性價比極低。\n"
      ]
     },
     "metadata": {},
     "output_type": "display_data"
    },
    {
     "name": "stdout",
     "output_type": "stream",
     "text": [
      "======\n"
     ]
    },
    {
     "data": {
      "text/html": [
       "<pre style=\"white-space:pre;overflow-x:auto;line-height:normal;font-family:Menlo,'DejaVu Sans Mono',consolas,'Courier New',monospace\">Coordinator: 已達成共識，gpt4o較佳：配置均衡，效能足夠，CP值高，符合需求。\n",
       "</pre>\n"
      ],
      "text/plain": [
       "Coordinator: 已達成共識，gpt4o較佳：配置均衡，效能足夠，CP值高，符合需求。\n"
      ]
     },
     "metadata": {},
     "output_type": "display_data"
    },
    {
     "name": "stdout",
     "output_type": "stream",
     "text": [
      "======\n"
     ]
    },
    {
     "data": {
      "text/html": [
       "<pre style=\"white-space:pre;overflow-x:auto;line-height:normal;font-family:Menlo,'DejaVu Sans Mono',consolas,'Courier New',monospace\">Agent1: <span style=\"font-weight: bold\">[</span>對gpt4o評價<span style=\"font-weight: bold\">]</span>: <span style=\"color: #008080; text-decoration-color: #008080; font-weight: bold\">9</span>  \n",
       "<span style=\"font-weight: bold\">[</span>對BuildMate評價<span style=\"font-weight: bold\">]</span>: <span style=\"color: #008080; text-decoration-color: #008080; font-weight: bold\">4</span>  \n",
       "<span style=\"font-weight: bold\">[</span>簡短原因<span style=\"font-weight: bold\">]</span>: gpt4o配置均衡，Ryzen <span style=\"color: #008080; text-decoration-color: #008080; font-weight: bold\">5</span> 5600G內建顯卡效能足夠，適合多開瀏覽器，且預算控制佳。BuildMate選用低效能Celeron \n",
       "CPU，搭配高價主板與電源，配置失衡，性價比低。\n",
       "</pre>\n"
      ],
      "text/plain": [
       "Agent1: \u001b[1m[\u001b[0m對gpt4o評價\u001b[1m]\u001b[0m: \u001b[1;36m9\u001b[0m  \n",
       "\u001b[1m[\u001b[0m對BuildMate評價\u001b[1m]\u001b[0m: \u001b[1;36m4\u001b[0m  \n",
       "\u001b[1m[\u001b[0m簡短原因\u001b[1m]\u001b[0m: gpt4o配置均衡，Ryzen \u001b[1;36m5\u001b[0m 5600G內建顯卡效能足夠，適合多開瀏覽器，且預算控制佳。BuildMate選用低效能Celeron \n",
       "CPU，搭配高價主板與電源，配置失衡，性價比低。\n"
      ]
     },
     "metadata": {},
     "output_type": "display_data"
    },
    {
     "name": "stdout",
     "output_type": "stream",
     "text": [
      "======\n"
     ]
    },
    {
     "data": {
      "text/html": [
       "<pre style=\"white-space:pre;overflow-x:auto;line-height:normal;font-family:Menlo,'DejaVu Sans Mono',consolas,'Courier New',monospace\">Agent2: <span style=\"font-weight: bold\">[</span>對gpt4o評價<span style=\"font-weight: bold\">]</span>: <span style=\"color: #008080; text-decoration-color: #008080; font-weight: bold\">9</span>  \n",
       "<span style=\"font-weight: bold\">[</span>對BuildMate評價<span style=\"font-weight: bold\">]</span>: <span style=\"color: #008080; text-decoration-color: #008080; font-weight: bold\">3</span>  \n",
       "<span style=\"font-weight: bold\">[</span>簡短原因<span style=\"font-weight: bold\">]</span>: gpt4o配置均衡，Ryzen <span style=\"color: #008080; text-decoration-color: #008080; font-weight: bold\">5</span> 5600G內建顯卡效能足夠，預算控制佳，符合需求。BuildMate選用低效能Celeron \n",
       "CPU，卻搭配過高價主板與電源，配置失衡，CP值極低。\n",
       "</pre>\n"
      ],
      "text/plain": [
       "Agent2: \u001b[1m[\u001b[0m對gpt4o評價\u001b[1m]\u001b[0m: \u001b[1;36m9\u001b[0m  \n",
       "\u001b[1m[\u001b[0m對BuildMate評價\u001b[1m]\u001b[0m: \u001b[1;36m3\u001b[0m  \n",
       "\u001b[1m[\u001b[0m簡短原因\u001b[1m]\u001b[0m: gpt4o配置均衡，Ryzen \u001b[1;36m5\u001b[0m 5600G內建顯卡效能足夠，預算控制佳，符合需求。BuildMate選用低效能Celeron \n",
       "CPU，卻搭配過高價主板與電源，配置失衡，CP值極低。\n"
      ]
     },
     "metadata": {},
     "output_type": "display_data"
    },
    {
     "name": "stdout",
     "output_type": "stream",
     "text": [
      "======\n"
     ]
    },
    {
     "data": {
      "text/html": [
       "<pre style=\"white-space:pre;overflow-x:auto;line-height:normal;font-family:Menlo,'DejaVu Sans Mono',consolas,'Courier New',monospace\">Agent3: <span style=\"font-weight: bold\">[</span>對gpt4o評價<span style=\"font-weight: bold\">]</span>: <span style=\"color: #008080; text-decoration-color: #008080; font-weight: bold\">9</span>  \n",
       "<span style=\"font-weight: bold\">[</span>對BuildMate評價<span style=\"font-weight: bold\">]</span>: <span style=\"color: #008080; text-decoration-color: #008080; font-weight: bold\">3</span>  \n",
       "<span style=\"font-weight: bold\">[</span>簡短原因<span style=\"font-weight: bold\">]</span>: gpt4o配置均衡，Ryzen <span style=\"color: #008080; text-decoration-color: #008080; font-weight: bold\">5</span> \n",
       "5600G內建顯卡效能足夠，記憶體容量適中，價格合理，符合預算與需求。BuildMate選用低效能Celeron \n",
       "CPU，卻搭配過高規主板與電源，配置失衡，性價比極低。\n",
       "</pre>\n"
      ],
      "text/plain": [
       "Agent3: \u001b[1m[\u001b[0m對gpt4o評價\u001b[1m]\u001b[0m: \u001b[1;36m9\u001b[0m  \n",
       "\u001b[1m[\u001b[0m對BuildMate評價\u001b[1m]\u001b[0m: \u001b[1;36m3\u001b[0m  \n",
       "\u001b[1m[\u001b[0m簡短原因\u001b[1m]\u001b[0m: gpt4o配置均衡，Ryzen \u001b[1;36m5\u001b[0m \n",
       "5600G內建顯卡效能足夠，記憶體容量適中，價格合理，符合預算與需求。BuildMate選用低效能Celeron \n",
       "CPU，卻搭配過高規主板與電源，配置失衡，性價比極低。\n"
      ]
     },
     "metadata": {},
     "output_type": "display_data"
    },
    {
     "name": "stdout",
     "output_type": "stream",
     "text": [
      "======\n"
     ]
    },
    {
     "data": {
      "text/html": [
       "<pre style=\"white-space:pre;overflow-x:auto;line-height:normal;font-family:Menlo,'DejaVu Sans Mono',consolas,'Courier New',monospace\">Coordinator: 已達成共識，gpt4o較佳：配置均衡，效能足夠，CP值高，符合預算與需求。\n",
       "</pre>\n"
      ],
      "text/plain": [
       "Coordinator: 已達成共識，gpt4o較佳：配置均衡，效能足夠，CP值高，符合預算與需求。\n"
      ]
     },
     "metadata": {},
     "output_type": "display_data"
    },
    {
     "name": "stdout",
     "output_type": "stream",
     "text": [
      "======\n",
      "{'Coordinator': {'messages': [HumanMessage(content='Agent1: [對gpt4o評價]: 8  \\n[對BuildMate評價]: 5  \\n[簡短原因]: gpt4o選用Ryzen 5 5600G內建顯卡，效能足夠且成本控制佳，適合多開瀏覽器。BuildMate配置不平衡，CPU性能過低，且主板與電源過度高規，性價比不佳。', additional_kwargs={}, response_metadata={}), HumanMessage(content='Agent2: [對gpt4o評價]: 9  \\n[對BuildMate評價]: 4  \\n[簡短原因]: gpt4o配置均衡，Ryzen 5 5600G內建顯卡效能足夠，預算控制佳。BuildMate選用低效能Celeron CPU，卻搭配高價主板與電源，配置嚴重失衡，CP值低。', additional_kwargs={}, response_metadata={}), HumanMessage(content='Agent3: [對gpt4o評價]: 9  \\n[對BuildMate評價]: 3  \\n[簡短原因]: gpt4o配置均衡，Ryzen 5 5600G內建顯卡效能足夠，記憶體容量適中，價格合理。BuildMate選用低效能Celeron CPU，卻搭配過高規主板與電源，配置嚴重失衡，性價比極低。', additional_kwargs={}, response_metadata={}), HumanMessage(content='Coordinator: 已達成共識，gpt4o較佳：配置均衡，效能足夠，CP值高，符合需求。', additional_kwargs={}, response_metadata={}), HumanMessage(content='Agent1: [對gpt4o評價]: 9  \\n[對BuildMate評價]: 4  \\n[簡短原因]: gpt4o配置均衡，Ryzen 5 5600G內建顯卡效能足夠，適合多開瀏覽器，且預算控制佳。BuildMate選用低效能Celeron CPU，搭配高價主板與電源，配置失衡，性價比低。', additional_kwargs={}, response_metadata={}), HumanMessage(content='Agent2: [對gpt4o評價]: 9  \\n[對BuildMate評價]: 3  \\n[簡短原因]: gpt4o配置均衡，Ryzen 5 5600G內建顯卡效能足夠，預算控制佳，符合需求。BuildMate選用低效能Celeron CPU，卻搭配過高價主板與電源，配置失衡，CP值極低。', additional_kwargs={}, response_metadata={}), HumanMessage(content='Agent3: [對gpt4o評價]: 9  \\n[對BuildMate評價]: 3  \\n[簡短原因]: gpt4o配置均衡，Ryzen 5 5600G內建顯卡效能足夠，記憶體容量適中，價格合理，符合預算與需求。BuildMate選用低效能Celeron CPU，卻搭配過高規主板與電源，配置失衡，性價比極低。', additional_kwargs={}, response_metadata={}), HumanMessage(content='Coordinator: 已達成共識，gpt4o較佳：配置均衡，效能足夠，CP值高，符合預算與需求。', additional_kwargs={}, response_metadata={})], 'next_agent': '__end__', 'question_id': 4, 'question': '預算大約20000元，尋求一台能寫報告和上網的簡易電腦，要求瀏覽器多開流暢。', 'gpt4o_recommendation': 'CPU: AMD Ryzen 5 5600G | price: 5500\\nMotherboard: ASRock B550M-HDV | price: 3000\\nMemory: Corsair Vengeance LPX 16GB (2x8GB) DDR4-3200 | price: 1600\\nGPU: AMD Radeon Graphics (內建) | price: 0\\nSSD: Crucial P3 500GB NVMe | price: 1500\\nPower Supply: Thermaltake Smart 500W | price: 1200\\nCase: Cooler Master MasterBox Q300L | price: 1200\\nCase Fan: ARCTIC P12 PWM PST | price: 300\\n總價: 14300', 'buildmate_recommendation': 'CPU: Intel Celeron G5900 | price: 800\\nMotherboard: 華碩 PRIME B560M-A | price: 5000\\nMemory: Corsair Vengeance LPX 16GB (2 x 8GB) DDR4 3200MHz | price: 2000\\nGPU: Corsair Vengeance LPX 16GB (2 x 8GB) DDR4 3200MHz | price: 2000\\nSSD: ADATA SU635 480GB SSD | price: 1500\\nPower Supply: 海盜船 RM550x 550W | price: 3500\\nCase: Intel Core i3-10100 | price: 4000\\nCase Fan: Cooler Master Hyper 212 Black Edition | price: 1500\\n總價: 20300', 'agent_scores': {'Agent1_round1': {'gpt4o_score': 8, 'buildmate_score': 5, 'reason': 'gpt4o選用Ryzen 5 5600G內建顯卡，效能足夠且成本控制佳，適合多開瀏覽器。BuildMate配置不平衡，CPU性能過低，且主板與電源過度高規，性價比不佳。'}, 'Agent2_round1': {'gpt4o_score': 9, 'buildmate_score': 4, 'reason': 'gpt4o配置均衡，Ryzen 5 5600G內建顯卡效能足夠，預算控制佳。BuildMate選用低效能Celeron CPU，卻搭配高價主板與電源，配置嚴重失衡，CP值低。'}, 'Agent3_round1': {'gpt4o_score': 9, 'buildmate_score': 3, 'reason': 'gpt4o配置均衡，Ryzen 5 5600G內建顯卡效能足夠，記憶體容量適中，價格合理。BuildMate選用低效能Celeron CPU，卻搭配過高規主板與電源，配置嚴重失衡，性價比極低。'}, 'Agent1_round2': {'gpt4o_score': 9, 'buildmate_score': 4, 'reason': 'gpt4o配置均衡，Ryzen 5 5600G內建顯卡效能足夠，適合多開瀏覽器，且預算控制佳。BuildMate選用低效能Celeron CPU，搭配高價主板與電源，配置失衡，性價比低。'}, 'Agent2_round2': {'gpt4o_score': 9, 'buildmate_score': 3, 'reason': 'gpt4o配置均衡，Ryzen 5 5600G內建顯卡效能足夠，預算控制佳，符合需求。BuildMate選用低效能Celeron CPU，卻搭配過高價主板與電源，配置失衡，CP值極低。'}, 'Agent3_round2': {'gpt4o_score': 9, 'buildmate_score': 3, 'reason': 'gpt4o配置均衡，Ryzen 5 5600G內建顯卡效能足夠，記憶體容量適中，價格合理，符合預算與需求。BuildMate選用低效能Celeron CPU，卻搭配過高規主板與電源，配置失衡，性價比極低。'}}, 'round_count': 2, 'max_rounds': 3, 'consensus_reached': True}}\n",
      "{\n",
      "  \"question_id\": 4,\n",
      "  \"question\": \"預算大約20000元，尋求一台能寫報告和上網的簡易電腦，要求瀏覽器多開流暢。\",\n",
      "  \"buildmate_recommendation\": \"CPU: Intel Celeron G5900 | price: 800\\nMotherboard: 華碩 PRIME B560M-A | price: 5000\\nMemory: Corsair Vengeance LPX 16GB (2 x 8GB) DDR4 3200MHz | price: 2000\\nGPU: Corsair Vengeance LPX 16GB (2 x 8GB) DDR4 3200MHz | price: 2000\\nSSD: ADATA SU635 480GB SSD | price: 1500\\nPower Supply: 海盜船 RM550x 550W | price: 3500\\nCase: Intel Core i3-10100 | price: 4000\\nCase Fan: Cooler Master Hyper 212 Black Edition | price: 1500\\n總價: 20300\",\n",
      "  \"gpt4o_recommendation\": \"CPU: AMD Ryzen 5 5600G | price: 5500\\nMotherboard: ASRock B550M-HDV | price: 3000\\nMemory: Corsair Vengeance LPX 16GB (2x8GB) DDR4-3200 | price: 1600\\nGPU: AMD Radeon Graphics (內建) | price: 0\\nSSD: Crucial P3 500GB NVMe | price: 1500\\nPower Supply: Thermaltake Smart 500W | price: 1200\\nCase: Cooler Master MasterBox Q300L | price: 1200\\nCase Fan: ARCTIC P12 PWM PST | price: 300\\n總價: 14300\",\n",
      "  \"winner\": 0,\n",
      "  \"buildmate_avg_score\": 3.6666666666666665,\n",
      "  \"gpt4o_avg_score\": 8.833333333333334,\n",
      "  \"rounds\": [\n",
      "    {\n",
      "      \"round_number\": 1,\n",
      "      \"Agent1\": {\n",
      "        \"gpt4o_score\": 8,\n",
      "        \"buildmate_score\": 5,\n",
      "        \"reason\": \"gpt4o選用Ryzen 5 5600G內建顯卡，效能足夠且成本控制佳，適合多開瀏覽器。BuildMate配置不平衡，CPU性能過低，且主板與電源過度高規，性價比不佳。\"\n",
      "      },\n",
      "      \"Agent2\": {\n",
      "        \"gpt4o_score\": 9,\n",
      "        \"buildmate_score\": 4,\n",
      "        \"reason\": \"gpt4o配置均衡，Ryzen 5 5600G內建顯卡效能足夠，預算控制佳。BuildMate選用低效能Celeron CPU，卻搭配高價主板與電源，配置嚴重失衡，CP值低。\"\n",
      "      },\n",
      "      \"Agent3\": {\n",
      "        \"gpt4o_score\": 9,\n",
      "        \"buildmate_score\": 3,\n",
      "        \"reason\": \"gpt4o配置均衡，Ryzen 5 5600G內建顯卡效能足夠，記憶體容量適中，價格合理。BuildMate選用低效能Celeron CPU，卻搭配過高規主板與電源，配置嚴重失衡，性價比極低。\"\n",
      "      }\n",
      "    },\n",
      "    {\n",
      "      \"round_number\": 2,\n",
      "      \"Agent1\": {\n",
      "        \"gpt4o_score\": 9,\n",
      "        \"buildmate_score\": 4,\n",
      "        \"reason\": \"gpt4o配置均衡，Ryzen 5 5600G內建顯卡效能足夠，適合多開瀏覽器，且預算控制佳。BuildMate選用低效能Celeron CPU，搭配高價主板與電源，配置失衡，性價比低。\"\n",
      "      },\n",
      "      \"Agent2\": {\n",
      "        \"gpt4o_score\": 9,\n",
      "        \"buildmate_score\": 3,\n",
      "        \"reason\": \"gpt4o配置均衡，Ryzen 5 5600G內建顯卡效能足夠，預算控制佳，符合需求。BuildMate選用低效能Celeron CPU，卻搭配過高價主板與電源，配置失衡，CP值極低。\"\n",
      "      },\n",
      "      \"Agent3\": {\n",
      "        \"gpt4o_score\": 9,\n",
      "        \"buildmate_score\": 3,\n",
      "        \"reason\": \"gpt4o配置均衡，Ryzen 5 5600G內建顯卡效能足夠，記憶體容量適中，價格合理，符合預算與需求。BuildMate選用低效能Celeron CPU，卻搭配過高規主板與電源，配置失衡，性價比極低。\"\n",
      "      }\n",
      "    }\n",
      "  ]\n",
      "}\n"
     ]
    },
    {
     "data": {
      "text/html": [
       "<pre style=\"white-space:pre;overflow-x:auto;line-height:normal;font-family:Menlo,'DejaVu Sans Mono',consolas,'Courier New',monospace\"><span style=\"font-weight: bold\">{</span>\n",
       "    <span style=\"color: #008000; text-decoration-color: #008000\">'question_id'</span>: <span style=\"color: #008080; text-decoration-color: #008080; font-weight: bold\">5</span>,\n",
       "    <span style=\"color: #008000; text-decoration-color: #008000\">'question'</span>: <span style=\"color: #008000; text-decoration-color: #008000\">'想請問80000元左右，能組出來什麼級別的遊戲主機？想玩些新遊戲，畫質要好。'</span>,\n",
       "    <span style=\"color: #008000; text-decoration-color: #008000\">'gpt4o_recommendation'</span>: <span style=\"color: #008000; text-decoration-color: #008000\">'CPU: AMD Ryzen 5 5600X | price: 5800\\nMotherboard: MSI B550-A PRO | price: </span>\n",
       "<span style=\"color: #008000; text-decoration-color: #008000\">3800\\nMemory: Corsair Vengeance LPX 16GB (2x8GB) DDR4-3200 | price: 1800\\nGPU: NVIDIA GeForce RTX 3060 Ti | price: </span>\n",
       "<span style=\"color: #008000; text-decoration-color: #008000\">11000\\nSSD: Western Digital Black SN750 1TB | price: 2200\\nPower Supply: Seasonic Focus GX-650 80+ Gold | price: </span>\n",
       "<span style=\"color: #008000; text-decoration-color: #008000\">3200\\nCase: NZXT H510 | price: 2000\\nCase Fan: ARCTIC P12 PWM PST | price: 300\\n總價: 30100'</span>,\n",
       "    <span style=\"color: #008000; text-decoration-color: #008000\">'buildmate_recommendation'</span>: <span style=\"color: #008000; text-decoration-color: #008000\">'CPU: AMD Ryzen 5 5600X | price: 8000\\nMotherboard: ASUS ROG Strix B550-F Gaming | </span>\n",
       "<span style=\"color: #008000; text-decoration-color: #008000\">price: 5500\\nMemory: Corsair Vengeance LPX 16GB (2 x 8GB) DDR4 3200MHz | price: 3200\\nGPU: NVIDIA GeForce RTX 3060 </span>\n",
       "<span style=\"color: #008000; text-decoration-color: #008000\">| price: 18900\\nSSD: Corsair RM650x | price: 4500\\nPower Supply: Corsair RM650x | price: 4500\\nCase: Cooler Master </span>\n",
       "<span style=\"color: #008000; text-decoration-color: #008000\">MasterBox Q300L | price: 1990\\nCase Fan: Cooler Master Hyper 212 Black Edition | price: 1500\\n總價: 48090'</span>\n",
       "<span style=\"font-weight: bold\">}</span>\n",
       "</pre>\n"
      ],
      "text/plain": [
       "\u001b[1m{\u001b[0m\n",
       "    \u001b[32m'question_id'\u001b[0m: \u001b[1;36m5\u001b[0m,\n",
       "    \u001b[32m'question'\u001b[0m: \u001b[32m'想請問80000元左右，能組出來什麼級別的遊戲主機？想玩些新遊戲，畫質要好。'\u001b[0m,\n",
       "    \u001b[32m'gpt4o_recommendation'\u001b[0m: \u001b[32m'CPU: AMD Ryzen 5 5600X | price: 5800\\nMotherboard: MSI B550-A PRO | price: \u001b[0m\n",
       "\u001b[32m3800\\nMemory: Corsair Vengeance LPX 16GB \u001b[0m\u001b[32m(\u001b[0m\u001b[32m2x8GB\u001b[0m\u001b[32m)\u001b[0m\u001b[32m DDR4-3200 | price: 1800\\nGPU: NVIDIA GeForce RTX 3060 Ti | price: \u001b[0m\n",
       "\u001b[32m11000\\nSSD: Western Digital Black SN750 1TB | price: 2200\\nPower Supply: Seasonic Focus GX-650 80+ Gold | price: \u001b[0m\n",
       "\u001b[32m3200\\nCase: NZXT H510 | price: 2000\\nCase Fan: ARCTIC P12 PWM PST | price: 300\\n總價: 30100'\u001b[0m,\n",
       "    \u001b[32m'buildmate_recommendation'\u001b[0m: \u001b[32m'CPU: AMD Ryzen 5 5600X | price: 8000\\nMotherboard: ASUS ROG Strix B550-F Gaming | \u001b[0m\n",
       "\u001b[32mprice: 5500\\nMemory: Corsair Vengeance LPX 16GB \u001b[0m\u001b[32m(\u001b[0m\u001b[32m2 x 8GB\u001b[0m\u001b[32m)\u001b[0m\u001b[32m DDR4 3200MHz | price: 3200\\nGPU: NVIDIA GeForce RTX 3060 \u001b[0m\n",
       "\u001b[32m| price: 18900\\nSSD: Corsair RM650x | price: 4500\\nPower Supply: Corsair RM650x | price: 4500\\nCase: Cooler Master \u001b[0m\n",
       "\u001b[32mMasterBox Q300L | price: 1990\\nCase Fan: Cooler Master Hyper 212 Black Edition | price: 1500\\n總價: 48090'\u001b[0m\n",
       "\u001b[1m}\u001b[0m\n"
      ]
     },
     "metadata": {},
     "output_type": "display_data"
    },
    {
     "data": {
      "text/html": [
       "<pre style=\"white-space:pre;overflow-x:auto;line-height:normal;font-family:Menlo,'DejaVu Sans Mono',consolas,'Courier New',monospace\">Agent1: <span style=\"font-weight: bold\">[</span>對gpt4o評價<span style=\"font-weight: bold\">]</span>: <span style=\"color: #008080; text-decoration-color: #008080; font-weight: bold\">8</span>  \n",
       "<span style=\"font-weight: bold\">[</span>對BuildMate評價<span style=\"font-weight: bold\">]</span>: <span style=\"color: #008080; text-decoration-color: #008080; font-weight: bold\">7</span>  \n",
       "\n",
       "<span style=\"font-weight: bold\">[</span>簡短原因<span style=\"font-weight: bold\">]</span>:  \n",
       "gpt4o在顯示卡選擇上提供更高效能的RTX <span style=\"color: #008080; text-decoration-color: #008080; font-weight: bold\">3060</span> \n",
       "Ti，且整體價格更具性價比；BuildMate的顯示卡效能稍弱，且部分元件價格偏高，影響平衡性。\n",
       "</pre>\n"
      ],
      "text/plain": [
       "Agent1: \u001b[1m[\u001b[0m對gpt4o評價\u001b[1m]\u001b[0m: \u001b[1;36m8\u001b[0m  \n",
       "\u001b[1m[\u001b[0m對BuildMate評價\u001b[1m]\u001b[0m: \u001b[1;36m7\u001b[0m  \n",
       "\n",
       "\u001b[1m[\u001b[0m簡短原因\u001b[1m]\u001b[0m:  \n",
       "gpt4o在顯示卡選擇上提供更高效能的RTX \u001b[1;36m3060\u001b[0m \n",
       "Ti，且整體價格更具性價比；BuildMate的顯示卡效能稍弱，且部分元件價格偏高，影響平衡性。\n"
      ]
     },
     "metadata": {},
     "output_type": "display_data"
    },
    {
     "name": "stdout",
     "output_type": "stream",
     "text": [
      "======\n"
     ]
    },
    {
     "data": {
      "text/html": [
       "<pre style=\"white-space:pre;overflow-x:auto;line-height:normal;font-family:Menlo,'DejaVu Sans Mono',consolas,'Courier New',monospace\">Agent2: <span style=\"font-weight: bold\">[</span>對gpt4o評價<span style=\"font-weight: bold\">]</span>: <span style=\"color: #008080; text-decoration-color: #008080; font-weight: bold\">9</span>  \n",
       "<span style=\"font-weight: bold\">[</span>對BuildMate評價<span style=\"font-weight: bold\">]</span>: <span style=\"color: #008080; text-decoration-color: #008080; font-weight: bold\">6</span>  \n",
       "\n",
       "<span style=\"font-weight: bold\">[</span>簡短原因<span style=\"font-weight: bold\">]</span>:  \n",
       "gpt4o在顯卡選擇上提供更高效能的RTX <span style=\"color: #008080; text-decoration-color: #008080; font-weight: bold\">3060</span> \n",
       "Ti，且價格控制得當，整體性價比高；BuildMate的顯卡效能較弱，且CPU與主機板價格偏高，影響CP值。\n",
       "</pre>\n"
      ],
      "text/plain": [
       "Agent2: \u001b[1m[\u001b[0m對gpt4o評價\u001b[1m]\u001b[0m: \u001b[1;36m9\u001b[0m  \n",
       "\u001b[1m[\u001b[0m對BuildMate評價\u001b[1m]\u001b[0m: \u001b[1;36m6\u001b[0m  \n",
       "\n",
       "\u001b[1m[\u001b[0m簡短原因\u001b[1m]\u001b[0m:  \n",
       "gpt4o在顯卡選擇上提供更高效能的RTX \u001b[1;36m3060\u001b[0m \n",
       "Ti，且價格控制得當，整體性價比高；BuildMate的顯卡效能較弱，且CPU與主機板價格偏高，影響CP值。\n"
      ]
     },
     "metadata": {},
     "output_type": "display_data"
    },
    {
     "name": "stdout",
     "output_type": "stream",
     "text": [
      "======\n"
     ]
    },
    {
     "data": {
      "text/html": [
       "<pre style=\"white-space:pre;overflow-x:auto;line-height:normal;font-family:Menlo,'DejaVu Sans Mono',consolas,'Courier New',monospace\">Agent3: <span style=\"font-weight: bold\">[</span>對gpt4o評價<span style=\"font-weight: bold\">]</span>: <span style=\"color: #008080; text-decoration-color: #008080; font-weight: bold\">9</span>  \n",
       "<span style=\"font-weight: bold\">[</span>對BuildMate評價<span style=\"font-weight: bold\">]</span>: <span style=\"color: #008080; text-decoration-color: #008080; font-weight: bold\">6</span>  \n",
       "\n",
       "<span style=\"font-weight: bold\">[</span>簡短原因<span style=\"font-weight: bold\">]</span>:  \n",
       "gpt4o的清單在GPU選擇上提供更高效能的RTX <span style=\"color: #008080; text-decoration-color: #008080; font-weight: bold\">3060</span> \n",
       "Ti，且價格控制得當，整體性價比高；BuildMate的清單GPU效能較弱，且CPU與主機板價格偏高，影響整體平衡性與CP值。\n",
       "</pre>\n"
      ],
      "text/plain": [
       "Agent3: \u001b[1m[\u001b[0m對gpt4o評價\u001b[1m]\u001b[0m: \u001b[1;36m9\u001b[0m  \n",
       "\u001b[1m[\u001b[0m對BuildMate評價\u001b[1m]\u001b[0m: \u001b[1;36m6\u001b[0m  \n",
       "\n",
       "\u001b[1m[\u001b[0m簡短原因\u001b[1m]\u001b[0m:  \n",
       "gpt4o的清單在GPU選擇上提供更高效能的RTX \u001b[1;36m3060\u001b[0m \n",
       "Ti，且價格控制得當，整體性價比高；BuildMate的清單GPU效能較弱，且CPU與主機板價格偏高，影響整體平衡性與CP值。\n"
      ]
     },
     "metadata": {},
     "output_type": "display_data"
    },
    {
     "name": "stdout",
     "output_type": "stream",
     "text": [
      "======\n"
     ]
    },
    {
     "data": {
      "text/html": [
       "<pre style=\"white-space:pre;overflow-x:auto;line-height:normal;font-family:Menlo,'DejaVu Sans Mono',consolas,'Courier New',monospace\">Coordinator: 已達成共識，gpt4o較佳：  \n",
       "gpt4o提供效能更高的RTX <span style=\"color: #008080; text-decoration-color: #008080; font-weight: bold\">3060</span> Ti，且整體價格更具性價比，滿足需求的同時更符合預算。\n",
       "</pre>\n"
      ],
      "text/plain": [
       "Coordinator: 已達成共識，gpt4o較佳：  \n",
       "gpt4o提供效能更高的RTX \u001b[1;36m3060\u001b[0m Ti，且整體價格更具性價比，滿足需求的同時更符合預算。\n"
      ]
     },
     "metadata": {},
     "output_type": "display_data"
    },
    {
     "name": "stdout",
     "output_type": "stream",
     "text": [
      "======\n"
     ]
    },
    {
     "data": {
      "text/html": [
       "<pre style=\"white-space:pre;overflow-x:auto;line-height:normal;font-family:Menlo,'DejaVu Sans Mono',consolas,'Courier New',monospace\">Agent1: <span style=\"font-weight: bold\">[</span>對gpt4o評價<span style=\"font-weight: bold\">]</span>: <span style=\"color: #008080; text-decoration-color: #008080; font-weight: bold\">9</span>  \n",
       "<span style=\"font-weight: bold\">[</span>對BuildMate評價<span style=\"font-weight: bold\">]</span>: <span style=\"color: #008080; text-decoration-color: #008080; font-weight: bold\">7</span>  \n",
       "\n",
       "<span style=\"font-weight: bold\">[</span>簡短原因<span style=\"font-weight: bold\">]</span>:  \n",
       "gpt4o的清單在顯卡選擇上提供更高效能的RTX <span style=\"color: #008080; text-decoration-color: #008080; font-weight: bold\">3060</span> \n",
       "Ti，且整體價格控制優秀，性價比高；BuildMate的顯卡效能較弱，且部分元件價格偏高，影響平衡性與效能表現。\n",
       "</pre>\n"
      ],
      "text/plain": [
       "Agent1: \u001b[1m[\u001b[0m對gpt4o評價\u001b[1m]\u001b[0m: \u001b[1;36m9\u001b[0m  \n",
       "\u001b[1m[\u001b[0m對BuildMate評價\u001b[1m]\u001b[0m: \u001b[1;36m7\u001b[0m  \n",
       "\n",
       "\u001b[1m[\u001b[0m簡短原因\u001b[1m]\u001b[0m:  \n",
       "gpt4o的清單在顯卡選擇上提供更高效能的RTX \u001b[1;36m3060\u001b[0m \n",
       "Ti，且整體價格控制優秀，性價比高；BuildMate的顯卡效能較弱，且部分元件價格偏高，影響平衡性與效能表現。\n"
      ]
     },
     "metadata": {},
     "output_type": "display_data"
    },
    {
     "name": "stdout",
     "output_type": "stream",
     "text": [
      "======\n"
     ]
    },
    {
     "data": {
      "text/html": [
       "<pre style=\"white-space:pre;overflow-x:auto;line-height:normal;font-family:Menlo,'DejaVu Sans Mono',consolas,'Courier New',monospace\">Agent2: <span style=\"font-weight: bold\">[</span>對gpt4o評價<span style=\"font-weight: bold\">]</span>: <span style=\"color: #008080; text-decoration-color: #008080; font-weight: bold\">9</span>  \n",
       "<span style=\"font-weight: bold\">[</span>對BuildMate評價<span style=\"font-weight: bold\">]</span>: <span style=\"color: #008080; text-decoration-color: #008080; font-weight: bold\">6</span>  \n",
       "\n",
       "<span style=\"font-weight: bold\">[</span>簡短原因<span style=\"font-weight: bold\">]</span>:  \n",
       "gpt4o的清單在GPU選擇上提供更高效能的RTX <span style=\"color: #008080; text-decoration-color: #008080; font-weight: bold\">3060</span> \n",
       "Ti，且整體價格控制合理，性價比高；BuildMate的GPU效能較弱，且CPU與主機板價格偏高，影響整體CP值。\n",
       "</pre>\n"
      ],
      "text/plain": [
       "Agent2: \u001b[1m[\u001b[0m對gpt4o評價\u001b[1m]\u001b[0m: \u001b[1;36m9\u001b[0m  \n",
       "\u001b[1m[\u001b[0m對BuildMate評價\u001b[1m]\u001b[0m: \u001b[1;36m6\u001b[0m  \n",
       "\n",
       "\u001b[1m[\u001b[0m簡短原因\u001b[1m]\u001b[0m:  \n",
       "gpt4o的清單在GPU選擇上提供更高效能的RTX \u001b[1;36m3060\u001b[0m \n",
       "Ti，且整體價格控制合理，性價比高；BuildMate的GPU效能較弱，且CPU與主機板價格偏高，影響整體CP值。\n"
      ]
     },
     "metadata": {},
     "output_type": "display_data"
    },
    {
     "name": "stdout",
     "output_type": "stream",
     "text": [
      "======\n"
     ]
    },
    {
     "data": {
      "text/html": [
       "<pre style=\"white-space:pre;overflow-x:auto;line-height:normal;font-family:Menlo,'DejaVu Sans Mono',consolas,'Courier New',monospace\">Agent3: <span style=\"font-weight: bold\">[</span>對gpt4o評價<span style=\"font-weight: bold\">]</span>: <span style=\"color: #008080; text-decoration-color: #008080; font-weight: bold\">9</span>  \n",
       "<span style=\"font-weight: bold\">[</span>對BuildMate評價<span style=\"font-weight: bold\">]</span>: <span style=\"color: #008080; text-decoration-color: #008080; font-weight: bold\">6</span>  \n",
       "\n",
       "<span style=\"font-weight: bold\">[</span>簡短原因<span style=\"font-weight: bold\">]</span>:  \n",
       "gpt4o的清單在GPU選擇上提供效能更高的RTX <span style=\"color: #008080; text-decoration-color: #008080; font-weight: bold\">3060</span> \n",
       "Ti，且價格控制合理，性價比極高；BuildMate的GPU效能較弱，且CPU、主機板與電源價格偏高，影響整體平衡性與預算利用效率。\n",
       "</pre>\n"
      ],
      "text/plain": [
       "Agent3: \u001b[1m[\u001b[0m對gpt4o評價\u001b[1m]\u001b[0m: \u001b[1;36m9\u001b[0m  \n",
       "\u001b[1m[\u001b[0m對BuildMate評價\u001b[1m]\u001b[0m: \u001b[1;36m6\u001b[0m  \n",
       "\n",
       "\u001b[1m[\u001b[0m簡短原因\u001b[1m]\u001b[0m:  \n",
       "gpt4o的清單在GPU選擇上提供效能更高的RTX \u001b[1;36m3060\u001b[0m \n",
       "Ti，且價格控制合理，性價比極高；BuildMate的GPU效能較弱，且CPU、主機板與電源價格偏高，影響整體平衡性與預算利用效率。\n"
      ]
     },
     "metadata": {},
     "output_type": "display_data"
    },
    {
     "name": "stdout",
     "output_type": "stream",
     "text": [
      "======\n"
     ]
    },
    {
     "data": {
      "text/html": [
       "<pre style=\"white-space:pre;overflow-x:auto;line-height:normal;font-family:Menlo,'DejaVu Sans Mono',consolas,'Courier New',monospace\">Coordinator: 已達成共識，gpt4o較佳：  \n",
       "gpt4o提供效能更高的RTX <span style=\"color: #008080; text-decoration-color: #008080; font-weight: bold\">3060</span> Ti，且整體價格控制更合理，性價比與需求符合度均優於BuildMate。\n",
       "</pre>\n"
      ],
      "text/plain": [
       "Coordinator: 已達成共識，gpt4o較佳：  \n",
       "gpt4o提供效能更高的RTX \u001b[1;36m3060\u001b[0m Ti，且整體價格控制更合理，性價比與需求符合度均優於BuildMate。\n"
      ]
     },
     "metadata": {},
     "output_type": "display_data"
    },
    {
     "name": "stdout",
     "output_type": "stream",
     "text": [
      "======\n",
      "{'Coordinator': {'messages': [HumanMessage(content='Agent1: [對gpt4o評價]: 8  \\n[對BuildMate評價]: 7  \\n\\n[簡短原因]:  \\ngpt4o在顯示卡選擇上提供更高效能的RTX 3060 Ti，且整體價格更具性價比；BuildMate的顯示卡效能稍弱，且部分元件價格偏高，影響平衡性。', additional_kwargs={}, response_metadata={}), HumanMessage(content='Agent2: [對gpt4o評價]: 9  \\n[對BuildMate評價]: 6  \\n\\n[簡短原因]:  \\ngpt4o在顯卡選擇上提供更高效能的RTX 3060 Ti，且價格控制得當，整體性價比高；BuildMate的顯卡效能較弱，且CPU與主機板價格偏高，影響CP值。', additional_kwargs={}, response_metadata={}), HumanMessage(content='Agent3: [對gpt4o評價]: 9  \\n[對BuildMate評價]: 6  \\n\\n[簡短原因]:  \\ngpt4o的清單在GPU選擇上提供更高效能的RTX 3060 Ti，且價格控制得當，整體性價比高；BuildMate的清單GPU效能較弱，且CPU與主機板價格偏高，影響整體平衡性與CP值。', additional_kwargs={}, response_metadata={}), HumanMessage(content='Coordinator: 已達成共識，gpt4o較佳：  \\ngpt4o提供效能更高的RTX 3060 Ti，且整體價格更具性價比，滿足需求的同時更符合預算。', additional_kwargs={}, response_metadata={}), HumanMessage(content='Agent1: [對gpt4o評價]: 9  \\n[對BuildMate評價]: 7  \\n\\n[簡短原因]:  \\ngpt4o的清單在顯卡選擇上提供更高效能的RTX 3060 Ti，且整體價格控制優秀，性價比高；BuildMate的顯卡效能較弱，且部分元件價格偏高，影響平衡性與效能表現。', additional_kwargs={}, response_metadata={}), HumanMessage(content='Agent2: [對gpt4o評價]: 9  \\n[對BuildMate評價]: 6  \\n\\n[簡短原因]:  \\ngpt4o的清單在GPU選擇上提供更高效能的RTX 3060 Ti，且整體價格控制合理，性價比高；BuildMate的GPU效能較弱，且CPU與主機板價格偏高，影響整體CP值。', additional_kwargs={}, response_metadata={}), HumanMessage(content='Agent3: [對gpt4o評價]: 9  \\n[對BuildMate評價]: 6  \\n\\n[簡短原因]:  \\ngpt4o的清單在GPU選擇上提供效能更高的RTX 3060 Ti，且價格控制合理，性價比極高；BuildMate的GPU效能較弱，且CPU、主機板與電源價格偏高，影響整體平衡性與預算利用效率。', additional_kwargs={}, response_metadata={}), HumanMessage(content='Coordinator: 已達成共識，gpt4o較佳：  \\ngpt4o提供效能更高的RTX 3060 Ti，且整體價格控制更合理，性價比與需求符合度均優於BuildMate。', additional_kwargs={}, response_metadata={})], 'next_agent': '__end__', 'question_id': 5, 'question': '想請問80000元左右，能組出來什麼級別的遊戲主機？想玩些新遊戲，畫質要好。', 'gpt4o_recommendation': 'CPU: AMD Ryzen 5 5600X | price: 5800\\nMotherboard: MSI B550-A PRO | price: 3800\\nMemory: Corsair Vengeance LPX 16GB (2x8GB) DDR4-3200 | price: 1800\\nGPU: NVIDIA GeForce RTX 3060 Ti | price: 11000\\nSSD: Western Digital Black SN750 1TB | price: 2200\\nPower Supply: Seasonic Focus GX-650 80+ Gold | price: 3200\\nCase: NZXT H510 | price: 2000\\nCase Fan: ARCTIC P12 PWM PST | price: 300\\n總價: 30100', 'buildmate_recommendation': 'CPU: AMD Ryzen 5 5600X | price: 8000\\nMotherboard: ASUS ROG Strix B550-F Gaming | price: 5500\\nMemory: Corsair Vengeance LPX 16GB (2 x 8GB) DDR4 3200MHz | price: 3200\\nGPU: NVIDIA GeForce RTX 3060 | price: 18900\\nSSD: Corsair RM650x | price: 4500\\nPower Supply: Corsair RM650x | price: 4500\\nCase: Cooler Master MasterBox Q300L | price: 1990\\nCase Fan: Cooler Master Hyper 212 Black Edition | price: 1500\\n總價: 48090', 'agent_scores': {'Agent1_round1': {'gpt4o_score': 8, 'buildmate_score': 7, 'reason': 'gpt4o在顯示卡選擇上提供更高效能的RTX 3060 Ti，且整體價格更具性價比；BuildMate的顯示卡效能稍弱，且部分元件價格偏高，影響平衡性。'}, 'Agent2_round1': {'gpt4o_score': 9, 'buildmate_score': 6, 'reason': 'gpt4o在顯卡選擇上提供更高效能的RTX 3060 Ti，且價格控制得當，整體性價比高；BuildMate的顯卡效能較弱，且CPU與主機板價格偏高，影響CP值。'}, 'Agent3_round1': {'gpt4o_score': 9, 'buildmate_score': 6, 'reason': 'gpt4o的清單在GPU選擇上提供更高效能的RTX 3060 Ti，且價格控制得當，整體性價比高；BuildMate的清單GPU效能較弱，且CPU與主機板價格偏高，影響整體平衡性與CP值。'}, 'Agent1_round2': {'gpt4o_score': 9, 'buildmate_score': 7, 'reason': 'gpt4o的清單在顯卡選擇上提供更高效能的RTX 3060 Ti，且整體價格控制優秀，性價比高；BuildMate的顯卡效能較弱，且部分元件價格偏高，影響平衡性與效能表現。'}, 'Agent2_round2': {'gpt4o_score': 9, 'buildmate_score': 6, 'reason': 'gpt4o的清單在GPU選擇上提供更高效能的RTX 3060 Ti，且整體價格控制合理，性價比高；BuildMate的GPU效能較弱，且CPU與主機板價格偏高，影響整體CP值。'}, 'Agent3_round2': {'gpt4o_score': 9, 'buildmate_score': 6, 'reason': 'gpt4o的清單在GPU選擇上提供效能更高的RTX 3060 Ti，且價格控制合理，性價比極高；BuildMate的GPU效能較弱，且CPU、主機板與電源價格偏高，影響整體平衡性與預算利用效率。'}}, 'round_count': 2, 'max_rounds': 3, 'consensus_reached': True}}\n",
      "{\n",
      "  \"question_id\": 5,\n",
      "  \"question\": \"想請問80000元左右，能組出來什麼級別的遊戲主機？想玩些新遊戲，畫質要好。\",\n",
      "  \"buildmate_recommendation\": \"CPU: AMD Ryzen 5 5600X | price: 8000\\nMotherboard: ASUS ROG Strix B550-F Gaming | price: 5500\\nMemory: Corsair Vengeance LPX 16GB (2 x 8GB) DDR4 3200MHz | price: 3200\\nGPU: NVIDIA GeForce RTX 3060 | price: 18900\\nSSD: Corsair RM650x | price: 4500\\nPower Supply: Corsair RM650x | price: 4500\\nCase: Cooler Master MasterBox Q300L | price: 1990\\nCase Fan: Cooler Master Hyper 212 Black Edition | price: 1500\\n總價: 48090\",\n",
      "  \"gpt4o_recommendation\": \"CPU: AMD Ryzen 5 5600X | price: 5800\\nMotherboard: MSI B550-A PRO | price: 3800\\nMemory: Corsair Vengeance LPX 16GB (2x8GB) DDR4-3200 | price: 1800\\nGPU: NVIDIA GeForce RTX 3060 Ti | price: 11000\\nSSD: Western Digital Black SN750 1TB | price: 2200\\nPower Supply: Seasonic Focus GX-650 80+ Gold | price: 3200\\nCase: NZXT H510 | price: 2000\\nCase Fan: ARCTIC P12 PWM PST | price: 300\\n總價: 30100\",\n",
      "  \"winner\": 0,\n",
      "  \"buildmate_avg_score\": 6.333333333333333,\n",
      "  \"gpt4o_avg_score\": 8.833333333333334,\n",
      "  \"rounds\": [\n",
      "    {\n",
      "      \"round_number\": 1,\n",
      "      \"Agent1\": {\n",
      "        \"gpt4o_score\": 8,\n",
      "        \"buildmate_score\": 7,\n",
      "        \"reason\": \"gpt4o在顯示卡選擇上提供更高效能的RTX 3060 Ti，且整體價格更具性價比；BuildMate的顯示卡效能稍弱，且部分元件價格偏高，影響平衡性。\"\n",
      "      },\n",
      "      \"Agent2\": {\n",
      "        \"gpt4o_score\": 9,\n",
      "        \"buildmate_score\": 6,\n",
      "        \"reason\": \"gpt4o在顯卡選擇上提供更高效能的RTX 3060 Ti，且價格控制得當，整體性價比高；BuildMate的顯卡效能較弱，且CPU與主機板價格偏高，影響CP值。\"\n",
      "      },\n",
      "      \"Agent3\": {\n",
      "        \"gpt4o_score\": 9,\n",
      "        \"buildmate_score\": 6,\n",
      "        \"reason\": \"gpt4o的清單在GPU選擇上提供更高效能的RTX 3060 Ti，且價格控制得當，整體性價比高；BuildMate的清單GPU效能較弱，且CPU與主機板價格偏高，影響整體平衡性與CP值。\"\n",
      "      }\n",
      "    },\n",
      "    {\n",
      "      \"round_number\": 2,\n",
      "      \"Agent1\": {\n",
      "        \"gpt4o_score\": 9,\n",
      "        \"buildmate_score\": 7,\n",
      "        \"reason\": \"gpt4o的清單在顯卡選擇上提供更高效能的RTX 3060 Ti，且整體價格控制優秀，性價比高；BuildMate的顯卡效能較弱，且部分元件價格偏高，影響平衡性與效能表現。\"\n",
      "      },\n",
      "      \"Agent2\": {\n",
      "        \"gpt4o_score\": 9,\n",
      "        \"buildmate_score\": 6,\n",
      "        \"reason\": \"gpt4o的清單在GPU選擇上提供更高效能的RTX 3060 Ti，且整體價格控制合理，性價比高；BuildMate的GPU效能較弱，且CPU與主機板價格偏高，影響整體CP值。\"\n",
      "      },\n",
      "      \"Agent3\": {\n",
      "        \"gpt4o_score\": 9,\n",
      "        \"buildmate_score\": 6,\n",
      "        \"reason\": \"gpt4o的清單在GPU選擇上提供效能更高的RTX 3060 Ti，且價格控制合理，性價比極高；BuildMate的GPU效能較弱，且CPU、主機板與電源價格偏高，影響整體平衡性與預算利用效率。\"\n",
      "      }\n",
      "    }\n",
      "  ]\n",
      "}\n"
     ]
    },
    {
     "data": {
      "text/html": [
       "<pre style=\"white-space:pre;overflow-x:auto;line-height:normal;font-family:Menlo,'DejaVu Sans Mono',consolas,'Courier New',monospace\"><span style=\"font-weight: bold\">{</span>\n",
       "    <span style=\"color: #008000; text-decoration-color: #008000\">'question_id'</span>: <span style=\"color: #008080; text-decoration-color: #008080; font-weight: bold\">6</span>,\n",
       "    <span style=\"color: #008000; text-decoration-color: #008000\">'question'</span>: <span style=\"color: #008000; text-decoration-color: #008000\">'工作需要，我要一台能跑Solidworks和AutoCAD的工作站，預算大概60000元，有建議嗎？'</span>,\n",
       "    <span style=\"color: #008000; text-decoration-color: #008000\">'gpt4o_recommendation'</span>: <span style=\"color: #008000; text-decoration-color: #008000\">'CPU: AMD Ryzen 5 5600X | price: 5500\\nMotherboard: MSI B550M PRO-VDH WIFI | price: </span>\n",
       "<span style=\"color: #008000; text-decoration-color: #008000\">3500\\nMemory: Corsair Vengeance LPX 16GB (2x8GB) DDR4-3200 | price: 1800\\nGPU: NVIDIA GeForce GTX 1660 Super | </span>\n",
       "<span style=\"color: #008000; text-decoration-color: #008000\">price: 7000\\nSSD: Crucial P3 1TB NVMe SSD | price: 2200\\nPower Supply: Seasonic S12III 650W 80+ Bronze | price: </span>\n",
       "<span style=\"color: #008000; text-decoration-color: #008000\">2500\\nCase: NZXT H510 | price: 2000\\nCase Fan: ARCTIC P12 PWM PST | price: 300\\n總價: 24800'</span>,\n",
       "    <span style=\"color: #008000; text-decoration-color: #008000\">'buildmate_recommendation'</span>: <span style=\"color: #008000; text-decoration-color: #008000\">'CPU: Intel 第九代 i5-9600K | price: 6000\\nMotherboard: ASUS Pro WS X299 Sage | </span>\n",
       "<span style=\"color: #008000; text-decoration-color: #008000\">price: 12000\\nMemory: Corsair Vengeance LPX 32GB (2 x 16GB) DDR4 3200MHz | price: 6000\\nGPU: NVIDIA GeForce GTX </span>\n",
       "<span style=\"color: #008000; text-decoration-color: #008000\">1660 Super | price: 8000\\nSSD: Corsair RM850x 850W 80 Plus Gold | price: 5000\\nPower Supply: 電源供應器 Seasonic </span>\n",
       "<span style=\"color: #008000; text-decoration-color: #008000\">Focus GX-850 (850W) | price: 5000\\nCase: Intel Core i9-10920X | price: 13000\\nCase Fan: Noctua NH-D15 | price: </span>\n",
       "<span style=\"color: #008000; text-decoration-color: #008000\">4000\\n總價: 59000'</span>\n",
       "<span style=\"font-weight: bold\">}</span>\n",
       "</pre>\n"
      ],
      "text/plain": [
       "\u001b[1m{\u001b[0m\n",
       "    \u001b[32m'question_id'\u001b[0m: \u001b[1;36m6\u001b[0m,\n",
       "    \u001b[32m'question'\u001b[0m: \u001b[32m'工作需要，我要一台能跑Solidworks和AutoCAD的工作站，預算大概60000元，有建議嗎？'\u001b[0m,\n",
       "    \u001b[32m'gpt4o_recommendation'\u001b[0m: \u001b[32m'CPU: AMD Ryzen 5 5600X | price: 5500\\nMotherboard: MSI B550M PRO-VDH WIFI | price: \u001b[0m\n",
       "\u001b[32m3500\\nMemory: Corsair Vengeance LPX 16GB \u001b[0m\u001b[32m(\u001b[0m\u001b[32m2x8GB\u001b[0m\u001b[32m)\u001b[0m\u001b[32m DDR4-3200 | price: 1800\\nGPU: NVIDIA GeForce GTX 1660 Super | \u001b[0m\n",
       "\u001b[32mprice: 7000\\nSSD: Crucial P3 1TB NVMe SSD | price: 2200\\nPower Supply: Seasonic S12III 650W 80+ Bronze | price: \u001b[0m\n",
       "\u001b[32m2500\\nCase: NZXT H510 | price: 2000\\nCase Fan: ARCTIC P12 PWM PST | price: 300\\n總價: 24800'\u001b[0m,\n",
       "    \u001b[32m'buildmate_recommendation'\u001b[0m: \u001b[32m'CPU: Intel 第九代 i5-9600K | price: 6000\\nMotherboard: ASUS Pro WS X299 Sage | \u001b[0m\n",
       "\u001b[32mprice: 12000\\nMemory: Corsair Vengeance LPX 32GB \u001b[0m\u001b[32m(\u001b[0m\u001b[32m2 x 16GB\u001b[0m\u001b[32m)\u001b[0m\u001b[32m DDR4 3200MHz | price: 6000\\nGPU: NVIDIA GeForce GTX \u001b[0m\n",
       "\u001b[32m1660 Super | price: 8000\\nSSD: Corsair RM850x 850W 80 Plus Gold | price: 5000\\nPower Supply: 電源供應器 Seasonic \u001b[0m\n",
       "\u001b[32mFocus GX-850 \u001b[0m\u001b[32m(\u001b[0m\u001b[32m850W\u001b[0m\u001b[32m)\u001b[0m\u001b[32m | price: 5000\\nCase: Intel Core i9-10920X | price: 13000\\nCase Fan: Noctua NH-D15 | price: \u001b[0m\n",
       "\u001b[32m4000\\n總價: 59000'\u001b[0m\n",
       "\u001b[1m}\u001b[0m\n"
      ]
     },
     "metadata": {},
     "output_type": "display_data"
    },
    {
     "data": {
      "text/html": [
       "<pre style=\"white-space:pre;overflow-x:auto;line-height:normal;font-family:Menlo,'DejaVu Sans Mono',consolas,'Courier New',monospace\">Agent1: <span style=\"font-weight: bold\">[</span>對gpt4o評價<span style=\"font-weight: bold\">]</span>: <span style=\"color: #008080; text-decoration-color: #008080; font-weight: bold\">6</span>  \n",
       "<span style=\"font-weight: bold\">[</span>對BuildMate評價<span style=\"font-weight: bold\">]</span>: <span style=\"color: #008080; text-decoration-color: #008080; font-weight: bold\">7</span>  \n",
       "\n",
       "<span style=\"font-weight: bold\">[</span>簡短原因<span style=\"font-weight: bold\">]</span>:  \n",
       "gpt4o的清單效能偏低，尤其在記憶體容量和處理器選擇上不足以支援Solidworks和AutoCAD的高效運行；BuildMate雖然有過剩的電\n",
       "源和散熱，但記憶體容量和處理器效能更適合專業工作站需求。\n",
       "</pre>\n"
      ],
      "text/plain": [
       "Agent1: \u001b[1m[\u001b[0m對gpt4o評價\u001b[1m]\u001b[0m: \u001b[1;36m6\u001b[0m  \n",
       "\u001b[1m[\u001b[0m對BuildMate評價\u001b[1m]\u001b[0m: \u001b[1;36m7\u001b[0m  \n",
       "\n",
       "\u001b[1m[\u001b[0m簡短原因\u001b[1m]\u001b[0m:  \n",
       "gpt4o的清單效能偏低，尤其在記憶體容量和處理器選擇上不足以支援Solidworks和AutoCAD的高效運行；BuildMate雖然有過剩的電\n",
       "源和散熱，但記憶體容量和處理器效能更適合專業工作站需求。\n"
      ]
     },
     "metadata": {},
     "output_type": "display_data"
    },
    {
     "name": "stdout",
     "output_type": "stream",
     "text": [
      "======\n"
     ]
    },
    {
     "data": {
      "text/html": [
       "<pre style=\"white-space:pre;overflow-x:auto;line-height:normal;font-family:Menlo,'DejaVu Sans Mono',consolas,'Courier New',monospace\">Agent2: <span style=\"font-weight: bold\">[</span>對gpt4o評價<span style=\"font-weight: bold\">]</span>: <span style=\"color: #008080; text-decoration-color: #008080; font-weight: bold\">5</span>  \n",
       "<span style=\"font-weight: bold\">[</span>對BuildMate評價<span style=\"font-weight: bold\">]</span>: <span style=\"color: #008080; text-decoration-color: #008080; font-weight: bold\">6</span>  \n",
       "\n",
       "<span style=\"font-weight: bold\">[</span>簡短原因<span style=\"font-weight: bold\">]</span>:  \n",
       "gpt4o清單效能不足，特別是記憶體容量和處理器無法滿足專業需求；BuildMate效能更強，但主機板和電源過於昂貴，預算分配不\n",
       "均。\n",
       "</pre>\n"
      ],
      "text/plain": [
       "Agent2: \u001b[1m[\u001b[0m對gpt4o評價\u001b[1m]\u001b[0m: \u001b[1;36m5\u001b[0m  \n",
       "\u001b[1m[\u001b[0m對BuildMate評價\u001b[1m]\u001b[0m: \u001b[1;36m6\u001b[0m  \n",
       "\n",
       "\u001b[1m[\u001b[0m簡短原因\u001b[1m]\u001b[0m:  \n",
       "gpt4o清單效能不足，特別是記憶體容量和處理器無法滿足專業需求；BuildMate效能更強，但主機板和電源過於昂貴，預算分配不\n",
       "均。\n"
      ]
     },
     "metadata": {},
     "output_type": "display_data"
    },
    {
     "name": "stdout",
     "output_type": "stream",
     "text": [
      "======\n"
     ]
    },
    {
     "data": {
      "text/html": [
       "<pre style=\"white-space:pre;overflow-x:auto;line-height:normal;font-family:Menlo,'DejaVu Sans Mono',consolas,'Courier New',monospace\">Agent3: <span style=\"font-weight: bold\">[</span>對gpt4o評價<span style=\"font-weight: bold\">]</span>: <span style=\"color: #008080; text-decoration-color: #008080; font-weight: bold\">4</span>  \n",
       "<span style=\"font-weight: bold\">[</span>對BuildMate評價<span style=\"font-weight: bold\">]</span>: <span style=\"color: #008080; text-decoration-color: #008080; font-weight: bold\">7</span>  \n",
       "\n",
       "<span style=\"font-weight: bold\">[</span>簡短原因<span style=\"font-weight: bold\">]</span>:  \n",
       "gpt4o的清單效能嚴重不足，特別是記憶體容量和CPU效能無法滿足Solidworks和AutoCAD需求；BuildMate效能較佳，但主機板和電\n",
       "源過度昂貴，預算分配不均，仍能滿足需求。\n",
       "</pre>\n"
      ],
      "text/plain": [
       "Agent3: \u001b[1m[\u001b[0m對gpt4o評價\u001b[1m]\u001b[0m: \u001b[1;36m4\u001b[0m  \n",
       "\u001b[1m[\u001b[0m對BuildMate評價\u001b[1m]\u001b[0m: \u001b[1;36m7\u001b[0m  \n",
       "\n",
       "\u001b[1m[\u001b[0m簡短原因\u001b[1m]\u001b[0m:  \n",
       "gpt4o的清單效能嚴重不足，特別是記憶體容量和CPU效能無法滿足Solidworks和AutoCAD需求；BuildMate效能較佳，但主機板和電\n",
       "源過度昂貴，預算分配不均，仍能滿足需求。\n"
      ]
     },
     "metadata": {},
     "output_type": "display_data"
    },
    {
     "name": "stdout",
     "output_type": "stream",
     "text": [
      "======\n"
     ]
    },
    {
     "data": {
      "text/html": [
       "<pre style=\"white-space:pre;overflow-x:auto;line-height:normal;font-family:Menlo,'DejaVu Sans Mono',consolas,'Courier New',monospace\">Coordinator: 未達共識\n",
       "</pre>\n"
      ],
      "text/plain": [
       "Coordinator: 未達共識\n"
      ]
     },
     "metadata": {},
     "output_type": "display_data"
    },
    {
     "name": "stdout",
     "output_type": "stream",
     "text": [
      "======\n"
     ]
    },
    {
     "data": {
      "text/html": [
       "<pre style=\"white-space:pre;overflow-x:auto;line-height:normal;font-family:Menlo,'DejaVu Sans Mono',consolas,'Courier New',monospace\">Agent1: <span style=\"font-weight: bold\">[</span>對gpt4o評價<span style=\"font-weight: bold\">]</span>: <span style=\"color: #008080; text-decoration-color: #008080; font-weight: bold\">5</span>  \n",
       "<span style=\"font-weight: bold\">[</span>對BuildMate評價<span style=\"font-weight: bold\">]</span>: <span style=\"color: #008080; text-decoration-color: #008080; font-weight: bold\">7</span>  \n",
       "\n",
       "<span style=\"font-weight: bold\">[</span>簡短原因<span style=\"font-weight: bold\">]</span>:  \n",
       "gpt4o清單效能不足，特別是記憶體容量和處理器對Solidworks和AutoCAD負載明顯不夠；BuildMate效能更強，記憶體和處理器適合\n",
       "專業需求，但主機板和電源過度昂貴，預算分配不均。\n",
       "</pre>\n"
      ],
      "text/plain": [
       "Agent1: \u001b[1m[\u001b[0m對gpt4o評價\u001b[1m]\u001b[0m: \u001b[1;36m5\u001b[0m  \n",
       "\u001b[1m[\u001b[0m對BuildMate評價\u001b[1m]\u001b[0m: \u001b[1;36m7\u001b[0m  \n",
       "\n",
       "\u001b[1m[\u001b[0m簡短原因\u001b[1m]\u001b[0m:  \n",
       "gpt4o清單效能不足，特別是記憶體容量和處理器對Solidworks和AutoCAD負載明顯不夠；BuildMate效能更強，記憶體和處理器適合\n",
       "專業需求，但主機板和電源過度昂貴，預算分配不均。\n"
      ]
     },
     "metadata": {},
     "output_type": "display_data"
    },
    {
     "name": "stdout",
     "output_type": "stream",
     "text": [
      "======\n"
     ]
    },
    {
     "data": {
      "text/html": [
       "<pre style=\"white-space:pre;overflow-x:auto;line-height:normal;font-family:Menlo,'DejaVu Sans Mono',consolas,'Courier New',monospace\">Agent2: <span style=\"font-weight: bold\">[</span>對gpt4o評價<span style=\"font-weight: bold\">]</span>: <span style=\"color: #008080; text-decoration-color: #008080; font-weight: bold\">5</span>  \n",
       "<span style=\"font-weight: bold\">[</span>對BuildMate評價<span style=\"font-weight: bold\">]</span>: <span style=\"color: #008080; text-decoration-color: #008080; font-weight: bold\">6</span>  \n",
       "\n",
       "<span style=\"font-weight: bold\">[</span>簡短原因<span style=\"font-weight: bold\">]</span>:  \n",
       "gpt4o清單效能不足，記憶體容量和CPU性能無法滿足Solidworks和AutoCAD需求；BuildMate效能更強，但主機板和電源過度昂貴，\n",
       "預算分配不均，GPU也偏弱。\n",
       "</pre>\n"
      ],
      "text/plain": [
       "Agent2: \u001b[1m[\u001b[0m對gpt4o評價\u001b[1m]\u001b[0m: \u001b[1;36m5\u001b[0m  \n",
       "\u001b[1m[\u001b[0m對BuildMate評價\u001b[1m]\u001b[0m: \u001b[1;36m6\u001b[0m  \n",
       "\n",
       "\u001b[1m[\u001b[0m簡短原因\u001b[1m]\u001b[0m:  \n",
       "gpt4o清單效能不足，記憶體容量和CPU性能無法滿足Solidworks和AutoCAD需求；BuildMate效能更強，但主機板和電源過度昂貴，\n",
       "預算分配不均，GPU也偏弱。\n"
      ]
     },
     "metadata": {},
     "output_type": "display_data"
    },
    {
     "name": "stdout",
     "output_type": "stream",
     "text": [
      "======\n"
     ]
    },
    {
     "data": {
      "text/html": [
       "<pre style=\"white-space:pre;overflow-x:auto;line-height:normal;font-family:Menlo,'DejaVu Sans Mono',consolas,'Courier New',monospace\">Agent3: <span style=\"font-weight: bold\">[</span>對gpt4o評價<span style=\"font-weight: bold\">]</span>: <span style=\"color: #008080; text-decoration-color: #008080; font-weight: bold\">4</span>  \n",
       "<span style=\"font-weight: bold\">[</span>對BuildMate評價<span style=\"font-weight: bold\">]</span>: <span style=\"color: #008080; text-decoration-color: #008080; font-weight: bold\">7</span>  \n",
       "\n",
       "<span style=\"font-weight: bold\">[</span>簡短原因<span style=\"font-weight: bold\">]</span>:  \n",
       "gpt4o效能不足，CPU和記憶體無法支援Solidworks和AutoCAD的專業需求；BuildMate效能更強，記憶體容量充足，但主機板和電源\n",
       "過度昂貴，預算分配不均，GPU仍稍嫌不足。\n",
       "</pre>\n"
      ],
      "text/plain": [
       "Agent3: \u001b[1m[\u001b[0m對gpt4o評價\u001b[1m]\u001b[0m: \u001b[1;36m4\u001b[0m  \n",
       "\u001b[1m[\u001b[0m對BuildMate評價\u001b[1m]\u001b[0m: \u001b[1;36m7\u001b[0m  \n",
       "\n",
       "\u001b[1m[\u001b[0m簡短原因\u001b[1m]\u001b[0m:  \n",
       "gpt4o效能不足，CPU和記憶體無法支援Solidworks和AutoCAD的專業需求；BuildMate效能更強，記憶體容量充足，但主機板和電源\n",
       "過度昂貴，預算分配不均，GPU仍稍嫌不足。\n"
      ]
     },
     "metadata": {},
     "output_type": "display_data"
    },
    {
     "name": "stdout",
     "output_type": "stream",
     "text": [
      "======\n"
     ]
    },
    {
     "data": {
      "text/html": [
       "<pre style=\"white-space:pre;overflow-x:auto;line-height:normal;font-family:Menlo,'DejaVu Sans Mono',consolas,'Courier New',monospace\">Coordinator: 已達成共識，BuildMate較佳。  \n",
       "理由：效能更適合跑Solidworks和AutoCAD，但預算分配不均，仍在可接受範圍內。\n",
       "</pre>\n"
      ],
      "text/plain": [
       "Coordinator: 已達成共識，BuildMate較佳。  \n",
       "理由：效能更適合跑Solidworks和AutoCAD，但預算分配不均，仍在可接受範圍內。\n"
      ]
     },
     "metadata": {},
     "output_type": "display_data"
    },
    {
     "name": "stdout",
     "output_type": "stream",
     "text": [
      "======\n",
      "{'Coordinator': {'messages': [HumanMessage(content='Agent1: [對gpt4o評價]: 6  \\n[對BuildMate評價]: 7  \\n\\n[簡短原因]:  \\ngpt4o的清單效能偏低，尤其在記憶體容量和處理器選擇上不足以支援Solidworks和AutoCAD的高效運行；BuildMate雖然有過剩的電源和散熱，但記憶體容量和處理器效能更適合專業工作站需求。', additional_kwargs={}, response_metadata={}), HumanMessage(content='Agent2: [對gpt4o評價]: 5  \\n[對BuildMate評價]: 6  \\n\\n[簡短原因]:  \\ngpt4o清單效能不足，特別是記憶體容量和處理器無法滿足專業需求；BuildMate效能更強，但主機板和電源過於昂貴，預算分配不均。', additional_kwargs={}, response_metadata={}), HumanMessage(content='Agent3: [對gpt4o評價]: 4  \\n[對BuildMate評價]: 7  \\n\\n[簡短原因]:  \\ngpt4o的清單效能嚴重不足，特別是記憶體容量和CPU效能無法滿足Solidworks和AutoCAD需求；BuildMate效能較佳，但主機板和電源過度昂貴，預算分配不均，仍能滿足需求。', additional_kwargs={}, response_metadata={}), HumanMessage(content='Coordinator: 未達共識', additional_kwargs={}, response_metadata={}), HumanMessage(content='Agent1: [對gpt4o評價]: 5  \\n[對BuildMate評價]: 7  \\n\\n[簡短原因]:  \\ngpt4o清單效能不足，特別是記憶體容量和處理器對Solidworks和AutoCAD負載明顯不夠；BuildMate效能更強，記憶體和處理器適合專業需求，但主機板和電源過度昂貴，預算分配不均。', additional_kwargs={}, response_metadata={}), HumanMessage(content='Agent2: [對gpt4o評價]: 5  \\n[對BuildMate評價]: 6  \\n\\n[簡短原因]:  \\ngpt4o清單效能不足，記憶體容量和CPU性能無法滿足Solidworks和AutoCAD需求；BuildMate效能更強，但主機板和電源過度昂貴，預算分配不均，GPU也偏弱。', additional_kwargs={}, response_metadata={}), HumanMessage(content='Agent3: [對gpt4o評價]: 4  \\n[對BuildMate評價]: 7  \\n\\n[簡短原因]:  \\ngpt4o效能不足，CPU和記憶體無法支援Solidworks和AutoCAD的專業需求；BuildMate效能更強，記憶體容量充足，但主機板和電源過度昂貴，預算分配不均，GPU仍稍嫌不足。', additional_kwargs={}, response_metadata={}), HumanMessage(content='Coordinator: 已達成共識，BuildMate較佳。  \\n理由：效能更適合跑Solidworks和AutoCAD，但預算分配不均，仍在可接受範圍內。', additional_kwargs={}, response_metadata={})], 'next_agent': '__end__', 'question_id': 6, 'question': '工作需要，我要一台能跑Solidworks和AutoCAD的工作站，預算大概60000元，有建議嗎？', 'gpt4o_recommendation': 'CPU: AMD Ryzen 5 5600X | price: 5500\\nMotherboard: MSI B550M PRO-VDH WIFI | price: 3500\\nMemory: Corsair Vengeance LPX 16GB (2x8GB) DDR4-3200 | price: 1800\\nGPU: NVIDIA GeForce GTX 1660 Super | price: 7000\\nSSD: Crucial P3 1TB NVMe SSD | price: 2200\\nPower Supply: Seasonic S12III 650W 80+ Bronze | price: 2500\\nCase: NZXT H510 | price: 2000\\nCase Fan: ARCTIC P12 PWM PST | price: 300\\n總價: 24800', 'buildmate_recommendation': 'CPU: Intel 第九代 i5-9600K | price: 6000\\nMotherboard: ASUS Pro WS X299 Sage | price: 12000\\nMemory: Corsair Vengeance LPX 32GB (2 x 16GB) DDR4 3200MHz | price: 6000\\nGPU: NVIDIA GeForce GTX 1660 Super | price: 8000\\nSSD: Corsair RM850x 850W 80 Plus Gold | price: 5000\\nPower Supply: 電源供應器 Seasonic Focus GX-850 (850W) | price: 5000\\nCase: Intel Core i9-10920X | price: 13000\\nCase Fan: Noctua NH-D15 | price: 4000\\n總價: 59000', 'agent_scores': {'Agent1_round1': {'gpt4o_score': 6, 'buildmate_score': 7, 'reason': 'gpt4o的清單效能偏低，尤其在記憶體容量和處理器選擇上不足以支援Solidworks和AutoCAD的高效運行；BuildMate雖然有過剩的電源和散熱，但記憶體容量和處理器效能更適合專業工作站需求。'}, 'Agent2_round1': {'gpt4o_score': 5, 'buildmate_score': 6, 'reason': 'gpt4o清單效能不足，特別是記憶體容量和處理器無法滿足專業需求；BuildMate效能更強，但主機板和電源過於昂貴，預算分配不均。'}, 'Agent3_round1': {'gpt4o_score': 4, 'buildmate_score': 7, 'reason': 'gpt4o的清單效能嚴重不足，特別是記憶體容量和CPU效能無法滿足Solidworks和AutoCAD需求；BuildMate效能較佳，但主機板和電源過度昂貴，預算分配不均，仍能滿足需求。'}, 'Agent1_round2': {'gpt4o_score': 5, 'buildmate_score': 7, 'reason': 'gpt4o清單效能不足，特別是記憶體容量和處理器對Solidworks和AutoCAD負載明顯不夠；BuildMate效能更強，記憶體和處理器適合專業需求，但主機板和電源過度昂貴，預算分配不均。'}, 'Agent2_round2': {'gpt4o_score': 5, 'buildmate_score': 6, 'reason': 'gpt4o清單效能不足，記憶體容量和CPU性能無法滿足Solidworks和AutoCAD需求；BuildMate效能更強，但主機板和電源過度昂貴，預算分配不均，GPU也偏弱。'}, 'Agent3_round2': {'gpt4o_score': 4, 'buildmate_score': 7, 'reason': 'gpt4o效能不足，CPU和記憶體無法支援Solidworks和AutoCAD的專業需求；BuildMate效能更強，記憶體容量充足，但主機板和電源過度昂貴，預算分配不均，GPU仍稍嫌不足。'}}, 'round_count': 2, 'max_rounds': 3, 'consensus_reached': True}}\n",
      "{\n",
      "  \"question_id\": 6,\n",
      "  \"question\": \"工作需要，我要一台能跑Solidworks和AutoCAD的工作站，預算大概60000元，有建議嗎？\",\n",
      "  \"buildmate_recommendation\": \"CPU: Intel 第九代 i5-9600K | price: 6000\\nMotherboard: ASUS Pro WS X299 Sage | price: 12000\\nMemory: Corsair Vengeance LPX 32GB (2 x 16GB) DDR4 3200MHz | price: 6000\\nGPU: NVIDIA GeForce GTX 1660 Super | price: 8000\\nSSD: Corsair RM850x 850W 80 Plus Gold | price: 5000\\nPower Supply: 電源供應器 Seasonic Focus GX-850 (850W) | price: 5000\\nCase: Intel Core i9-10920X | price: 13000\\nCase Fan: Noctua NH-D15 | price: 4000\\n總價: 59000\",\n",
      "  \"gpt4o_recommendation\": \"CPU: AMD Ryzen 5 5600X | price: 5500\\nMotherboard: MSI B550M PRO-VDH WIFI | price: 3500\\nMemory: Corsair Vengeance LPX 16GB (2x8GB) DDR4-3200 | price: 1800\\nGPU: NVIDIA GeForce GTX 1660 Super | price: 7000\\nSSD: Crucial P3 1TB NVMe SSD | price: 2200\\nPower Supply: Seasonic S12III 650W 80+ Bronze | price: 2500\\nCase: NZXT H510 | price: 2000\\nCase Fan: ARCTIC P12 PWM PST | price: 300\\n總價: 24800\",\n",
      "  \"winner\": 1,\n",
      "  \"buildmate_avg_score\": 6.666666666666667,\n",
      "  \"gpt4o_avg_score\": 4.833333333333333,\n",
      "  \"rounds\": [\n",
      "    {\n",
      "      \"round_number\": 1,\n",
      "      \"Agent1\": {\n",
      "        \"gpt4o_score\": 6,\n",
      "        \"buildmate_score\": 7,\n",
      "        \"reason\": \"gpt4o的清單效能偏低，尤其在記憶體容量和處理器選擇上不足以支援Solidworks和AutoCAD的高效運行；BuildMate雖然有過剩的電源和散熱，但記憶體容量和處理器效能更適合專業工作站需求。\"\n",
      "      },\n",
      "      \"Agent2\": {\n",
      "        \"gpt4o_score\": 5,\n",
      "        \"buildmate_score\": 6,\n",
      "        \"reason\": \"gpt4o清單效能不足，特別是記憶體容量和處理器無法滿足專業需求；BuildMate效能更強，但主機板和電源過於昂貴，預算分配不均。\"\n",
      "      },\n",
      "      \"Agent3\": {\n",
      "        \"gpt4o_score\": 4,\n",
      "        \"buildmate_score\": 7,\n",
      "        \"reason\": \"gpt4o的清單效能嚴重不足，特別是記憶體容量和CPU效能無法滿足Solidworks和AutoCAD需求；BuildMate效能較佳，但主機板和電源過度昂貴，預算分配不均，仍能滿足需求。\"\n",
      "      }\n",
      "    },\n",
      "    {\n",
      "      \"round_number\": 2,\n",
      "      \"Agent1\": {\n",
      "        \"gpt4o_score\": 5,\n",
      "        \"buildmate_score\": 7,\n",
      "        \"reason\": \"gpt4o清單效能不足，特別是記憶體容量和處理器對Solidworks和AutoCAD負載明顯不夠；BuildMate效能更強，記憶體和處理器適合專業需求，但主機板和電源過度昂貴，預算分配不均。\"\n",
      "      },\n",
      "      \"Agent2\": {\n",
      "        \"gpt4o_score\": 5,\n",
      "        \"buildmate_score\": 6,\n",
      "        \"reason\": \"gpt4o清單效能不足，記憶體容量和CPU性能無法滿足Solidworks和AutoCAD需求；BuildMate效能更強，但主機板和電源過度昂貴，預算分配不均，GPU也偏弱。\"\n",
      "      },\n",
      "      \"Agent3\": {\n",
      "        \"gpt4o_score\": 4,\n",
      "        \"buildmate_score\": 7,\n",
      "        \"reason\": \"gpt4o效能不足，CPU和記憶體無法支援Solidworks和AutoCAD的專業需求；BuildMate效能更強，記憶體容量充足，但主機板和電源過度昂貴，預算分配不均，GPU仍稍嫌不足。\"\n",
      "      }\n",
      "    }\n",
      "  ]\n",
      "}\n"
     ]
    },
    {
     "data": {
      "text/html": [
       "<pre style=\"white-space:pre;overflow-x:auto;line-height:normal;font-family:Menlo,'DejaVu Sans Mono',consolas,'Courier New',monospace\"><span style=\"font-weight: bold\">{</span>\n",
       "    <span style=\"color: #008000; text-decoration-color: #008000\">'question_id'</span>: <span style=\"color: #008080; text-decoration-color: #008080; font-weight: bold\">7</span>,\n",
       "    <span style=\"color: #008000; text-decoration-color: #008000\">'question'</span>: <span style=\"color: #008000; text-decoration-color: #008000\">'有沒有推薦的遊戲主機配置？預算在45000元，想要玩 POE、APEX等槍戰、LOL。'</span>,\n",
       "    <span style=\"color: #008000; text-decoration-color: #008000\">'gpt4o_recommendation'</span>: <span style=\"color: #008000; text-decoration-color: #008000\">'CPU: AMD Ryzen 5 5600X | price: 5990\\nMotherboard: MSI B550M PRO-VDH WIFI | price: </span>\n",
       "<span style=\"color: #008000; text-decoration-color: #008000\">3290\\nMemory: Corsair Vengeance LPX 16GB (2x8GB) DDR4-3200 | price: 1800\\nGPU: NVIDIA GeForce GTX 1660 Super | </span>\n",
       "<span style=\"color: #008000; text-decoration-color: #008000\">price: 6500\\nSSD: Crucial P3 1TB NVMe SSD | price: 2200\\nPower Supply: Seasonic S12III 650W 80+ Bronze | price: </span>\n",
       "<span style=\"color: #008000; text-decoration-color: #008000\">2500\\nCase: NZXT H510 | price: 1800\\nCase Fan: ARCTIC P12 PWM PST | price: 300\\n總價: 24380'</span>,\n",
       "    <span style=\"color: #008000; text-decoration-color: #008000\">'buildmate_recommendation'</span>: <span style=\"color: #008000; text-decoration-color: #008000\">'CPU: AMD Ryzen 7 5800X | price: 12000\\nMotherboard: ASUS TUF Gaming B550-PLUS | </span>\n",
       "<span style=\"color: #008000; text-decoration-color: #008000\">price: 4500\\nMemory: Corsair Vengeance LPX 16GB (2 x 8GB) DDR4 3200MHz | price: 3000\\nGPU: NVIDIA GeForce GTX 1650 </span>\n",
       "<span style=\"color: #008000; text-decoration-color: #008000\">| price: 5000\\nSSD: Corsair RM650x 650W 全模組化電源 | price: 4000\\nPower Supply: NVIDIA GeForce RTX 3060 | price: </span>\n",
       "<span style=\"color: #008000; text-decoration-color: #008000\">12000\\nCase: AMD Ryzen 5 5600X | price: 8500\\nCase Fan: Cooler Master Hyper 212 RGB | price: 1800\\n總價: 50800'</span>\n",
       "<span style=\"font-weight: bold\">}</span>\n",
       "</pre>\n"
      ],
      "text/plain": [
       "\u001b[1m{\u001b[0m\n",
       "    \u001b[32m'question_id'\u001b[0m: \u001b[1;36m7\u001b[0m,\n",
       "    \u001b[32m'question'\u001b[0m: \u001b[32m'有沒有推薦的遊戲主機配置？預算在45000元，想要玩 POE、APEX等槍戰、LOL。'\u001b[0m,\n",
       "    \u001b[32m'gpt4o_recommendation'\u001b[0m: \u001b[32m'CPU: AMD Ryzen 5 5600X | price: 5990\\nMotherboard: MSI B550M PRO-VDH WIFI | price: \u001b[0m\n",
       "\u001b[32m3290\\nMemory: Corsair Vengeance LPX 16GB \u001b[0m\u001b[32m(\u001b[0m\u001b[32m2x8GB\u001b[0m\u001b[32m)\u001b[0m\u001b[32m DDR4-3200 | price: 1800\\nGPU: NVIDIA GeForce GTX 1660 Super | \u001b[0m\n",
       "\u001b[32mprice: 6500\\nSSD: Crucial P3 1TB NVMe SSD | price: 2200\\nPower Supply: Seasonic S12III 650W 80+ Bronze | price: \u001b[0m\n",
       "\u001b[32m2500\\nCase: NZXT H510 | price: 1800\\nCase Fan: ARCTIC P12 PWM PST | price: 300\\n總價: 24380'\u001b[0m,\n",
       "    \u001b[32m'buildmate_recommendation'\u001b[0m: \u001b[32m'CPU: AMD Ryzen 7 5800X | price: 12000\\nMotherboard: ASUS TUF Gaming B550-PLUS | \u001b[0m\n",
       "\u001b[32mprice: 4500\\nMemory: Corsair Vengeance LPX 16GB \u001b[0m\u001b[32m(\u001b[0m\u001b[32m2 x 8GB\u001b[0m\u001b[32m)\u001b[0m\u001b[32m DDR4 3200MHz | price: 3000\\nGPU: NVIDIA GeForce GTX 1650 \u001b[0m\n",
       "\u001b[32m| price: 5000\\nSSD: Corsair RM650x 650W 全模組化電源 | price: 4000\\nPower Supply: NVIDIA GeForce RTX 3060 | price: \u001b[0m\n",
       "\u001b[32m12000\\nCase: AMD Ryzen 5 5600X | price: 8500\\nCase Fan: Cooler Master Hyper 212 RGB | price: 1800\\n總價: 50800'\u001b[0m\n",
       "\u001b[1m}\u001b[0m\n"
      ]
     },
     "metadata": {},
     "output_type": "display_data"
    },
    {
     "data": {
      "text/html": [
       "<pre style=\"white-space:pre;overflow-x:auto;line-height:normal;font-family:Menlo,'DejaVu Sans Mono',consolas,'Courier New',monospace\">Agent1: <span style=\"font-weight: bold\">[</span>對gpt4o評價<span style=\"font-weight: bold\">]</span>: <span style=\"color: #008080; text-decoration-color: #008080; font-weight: bold\">6</span>/<span style=\"color: #008080; text-decoration-color: #008080; font-weight: bold\">10</span>  \n",
       "<span style=\"font-weight: bold\">[</span>對BuildMate評價<span style=\"font-weight: bold\">]</span>: <span style=\"color: #008080; text-decoration-color: #008080; font-weight: bold\">7</span>/<span style=\"color: #008080; text-decoration-color: #008080; font-weight: bold\">10</span>  \n",
       "<span style=\"font-weight: bold\">[</span>簡短原因<span style=\"font-weight: bold\">]</span>:  \n",
       "gpt4o配置效能偏低，尤其顯示卡不適合高效能遊戲；BuildMate效能更高，但組裝平衡度差，電源與散熱選擇不合理，價格超預算\n",
       "。\n",
       "</pre>\n"
      ],
      "text/plain": [
       "Agent1: \u001b[1m[\u001b[0m對gpt4o評價\u001b[1m]\u001b[0m: \u001b[1;36m6\u001b[0m/\u001b[1;36m10\u001b[0m  \n",
       "\u001b[1m[\u001b[0m對BuildMate評價\u001b[1m]\u001b[0m: \u001b[1;36m7\u001b[0m/\u001b[1;36m10\u001b[0m  \n",
       "\u001b[1m[\u001b[0m簡短原因\u001b[1m]\u001b[0m:  \n",
       "gpt4o配置效能偏低，尤其顯示卡不適合高效能遊戲；BuildMate效能更高，但組裝平衡度差，電源與散熱選擇不合理，價格超預算\n",
       "。\n"
      ]
     },
     "metadata": {},
     "output_type": "display_data"
    },
    {
     "name": "stdout",
     "output_type": "stream",
     "text": [
      "======\n"
     ]
    },
    {
     "data": {
      "text/html": [
       "<pre style=\"white-space:pre;overflow-x:auto;line-height:normal;font-family:Menlo,'DejaVu Sans Mono',consolas,'Courier New',monospace\">Agent2: <span style=\"font-weight: bold\">[</span>對gpt4o評價<span style=\"font-weight: bold\">]</span>: <span style=\"color: #008080; text-decoration-color: #008080; font-weight: bold\">7</span>/<span style=\"color: #008080; text-decoration-color: #008080; font-weight: bold\">10</span>  \n",
       "<span style=\"font-weight: bold\">[</span>對BuildMate評價<span style=\"font-weight: bold\">]</span>: <span style=\"color: #008080; text-decoration-color: #008080; font-weight: bold\">5</span>/<span style=\"color: #008080; text-decoration-color: #008080; font-weight: bold\">10</span>  \n",
       "<span style=\"font-weight: bold\">[</span>簡短原因<span style=\"font-weight: bold\">]</span>:  \n",
       "gpt4o配置CP值較高，適合中階遊戲需求，但顯卡稍弱；BuildMate效能不均，GPU選擇不合理，CPU過剩，且超出預算，CP值低。\n",
       "</pre>\n"
      ],
      "text/plain": [
       "Agent2: \u001b[1m[\u001b[0m對gpt4o評價\u001b[1m]\u001b[0m: \u001b[1;36m7\u001b[0m/\u001b[1;36m10\u001b[0m  \n",
       "\u001b[1m[\u001b[0m對BuildMate評價\u001b[1m]\u001b[0m: \u001b[1;36m5\u001b[0m/\u001b[1;36m10\u001b[0m  \n",
       "\u001b[1m[\u001b[0m簡短原因\u001b[1m]\u001b[0m:  \n",
       "gpt4o配置CP值較高，適合中階遊戲需求，但顯卡稍弱；BuildMate效能不均，GPU選擇不合理，CPU過剩，且超出預算，CP值低。\n"
      ]
     },
     "metadata": {},
     "output_type": "display_data"
    },
    {
     "name": "stdout",
     "output_type": "stream",
     "text": [
      "======\n"
     ]
    },
    {
     "data": {
      "text/html": [
       "<pre style=\"white-space:pre;overflow-x:auto;line-height:normal;font-family:Menlo,'DejaVu Sans Mono',consolas,'Courier New',monospace\">Agent3: <span style=\"font-weight: bold\">[</span>對gpt4o評價<span style=\"font-weight: bold\">]</span>: <span style=\"color: #008080; text-decoration-color: #008080; font-weight: bold\">7</span>/<span style=\"color: #008080; text-decoration-color: #008080; font-weight: bold\">10</span>  \n",
       "<span style=\"font-weight: bold\">[</span>對BuildMate評價<span style=\"font-weight: bold\">]</span>: <span style=\"color: #008080; text-decoration-color: #008080; font-weight: bold\">5</span>/<span style=\"color: #008080; text-decoration-color: #008080; font-weight: bold\">10</span>  \n",
       "<span style=\"font-weight: bold\">[</span>簡短原因<span style=\"font-weight: bold\">]</span>:  \n",
       "gpt4o配置符合預算且能應付遊戲需求，但顯示卡稍弱；BuildMate效能過剩且配置不均，GPU選擇不合理，超出預算，性價比低。\n",
       "</pre>\n"
      ],
      "text/plain": [
       "Agent3: \u001b[1m[\u001b[0m對gpt4o評價\u001b[1m]\u001b[0m: \u001b[1;36m7\u001b[0m/\u001b[1;36m10\u001b[0m  \n",
       "\u001b[1m[\u001b[0m對BuildMate評價\u001b[1m]\u001b[0m: \u001b[1;36m5\u001b[0m/\u001b[1;36m10\u001b[0m  \n",
       "\u001b[1m[\u001b[0m簡短原因\u001b[1m]\u001b[0m:  \n",
       "gpt4o配置符合預算且能應付遊戲需求，但顯示卡稍弱；BuildMate效能過剩且配置不均，GPU選擇不合理，超出預算，性價比低。\n"
      ]
     },
     "metadata": {},
     "output_type": "display_data"
    },
    {
     "name": "stdout",
     "output_type": "stream",
     "text": [
      "======\n"
     ]
    },
    {
     "data": {
      "text/html": [
       "<pre style=\"white-space:pre;overflow-x:auto;line-height:normal;font-family:Menlo,'DejaVu Sans Mono',consolas,'Courier New',monospace\">Coordinator: 未達共識\n",
       "</pre>\n"
      ],
      "text/plain": [
       "Coordinator: 未達共識\n"
      ]
     },
     "metadata": {},
     "output_type": "display_data"
    },
    {
     "name": "stdout",
     "output_type": "stream",
     "text": [
      "======\n"
     ]
    },
    {
     "data": {
      "text/html": [
       "<pre style=\"white-space:pre;overflow-x:auto;line-height:normal;font-family:Menlo,'DejaVu Sans Mono',consolas,'Courier New',monospace\">Agent1: <span style=\"font-weight: bold\">[</span>對gpt4o評價<span style=\"font-weight: bold\">]</span>: <span style=\"color: #008080; text-decoration-color: #008080; font-weight: bold\">8</span>/<span style=\"color: #008080; text-decoration-color: #008080; font-weight: bold\">10</span>  \n",
       "<span style=\"font-weight: bold\">[</span>對BuildMate評價<span style=\"font-weight: bold\">]</span>: <span style=\"color: #008080; text-decoration-color: #008080; font-weight: bold\">5</span>/<span style=\"color: #008080; text-decoration-color: #008080; font-weight: bold\">10</span>  \n",
       "<span style=\"font-weight: bold\">[</span>簡短原因<span style=\"font-weight: bold\">]</span>:  \n",
       "gpt4o配置效能均衡，適合中高階遊戲，價格合理；BuildMate效能過剩但GPU選擇不合理，預算超支，系統組裝平衡度低，性價比差\n",
       "。\n",
       "</pre>\n"
      ],
      "text/plain": [
       "Agent1: \u001b[1m[\u001b[0m對gpt4o評價\u001b[1m]\u001b[0m: \u001b[1;36m8\u001b[0m/\u001b[1;36m10\u001b[0m  \n",
       "\u001b[1m[\u001b[0m對BuildMate評價\u001b[1m]\u001b[0m: \u001b[1;36m5\u001b[0m/\u001b[1;36m10\u001b[0m  \n",
       "\u001b[1m[\u001b[0m簡短原因\u001b[1m]\u001b[0m:  \n",
       "gpt4o配置效能均衡，適合中高階遊戲，價格合理；BuildMate效能過剩但GPU選擇不合理，預算超支，系統組裝平衡度低，性價比差\n",
       "。\n"
      ]
     },
     "metadata": {},
     "output_type": "display_data"
    },
    {
     "name": "stdout",
     "output_type": "stream",
     "text": [
      "======\n"
     ]
    },
    {
     "data": {
      "text/html": [
       "<pre style=\"white-space:pre;overflow-x:auto;line-height:normal;font-family:Menlo,'DejaVu Sans Mono',consolas,'Courier New',monospace\">Agent2: <span style=\"font-weight: bold\">[</span>對gpt4o評價<span style=\"font-weight: bold\">]</span>: <span style=\"color: #008080; text-decoration-color: #008080; font-weight: bold\">8</span>/<span style=\"color: #008080; text-decoration-color: #008080; font-weight: bold\">10</span>  \n",
       "<span style=\"font-weight: bold\">[</span>對BuildMate評價<span style=\"font-weight: bold\">]</span>: <span style=\"color: #008080; text-decoration-color: #008080; font-weight: bold\">4</span>/<span style=\"color: #008080; text-decoration-color: #008080; font-weight: bold\">10</span>  \n",
       "<span style=\"font-weight: bold\">[</span>簡短原因<span style=\"font-weight: bold\">]</span>:  \n",
       "gpt4o配置均衡，效能足夠應付POE、APEX等遊戲，價格合理，CP值高；BuildMate配置失衡，GPU效能過低，CPU過剩且價格超預算，\n",
       "性價比極低。\n",
       "</pre>\n"
      ],
      "text/plain": [
       "Agent2: \u001b[1m[\u001b[0m對gpt4o評價\u001b[1m]\u001b[0m: \u001b[1;36m8\u001b[0m/\u001b[1;36m10\u001b[0m  \n",
       "\u001b[1m[\u001b[0m對BuildMate評價\u001b[1m]\u001b[0m: \u001b[1;36m4\u001b[0m/\u001b[1;36m10\u001b[0m  \n",
       "\u001b[1m[\u001b[0m簡短原因\u001b[1m]\u001b[0m:  \n",
       "gpt4o配置均衡，效能足夠應付POE、APEX等遊戲，價格合理，CP值高；BuildMate配置失衡，GPU效能過低，CPU過剩且價格超預算，\n",
       "性價比極低。\n"
      ]
     },
     "metadata": {},
     "output_type": "display_data"
    },
    {
     "name": "stdout",
     "output_type": "stream",
     "text": [
      "======\n"
     ]
    },
    {
     "data": {
      "text/html": [
       "<pre style=\"white-space:pre;overflow-x:auto;line-height:normal;font-family:Menlo,'DejaVu Sans Mono',consolas,'Courier New',monospace\">Agent3: <span style=\"font-weight: bold\">[</span>對gpt4o評價<span style=\"font-weight: bold\">]</span>: <span style=\"color: #008080; text-decoration-color: #008080; font-weight: bold\">8</span>/<span style=\"color: #008080; text-decoration-color: #008080; font-weight: bold\">10</span>  \n",
       "<span style=\"font-weight: bold\">[</span>對BuildMate評價<span style=\"font-weight: bold\">]</span>: <span style=\"color: #008080; text-decoration-color: #008080; font-weight: bold\">4</span>/<span style=\"color: #008080; text-decoration-color: #008080; font-weight: bold\">10</span>  \n",
       "<span style=\"font-weight: bold\">[</span>簡短原因<span style=\"font-weight: bold\">]</span>:  \n",
       "gpt4o配置效能均衡，適合POE、APEX等遊戲，價格合理且符合預算；BuildMate配置失衡，GPU效能過低，CPU過剩且價格超預算，性\n",
       "價比低。\n",
       "</pre>\n"
      ],
      "text/plain": [
       "Agent3: \u001b[1m[\u001b[0m對gpt4o評價\u001b[1m]\u001b[0m: \u001b[1;36m8\u001b[0m/\u001b[1;36m10\u001b[0m  \n",
       "\u001b[1m[\u001b[0m對BuildMate評價\u001b[1m]\u001b[0m: \u001b[1;36m4\u001b[0m/\u001b[1;36m10\u001b[0m  \n",
       "\u001b[1m[\u001b[0m簡短原因\u001b[1m]\u001b[0m:  \n",
       "gpt4o配置效能均衡，適合POE、APEX等遊戲，價格合理且符合預算；BuildMate配置失衡，GPU效能過低，CPU過剩且價格超預算，性\n",
       "價比低。\n"
      ]
     },
     "metadata": {},
     "output_type": "display_data"
    },
    {
     "name": "stdout",
     "output_type": "stream",
     "text": [
      "======\n"
     ]
    },
    {
     "data": {
      "text/html": [
       "<pre style=\"white-space:pre;overflow-x:auto;line-height:normal;font-family:Menlo,'DejaVu Sans Mono',consolas,'Courier New',monospace\">Coordinator: 已達成共識，gpt4o較佳：效能均衡，符合POE、APEX等遊戲需求，價格合理且性價比高。\n",
       "</pre>\n"
      ],
      "text/plain": [
       "Coordinator: 已達成共識，gpt4o較佳：效能均衡，符合POE、APEX等遊戲需求，價格合理且性價比高。\n"
      ]
     },
     "metadata": {},
     "output_type": "display_data"
    },
    {
     "name": "stdout",
     "output_type": "stream",
     "text": [
      "======\n",
      "{'Coordinator': {'messages': [HumanMessage(content='Agent1: [對gpt4o評價]: 6/10  \\n[對BuildMate評價]: 7/10  \\n[簡短原因]:  \\ngpt4o配置效能偏低，尤其顯示卡不適合高效能遊戲；BuildMate效能更高，但組裝平衡度差，電源與散熱選擇不合理，價格超預算。', additional_kwargs={}, response_metadata={}), HumanMessage(content='Agent2: [對gpt4o評價]: 7/10  \\n[對BuildMate評價]: 5/10  \\n[簡短原因]:  \\ngpt4o配置CP值較高，適合中階遊戲需求，但顯卡稍弱；BuildMate效能不均，GPU選擇不合理，CPU過剩，且超出預算，CP值低。', additional_kwargs={}, response_metadata={}), HumanMessage(content='Agent3: [對gpt4o評價]: 7/10  \\n[對BuildMate評價]: 5/10  \\n[簡短原因]:  \\ngpt4o配置符合預算且能應付遊戲需求，但顯示卡稍弱；BuildMate效能過剩且配置不均，GPU選擇不合理，超出預算，性價比低。', additional_kwargs={}, response_metadata={}), HumanMessage(content='Coordinator: 未達共識', additional_kwargs={}, response_metadata={}), HumanMessage(content='Agent1: [對gpt4o評價]: 8/10  \\n[對BuildMate評價]: 5/10  \\n[簡短原因]:  \\ngpt4o配置效能均衡，適合中高階遊戲，價格合理；BuildMate效能過剩但GPU選擇不合理，預算超支，系統組裝平衡度低，性價比差。', additional_kwargs={}, response_metadata={}), HumanMessage(content='Agent2: [對gpt4o評價]: 8/10  \\n[對BuildMate評價]: 4/10  \\n[簡短原因]:  \\ngpt4o配置均衡，效能足夠應付POE、APEX等遊戲，價格合理，CP值高；BuildMate配置失衡，GPU效能過低，CPU過剩且價格超預算，性價比極低。', additional_kwargs={}, response_metadata={}), HumanMessage(content='Agent3: [對gpt4o評價]: 8/10  \\n[對BuildMate評價]: 4/10  \\n[簡短原因]:  \\ngpt4o配置效能均衡，適合POE、APEX等遊戲，價格合理且符合預算；BuildMate配置失衡，GPU效能過低，CPU過剩且價格超預算，性價比低。', additional_kwargs={}, response_metadata={}), HumanMessage(content='Coordinator: 已達成共識，gpt4o較佳：效能均衡，符合POE、APEX等遊戲需求，價格合理且性價比高。', additional_kwargs={}, response_metadata={})], 'next_agent': '__end__', 'question_id': 7, 'question': '有沒有推薦的遊戲主機配置？預算在45000元，想要玩 POE、APEX等槍戰、LOL。', 'gpt4o_recommendation': 'CPU: AMD Ryzen 5 5600X | price: 5990\\nMotherboard: MSI B550M PRO-VDH WIFI | price: 3290\\nMemory: Corsair Vengeance LPX 16GB (2x8GB) DDR4-3200 | price: 1800\\nGPU: NVIDIA GeForce GTX 1660 Super | price: 6500\\nSSD: Crucial P3 1TB NVMe SSD | price: 2200\\nPower Supply: Seasonic S12III 650W 80+ Bronze | price: 2500\\nCase: NZXT H510 | price: 1800\\nCase Fan: ARCTIC P12 PWM PST | price: 300\\n總價: 24380', 'buildmate_recommendation': 'CPU: AMD Ryzen 7 5800X | price: 12000\\nMotherboard: ASUS TUF Gaming B550-PLUS | price: 4500\\nMemory: Corsair Vengeance LPX 16GB (2 x 8GB) DDR4 3200MHz | price: 3000\\nGPU: NVIDIA GeForce GTX 1650 | price: 5000\\nSSD: Corsair RM650x 650W 全模組化電源 | price: 4000\\nPower Supply: NVIDIA GeForce RTX 3060 | price: 12000\\nCase: AMD Ryzen 5 5600X | price: 8500\\nCase Fan: Cooler Master Hyper 212 RGB | price: 1800\\n總價: 50800', 'agent_scores': {'Agent1_round1': {'gpt4o_score': 6, 'buildmate_score': 7, 'reason': 'gpt4o配置效能偏低，尤其顯示卡不適合高效能遊戲；BuildMate效能更高，但組裝平衡度差，電源與散熱選擇不合理，價格超預算。'}, 'Agent2_round1': {'gpt4o_score': 7, 'buildmate_score': 5, 'reason': 'gpt4o配置CP值較高，適合中階遊戲需求，但顯卡稍弱；BuildMate效能不均，GPU選擇不合理，CPU過剩，且超出預算，CP值低。'}, 'Agent3_round1': {'gpt4o_score': 7, 'buildmate_score': 5, 'reason': 'gpt4o配置符合預算且能應付遊戲需求，但顯示卡稍弱；BuildMate效能過剩且配置不均，GPU選擇不合理，超出預算，性價比低。'}, 'Agent1_round2': {'gpt4o_score': 8, 'buildmate_score': 5, 'reason': 'gpt4o配置效能均衡，適合中高階遊戲，價格合理；BuildMate效能過剩但GPU選擇不合理，預算超支，系統組裝平衡度低，性價比差。'}, 'Agent2_round2': {'gpt4o_score': 8, 'buildmate_score': 4, 'reason': 'gpt4o配置均衡，效能足夠應付POE、APEX等遊戲，價格合理，CP值高；BuildMate配置失衡，GPU效能過低，CPU過剩且價格超預算，性價比極低。'}, 'Agent3_round2': {'gpt4o_score': 8, 'buildmate_score': 4, 'reason': 'gpt4o配置效能均衡，適合POE、APEX等遊戲，價格合理且符合預算；BuildMate配置失衡，GPU效能過低，CPU過剩且價格超預算，性價比低。'}}, 'round_count': 2, 'max_rounds': 3, 'consensus_reached': True}}\n",
      "{\n",
      "  \"question_id\": 7,\n",
      "  \"question\": \"有沒有推薦的遊戲主機配置？預算在45000元，想要玩 POE、APEX等槍戰、LOL。\",\n",
      "  \"buildmate_recommendation\": \"CPU: AMD Ryzen 7 5800X | price: 12000\\nMotherboard: ASUS TUF Gaming B550-PLUS | price: 4500\\nMemory: Corsair Vengeance LPX 16GB (2 x 8GB) DDR4 3200MHz | price: 3000\\nGPU: NVIDIA GeForce GTX 1650 | price: 5000\\nSSD: Corsair RM650x 650W 全模組化電源 | price: 4000\\nPower Supply: NVIDIA GeForce RTX 3060 | price: 12000\\nCase: AMD Ryzen 5 5600X | price: 8500\\nCase Fan: Cooler Master Hyper 212 RGB | price: 1800\\n總價: 50800\",\n",
      "  \"gpt4o_recommendation\": \"CPU: AMD Ryzen 5 5600X | price: 5990\\nMotherboard: MSI B550M PRO-VDH WIFI | price: 3290\\nMemory: Corsair Vengeance LPX 16GB (2x8GB) DDR4-3200 | price: 1800\\nGPU: NVIDIA GeForce GTX 1660 Super | price: 6500\\nSSD: Crucial P3 1TB NVMe SSD | price: 2200\\nPower Supply: Seasonic S12III 650W 80+ Bronze | price: 2500\\nCase: NZXT H510 | price: 1800\\nCase Fan: ARCTIC P12 PWM PST | price: 300\\n總價: 24380\",\n",
      "  \"winner\": 0,\n",
      "  \"buildmate_avg_score\": 5.0,\n",
      "  \"gpt4o_avg_score\": 7.333333333333333,\n",
      "  \"rounds\": [\n",
      "    {\n",
      "      \"round_number\": 1,\n",
      "      \"Agent1\": {\n",
      "        \"gpt4o_score\": 6,\n",
      "        \"buildmate_score\": 7,\n",
      "        \"reason\": \"gpt4o配置效能偏低，尤其顯示卡不適合高效能遊戲；BuildMate效能更高，但組裝平衡度差，電源與散熱選擇不合理，價格超預算。\"\n",
      "      },\n",
      "      \"Agent2\": {\n",
      "        \"gpt4o_score\": 7,\n",
      "        \"buildmate_score\": 5,\n",
      "        \"reason\": \"gpt4o配置CP值較高，適合中階遊戲需求，但顯卡稍弱；BuildMate效能不均，GPU選擇不合理，CPU過剩，且超出預算，CP值低。\"\n",
      "      },\n",
      "      \"Agent3\": {\n",
      "        \"gpt4o_score\": 7,\n",
      "        \"buildmate_score\": 5,\n",
      "        \"reason\": \"gpt4o配置符合預算且能應付遊戲需求，但顯示卡稍弱；BuildMate效能過剩且配置不均，GPU選擇不合理，超出預算，性價比低。\"\n",
      "      }\n",
      "    },\n",
      "    {\n",
      "      \"round_number\": 2,\n",
      "      \"Agent1\": {\n",
      "        \"gpt4o_score\": 8,\n",
      "        \"buildmate_score\": 5,\n",
      "        \"reason\": \"gpt4o配置效能均衡，適合中高階遊戲，價格合理；BuildMate效能過剩但GPU選擇不合理，預算超支，系統組裝平衡度低，性價比差。\"\n",
      "      },\n",
      "      \"Agent2\": {\n",
      "        \"gpt4o_score\": 8,\n",
      "        \"buildmate_score\": 4,\n",
      "        \"reason\": \"gpt4o配置均衡，效能足夠應付POE、APEX等遊戲，價格合理，CP值高；BuildMate配置失衡，GPU效能過低，CPU過剩且價格超預算，性價比極低。\"\n",
      "      },\n",
      "      \"Agent3\": {\n",
      "        \"gpt4o_score\": 8,\n",
      "        \"buildmate_score\": 4,\n",
      "        \"reason\": \"gpt4o配置效能均衡，適合POE、APEX等遊戲，價格合理且符合預算；BuildMate配置失衡，GPU效能過低，CPU過剩且價格超預算，性價比低。\"\n",
      "      }\n",
      "    }\n",
      "  ]\n",
      "}\n"
     ]
    },
    {
     "data": {
      "text/html": [
       "<pre style=\"white-space:pre;overflow-x:auto;line-height:normal;font-family:Menlo,'DejaVu Sans Mono',consolas,'Courier New',monospace\"><span style=\"font-weight: bold\">{</span>\n",
       "    <span style=\"color: #008000; text-decoration-color: #008000\">'question_id'</span>: <span style=\"color: #008080; text-decoration-color: #008080; font-weight: bold\">8</span>,\n",
       "    <span style=\"color: #008000; text-decoration-color: #008000\">'question'</span>: <span style=\"color: #008000; text-decoration-color: #008000\">'預算約45000元，需要一台主要用來跑Adobe系列軟體的電腦，特別是Photoshop和After Effects。'</span>,\n",
       "    <span style=\"color: #008000; text-decoration-color: #008000\">'gpt4o_recommendation'</span>: <span style=\"color: #008000; text-decoration-color: #008000\">'CPU: AMD Ryzen 5 5600X | price: 6200\\nMotherboard: MSI B550-A PRO | price: </span>\n",
       "<span style=\"color: #008000; text-decoration-color: #008000\">3500\\nMemory: Corsair Vengeance LPX 16GB (2x8GB) DDR4-3200 | price: 1800\\nGPU: NVIDIA GeForce GTX 1660 Super | </span>\n",
       "<span style=\"color: #008000; text-decoration-color: #008000\">price: 7000\\nSSD: Crucial P3 1TB NVMe SSD | price: 2200\\nPower Supply: Seasonic S12III 650W 80+ Bronze | price: </span>\n",
       "<span style=\"color: #008000; text-decoration-color: #008000\">2500\\nCase: NZXT H510 | price: 2000\\nCase Fan: ARCTIC P12 PWM | price: 300\\n總價: 25500'</span>,\n",
       "    <span style=\"color: #008000; text-decoration-color: #008000\">'buildmate_recommendation'</span>: <span style=\"color: #008000; text-decoration-color: #008000\">'CPU: Intel Core i7-10700K | price: 12000\\nMotherboard: ASUS ROG Strix Z490-E </span>\n",
       "<span style=\"color: #008000; text-decoration-color: #008000\">Gaming | price: 12000\\nMemory: Corsair Vengeance LPX 32GB (2 x 16GB) DDR4 3200MHz | price: 8000\\nGPU: NVIDIA </span>\n",
       "<span style=\"color: #008000; text-decoration-color: #008000\">GeForce GTX 1660 Super | price: 6000\\nSSD: NVIDIA GeForce RTX 3060 | price: 15000\\nPower Supply: Corsair RM750x </span>\n",
       "<span style=\"color: #008000; text-decoration-color: #008000\">750W 全模組化電源供應器 | price: 5000\\nCase: Intel Core i7-10700K | price: 12000\\nCase Fan: Noctua NH-D15 | price: </span>\n",
       "<span style=\"color: #008000; text-decoration-color: #008000\">4500\\n總價: 74500'</span>\n",
       "<span style=\"font-weight: bold\">}</span>\n",
       "</pre>\n"
      ],
      "text/plain": [
       "\u001b[1m{\u001b[0m\n",
       "    \u001b[32m'question_id'\u001b[0m: \u001b[1;36m8\u001b[0m,\n",
       "    \u001b[32m'question'\u001b[0m: \u001b[32m'預算約45000元，需要一台主要用來跑Adobe系列軟體的電腦，特別是Photoshop和After Effects。'\u001b[0m,\n",
       "    \u001b[32m'gpt4o_recommendation'\u001b[0m: \u001b[32m'CPU: AMD Ryzen 5 5600X | price: 6200\\nMotherboard: MSI B550-A PRO | price: \u001b[0m\n",
       "\u001b[32m3500\\nMemory: Corsair Vengeance LPX 16GB \u001b[0m\u001b[32m(\u001b[0m\u001b[32m2x8GB\u001b[0m\u001b[32m)\u001b[0m\u001b[32m DDR4-3200 | price: 1800\\nGPU: NVIDIA GeForce GTX 1660 Super | \u001b[0m\n",
       "\u001b[32mprice: 7000\\nSSD: Crucial P3 1TB NVMe SSD | price: 2200\\nPower Supply: Seasonic S12III 650W 80+ Bronze | price: \u001b[0m\n",
       "\u001b[32m2500\\nCase: NZXT H510 | price: 2000\\nCase Fan: ARCTIC P12 PWM | price: 300\\n總價: 25500'\u001b[0m,\n",
       "    \u001b[32m'buildmate_recommendation'\u001b[0m: \u001b[32m'CPU: Intel Core i7-10700K | price: 12000\\nMotherboard: ASUS ROG Strix Z490-E \u001b[0m\n",
       "\u001b[32mGaming | price: 12000\\nMemory: Corsair Vengeance LPX 32GB \u001b[0m\u001b[32m(\u001b[0m\u001b[32m2 x 16GB\u001b[0m\u001b[32m)\u001b[0m\u001b[32m DDR4 3200MHz | price: 8000\\nGPU: NVIDIA \u001b[0m\n",
       "\u001b[32mGeForce GTX 1660 Super | price: 6000\\nSSD: NVIDIA GeForce RTX 3060 | price: 15000\\nPower Supply: Corsair RM750x \u001b[0m\n",
       "\u001b[32m750W 全模組化電源供應器 | price: 5000\\nCase: Intel Core i7-10700K | price: 12000\\nCase Fan: Noctua NH-D15 | price: \u001b[0m\n",
       "\u001b[32m4500\\n總價: 74500'\u001b[0m\n",
       "\u001b[1m}\u001b[0m\n"
      ]
     },
     "metadata": {},
     "output_type": "display_data"
    },
    {
     "data": {
      "text/html": [
       "<pre style=\"white-space:pre;overflow-x:auto;line-height:normal;font-family:Menlo,'DejaVu Sans Mono',consolas,'Courier New',monospace\">Agent1: ### 評價與分析：\n",
       "\n",
       "#### <span style=\"font-weight: bold\">[</span>對gpt4o評價<span style=\"font-weight: bold\">]</span>: <span style=\"color: #008080; text-decoration-color: #008080; font-weight: bold\">6</span>/<span style=\"color: #008080; text-decoration-color: #008080; font-weight: bold\">10</span>  \n",
       "#### <span style=\"font-weight: bold\">[</span>對BuildMate評價<span style=\"font-weight: bold\">]</span>: <span style=\"color: #008080; text-decoration-color: #008080; font-weight: bold\">8</span>/<span style=\"color: #008080; text-decoration-color: #008080; font-weight: bold\">10</span>  \n",
       "\n",
       "#### <span style=\"font-weight: bold\">[</span>簡短原因<span style=\"font-weight: bold\">]</span>:  \n",
       "- \n",
       "**gpt4o**：效能偏低，特別是處理器與記憶體配置不足以支撐Adobe多工需求，儲存與散熱方案尚可，但整體效能與穩定性有限。 \n",
       "- **BuildMate**：處理器與記憶體效能強大，適合Adobe多工與高效能需求，但價格超出預算，且顯示卡與整體平衡度稍顯過剩。\n",
       "</pre>\n"
      ],
      "text/plain": [
       "Agent1: ### 評價與分析：\n",
       "\n",
       "#### \u001b[1m[\u001b[0m對gpt4o評價\u001b[1m]\u001b[0m: \u001b[1;36m6\u001b[0m/\u001b[1;36m10\u001b[0m  \n",
       "#### \u001b[1m[\u001b[0m對BuildMate評價\u001b[1m]\u001b[0m: \u001b[1;36m8\u001b[0m/\u001b[1;36m10\u001b[0m  \n",
       "\n",
       "#### \u001b[1m[\u001b[0m簡短原因\u001b[1m]\u001b[0m:  \n",
       "- \n",
       "**gpt4o**：效能偏低，特別是處理器與記憶體配置不足以支撐Adobe多工需求，儲存與散熱方案尚可，但整體效能與穩定性有限。 \n",
       "- **BuildMate**：處理器與記憶體效能強大，適合Adobe多工與高效能需求，但價格超出預算，且顯示卡與整體平衡度稍顯過剩。\n"
      ]
     },
     "metadata": {},
     "output_type": "display_data"
    },
    {
     "name": "stdout",
     "output_type": "stream",
     "text": [
      "======\n"
     ]
    },
    {
     "data": {
      "text/html": [
       "<pre style=\"white-space:pre;overflow-x:auto;line-height:normal;font-family:Menlo,'DejaVu Sans Mono',consolas,'Courier New',monospace\">Agent2: <span style=\"font-weight: bold\">[</span>對gpt4o評價<span style=\"font-weight: bold\">]</span>: <span style=\"color: #008080; text-decoration-color: #008080; font-weight: bold\">7</span>/<span style=\"color: #008080; text-decoration-color: #008080; font-weight: bold\">10</span>  \n",
       "<span style=\"font-weight: bold\">[</span>對BuildMate評價<span style=\"font-weight: bold\">]</span>: <span style=\"color: #008080; text-decoration-color: #008080; font-weight: bold\">5</span>/<span style=\"color: #008080; text-decoration-color: #008080; font-weight: bold\">10</span>  \n",
       "\n",
       "<span style=\"font-weight: bold\">[</span>簡短原因<span style=\"font-weight: bold\">]</span>:  \n",
       "- **gpt4o**：價格低廉，效能足夠應付基本Adobe需求，但記憶體容量偏低，影響多工表現，GPU效能稍弱。  \n",
       "- **BuildMate**：效能強大但價格過高，RTX 3060過剩且CPU與主機板性價比不佳，預算分配不合理。\n",
       "</pre>\n"
      ],
      "text/plain": [
       "Agent2: \u001b[1m[\u001b[0m對gpt4o評價\u001b[1m]\u001b[0m: \u001b[1;36m7\u001b[0m/\u001b[1;36m10\u001b[0m  \n",
       "\u001b[1m[\u001b[0m對BuildMate評價\u001b[1m]\u001b[0m: \u001b[1;36m5\u001b[0m/\u001b[1;36m10\u001b[0m  \n",
       "\n",
       "\u001b[1m[\u001b[0m簡短原因\u001b[1m]\u001b[0m:  \n",
       "- **gpt4o**：價格低廉，效能足夠應付基本Adobe需求，但記憶體容量偏低，影響多工表現，GPU效能稍弱。  \n",
       "- **BuildMate**：效能強大但價格過高，RTX 3060過剩且CPU與主機板性價比不佳，預算分配不合理。\n"
      ]
     },
     "metadata": {},
     "output_type": "display_data"
    },
    {
     "name": "stdout",
     "output_type": "stream",
     "text": [
      "======\n"
     ]
    },
    {
     "data": {
      "text/html": [
       "<pre style=\"white-space:pre;overflow-x:auto;line-height:normal;font-family:Menlo,'DejaVu Sans Mono',consolas,'Courier New',monospace\">Agent3: <span style=\"font-weight: bold\">[</span>對gpt4o評價<span style=\"font-weight: bold\">]</span>: <span style=\"color: #008080; text-decoration-color: #008080; font-weight: bold\">6</span>/<span style=\"color: #008080; text-decoration-color: #008080; font-weight: bold\">10</span>  \n",
       "<span style=\"font-weight: bold\">[</span>對BuildMate評價<span style=\"font-weight: bold\">]</span>: <span style=\"color: #008080; text-decoration-color: #008080; font-weight: bold\">5</span>/<span style=\"color: #008080; text-decoration-color: #008080; font-weight: bold\">10</span>  \n",
       "\n",
       "<span style=\"font-weight: bold\">[</span>簡短原因<span style=\"font-weight: bold\">]</span>:  \n",
       "- **gpt4o**：價格低於預算，效能不足，特別是記憶體容量與GPU效能無法滿足After Effects需求，適合輕量Photoshop使用。  \n",
       "- **BuildMate**：效能過剩且價格超出預算，RTX 3060對Adobe用途過度，CPU與主機板選擇不符性價比，預算分配不合理。\n",
       "</pre>\n"
      ],
      "text/plain": [
       "Agent3: \u001b[1m[\u001b[0m對gpt4o評價\u001b[1m]\u001b[0m: \u001b[1;36m6\u001b[0m/\u001b[1;36m10\u001b[0m  \n",
       "\u001b[1m[\u001b[0m對BuildMate評價\u001b[1m]\u001b[0m: \u001b[1;36m5\u001b[0m/\u001b[1;36m10\u001b[0m  \n",
       "\n",
       "\u001b[1m[\u001b[0m簡短原因\u001b[1m]\u001b[0m:  \n",
       "- **gpt4o**：價格低於預算，效能不足，特別是記憶體容量與GPU效能無法滿足After Effects需求，適合輕量Photoshop使用。  \n",
       "- **BuildMate**：效能過剩且價格超出預算，RTX 3060對Adobe用途過度，CPU與主機板選擇不符性價比，預算分配不合理。\n"
      ]
     },
     "metadata": {},
     "output_type": "display_data"
    },
    {
     "name": "stdout",
     "output_type": "stream",
     "text": [
      "======\n"
     ]
    },
    {
     "data": {
      "text/html": [
       "<pre style=\"white-space:pre;overflow-x:auto;line-height:normal;font-family:Menlo,'DejaVu Sans Mono',consolas,'Courier New',monospace\">Coordinator: 未達共識\n",
       "</pre>\n"
      ],
      "text/plain": [
       "Coordinator: 未達共識\n"
      ]
     },
     "metadata": {},
     "output_type": "display_data"
    },
    {
     "name": "stdout",
     "output_type": "stream",
     "text": [
      "======\n"
     ]
    },
    {
     "data": {
      "text/html": [
       "<pre style=\"white-space:pre;overflow-x:auto;line-height:normal;font-family:Menlo,'DejaVu Sans Mono',consolas,'Courier New',monospace\">Agent1: <span style=\"font-weight: bold\">[</span>對gpt4o評價<span style=\"font-weight: bold\">]</span>: <span style=\"color: #008080; text-decoration-color: #008080; font-weight: bold\">7</span>/<span style=\"color: #008080; text-decoration-color: #008080; font-weight: bold\">10</span>  \n",
       "<span style=\"font-weight: bold\">[</span>對BuildMate評價<span style=\"font-weight: bold\">]</span>: <span style=\"color: #008080; text-decoration-color: #008080; font-weight: bold\">5</span>/<span style=\"color: #008080; text-decoration-color: #008080; font-weight: bold\">10</span>  \n",
       "\n",
       "<span style=\"font-weight: bold\">[</span>簡短原因<span style=\"font-weight: bold\">]</span>:  \n",
       "- **gpt4o**：效能適中，價格合理，處理器與顯示卡能滿足Adobe需求，但記憶體容量不足，影響After Effects多工性能。  \n",
       "- **BuildMate**：效能過剩且價格嚴重超預算，RTX 3060與高階主機板對Adobe用途性價比極低，預算分配失衡。\n",
       "</pre>\n"
      ],
      "text/plain": [
       "Agent1: \u001b[1m[\u001b[0m對gpt4o評價\u001b[1m]\u001b[0m: \u001b[1;36m7\u001b[0m/\u001b[1;36m10\u001b[0m  \n",
       "\u001b[1m[\u001b[0m對BuildMate評價\u001b[1m]\u001b[0m: \u001b[1;36m5\u001b[0m/\u001b[1;36m10\u001b[0m  \n",
       "\n",
       "\u001b[1m[\u001b[0m簡短原因\u001b[1m]\u001b[0m:  \n",
       "- **gpt4o**：效能適中，價格合理，處理器與顯示卡能滿足Adobe需求，但記憶體容量不足，影響After Effects多工性能。  \n",
       "- **BuildMate**：效能過剩且價格嚴重超預算，RTX 3060與高階主機板對Adobe用途性價比極低，預算分配失衡。\n"
      ]
     },
     "metadata": {},
     "output_type": "display_data"
    },
    {
     "name": "stdout",
     "output_type": "stream",
     "text": [
      "======\n"
     ]
    },
    {
     "data": {
      "text/html": [
       "<pre style=\"white-space:pre;overflow-x:auto;line-height:normal;font-family:Menlo,'DejaVu Sans Mono',consolas,'Courier New',monospace\">Agent2: <span style=\"font-weight: bold\">[</span>對gpt4o評價<span style=\"font-weight: bold\">]</span>: <span style=\"color: #008080; text-decoration-color: #008080; font-weight: bold\">8</span>/<span style=\"color: #008080; text-decoration-color: #008080; font-weight: bold\">10</span>  \n",
       "<span style=\"font-weight: bold\">[</span>對BuildMate評價<span style=\"font-weight: bold\">]</span>: <span style=\"color: #008080; text-decoration-color: #008080; font-weight: bold\">4</span>/<span style=\"color: #008080; text-decoration-color: #008080; font-weight: bold\">10</span>  \n",
       "\n",
       "<span style=\"font-weight: bold\">[</span>簡短原因<span style=\"font-weight: bold\">]</span>:  \n",
       "- **gpt4o**：價格控制良好，效能足夠應付Photoshop與After \n",
       "Effects基本需求，但記憶體容量偏低，影響多工表現，建議升級至32GB。  \n",
       "- **BuildMate**：效能過剩且價格嚴重超預算，RTX 3060與高階主機板對Adobe用途性價比極低，預算分配極不合理。\n",
       "</pre>\n"
      ],
      "text/plain": [
       "Agent2: \u001b[1m[\u001b[0m對gpt4o評價\u001b[1m]\u001b[0m: \u001b[1;36m8\u001b[0m/\u001b[1;36m10\u001b[0m  \n",
       "\u001b[1m[\u001b[0m對BuildMate評價\u001b[1m]\u001b[0m: \u001b[1;36m4\u001b[0m/\u001b[1;36m10\u001b[0m  \n",
       "\n",
       "\u001b[1m[\u001b[0m簡短原因\u001b[1m]\u001b[0m:  \n",
       "- **gpt4o**：價格控制良好，效能足夠應付Photoshop與After \n",
       "Effects基本需求，但記憶體容量偏低，影響多工表現，建議升級至32GB。  \n",
       "- **BuildMate**：效能過剩且價格嚴重超預算，RTX 3060與高階主機板對Adobe用途性價比極低，預算分配極不合理。\n"
      ]
     },
     "metadata": {},
     "output_type": "display_data"
    },
    {
     "name": "stdout",
     "output_type": "stream",
     "text": [
      "======\n"
     ]
    },
    {
     "data": {
      "text/html": [
       "<pre style=\"white-space:pre;overflow-x:auto;line-height:normal;font-family:Menlo,'DejaVu Sans Mono',consolas,'Courier New',monospace\">Agent3: <span style=\"font-weight: bold\">[</span>對gpt4o評價<span style=\"font-weight: bold\">]</span>: <span style=\"color: #008080; text-decoration-color: #008080; font-weight: bold\">7</span>/<span style=\"color: #008080; text-decoration-color: #008080; font-weight: bold\">10</span>  \n",
       "<span style=\"font-weight: bold\">[</span>對BuildMate評價<span style=\"font-weight: bold\">]</span>: <span style=\"color: #008080; text-decoration-color: #008080; font-weight: bold\">4</span>/<span style=\"color: #008080; text-decoration-color: #008080; font-weight: bold\">10</span>  \n",
       "\n",
       "<span style=\"font-weight: bold\">[</span>簡短原因<span style=\"font-weight: bold\">]</span>:  \n",
       "- **gpt4o**：價格合理，效能足夠應付Photoshop與After \n",
       "Effects基本需求，但記憶體僅16GB，對多工與AE性能有瓶頸，建議升級至32GB。  \n",
       "- **BuildMate**：嚴重超預算且配置過剩，RTX 3060與高價主機板對Adobe用途性價比極低，預算分配失衡，CPU與GPU效能浪費。\n",
       "</pre>\n"
      ],
      "text/plain": [
       "Agent3: \u001b[1m[\u001b[0m對gpt4o評價\u001b[1m]\u001b[0m: \u001b[1;36m7\u001b[0m/\u001b[1;36m10\u001b[0m  \n",
       "\u001b[1m[\u001b[0m對BuildMate評價\u001b[1m]\u001b[0m: \u001b[1;36m4\u001b[0m/\u001b[1;36m10\u001b[0m  \n",
       "\n",
       "\u001b[1m[\u001b[0m簡短原因\u001b[1m]\u001b[0m:  \n",
       "- **gpt4o**：價格合理，效能足夠應付Photoshop與After \n",
       "Effects基本需求，但記憶體僅16GB，對多工與AE性能有瓶頸，建議升級至32GB。  \n",
       "- **BuildMate**：嚴重超預算且配置過剩，RTX 3060與高價主機板對Adobe用途性價比極低，預算分配失衡，CPU與GPU效能浪費。\n"
      ]
     },
     "metadata": {},
     "output_type": "display_data"
    },
    {
     "name": "stdout",
     "output_type": "stream",
     "text": [
      "======\n"
     ]
    },
    {
     "data": {
      "text/html": [
       "<pre style=\"white-space:pre;overflow-x:auto;line-height:normal;font-family:Menlo,'DejaVu Sans Mono',consolas,'Courier New',monospace\">Coordinator: 已達成共識，gpt4o較佳。  \n",
       "理由：效能足夠應付需求，價格合理且符合預算，僅需升級記憶體至32GB以提升多工性能。\n",
       "</pre>\n"
      ],
      "text/plain": [
       "Coordinator: 已達成共識，gpt4o較佳。  \n",
       "理由：效能足夠應付需求，價格合理且符合預算，僅需升級記憶體至32GB以提升多工性能。\n"
      ]
     },
     "metadata": {},
     "output_type": "display_data"
    },
    {
     "name": "stdout",
     "output_type": "stream",
     "text": [
      "======\n",
      "{'Coordinator': {'messages': [HumanMessage(content='Agent1: ### 評價與分析：\\n\\n#### [對gpt4o評價]: 6/10  \\n#### [對BuildMate評價]: 8/10  \\n\\n#### [簡短原因]:  \\n- **gpt4o**：效能偏低，特別是處理器與記憶體配置不足以支撐Adobe多工需求，儲存與散熱方案尚可，但整體效能與穩定性有限。  \\n- **BuildMate**：處理器與記憶體效能強大，適合Adobe多工與高效能需求，但價格超出預算，且顯示卡與整體平衡度稍顯過剩。', additional_kwargs={}, response_metadata={}), HumanMessage(content='Agent2: [對gpt4o評價]: 7/10  \\n[對BuildMate評價]: 5/10  \\n\\n[簡短原因]:  \\n- **gpt4o**：價格低廉，效能足夠應付基本Adobe需求，但記憶體容量偏低，影響多工表現，GPU效能稍弱。  \\n- **BuildMate**：效能強大但價格過高，RTX 3060過剩且CPU與主機板性價比不佳，預算分配不合理。', additional_kwargs={}, response_metadata={}), HumanMessage(content='Agent3: [對gpt4o評價]: 6/10  \\n[對BuildMate評價]: 5/10  \\n\\n[簡短原因]:  \\n- **gpt4o**：價格低於預算，效能不足，特別是記憶體容量與GPU效能無法滿足After Effects需求，適合輕量Photoshop使用。  \\n- **BuildMate**：效能過剩且價格超出預算，RTX 3060對Adobe用途過度，CPU與主機板選擇不符性價比，預算分配不合理。', additional_kwargs={}, response_metadata={}), HumanMessage(content='Coordinator: 未達共識', additional_kwargs={}, response_metadata={}), HumanMessage(content='Agent1: [對gpt4o評價]: 7/10  \\n[對BuildMate評價]: 5/10  \\n\\n[簡短原因]:  \\n- **gpt4o**：效能適中，價格合理，處理器與顯示卡能滿足Adobe需求，但記憶體容量不足，影響After Effects多工性能。  \\n- **BuildMate**：效能過剩且價格嚴重超預算，RTX 3060與高階主機板對Adobe用途性價比極低，預算分配失衡。', additional_kwargs={}, response_metadata={}), HumanMessage(content='Agent2: [對gpt4o評價]: 8/10  \\n[對BuildMate評價]: 4/10  \\n\\n[簡短原因]:  \\n- **gpt4o**：價格控制良好，效能足夠應付Photoshop與After Effects基本需求，但記憶體容量偏低，影響多工表現，建議升級至32GB。  \\n- **BuildMate**：效能過剩且價格嚴重超預算，RTX 3060與高階主機板對Adobe用途性價比極低，預算分配極不合理。', additional_kwargs={}, response_metadata={}), HumanMessage(content='Agent3: [對gpt4o評價]: 7/10  \\n[對BuildMate評價]: 4/10  \\n\\n[簡短原因]:  \\n- **gpt4o**：價格合理，效能足夠應付Photoshop與After Effects基本需求，但記憶體僅16GB，對多工與AE性能有瓶頸，建議升級至32GB。  \\n- **BuildMate**：嚴重超預算且配置過剩，RTX 3060與高價主機板對Adobe用途性價比極低，預算分配失衡，CPU與GPU效能浪費。', additional_kwargs={}, response_metadata={}), HumanMessage(content='Coordinator: 已達成共識，gpt4o較佳。  \\n理由：效能足夠應付需求，價格合理且符合預算，僅需升級記憶體至32GB以提升多工性能。', additional_kwargs={}, response_metadata={})], 'next_agent': '__end__', 'question_id': 8, 'question': '預算約45000元，需要一台主要用來跑Adobe系列軟體的電腦，特別是Photoshop和After Effects。', 'gpt4o_recommendation': 'CPU: AMD Ryzen 5 5600X | price: 6200\\nMotherboard: MSI B550-A PRO | price: 3500\\nMemory: Corsair Vengeance LPX 16GB (2x8GB) DDR4-3200 | price: 1800\\nGPU: NVIDIA GeForce GTX 1660 Super | price: 7000\\nSSD: Crucial P3 1TB NVMe SSD | price: 2200\\nPower Supply: Seasonic S12III 650W 80+ Bronze | price: 2500\\nCase: NZXT H510 | price: 2000\\nCase Fan: ARCTIC P12 PWM | price: 300\\n總價: 25500', 'buildmate_recommendation': 'CPU: Intel Core i7-10700K | price: 12000\\nMotherboard: ASUS ROG Strix Z490-E Gaming | price: 12000\\nMemory: Corsair Vengeance LPX 32GB (2 x 16GB) DDR4 3200MHz | price: 8000\\nGPU: NVIDIA GeForce GTX 1660 Super | price: 6000\\nSSD: NVIDIA GeForce RTX 3060 | price: 15000\\nPower Supply: Corsair RM750x 750W 全模組化電源供應器 | price: 5000\\nCase: Intel Core i7-10700K | price: 12000\\nCase Fan: Noctua NH-D15 | price: 4500\\n總價: 74500', 'agent_scores': {'Agent1_round1': {'gpt4o_score': 6, 'buildmate_score': 8, 'reason': '- **gpt4o**：效能偏低，特別是處理器與記憶體配置不足以支撐Adobe多工需求，儲存與散熱方案尚可，但整體效能與穩定性有限。  '}, 'Agent2_round1': {'gpt4o_score': 7, 'buildmate_score': 5, 'reason': '- **gpt4o**：價格低廉，效能足夠應付基本Adobe需求，但記憶體容量偏低，影響多工表現，GPU效能稍弱。  '}, 'Agent3_round1': {'gpt4o_score': 6, 'buildmate_score': 5, 'reason': '- **gpt4o**：價格低於預算，效能不足，特別是記憶體容量與GPU效能無法滿足After Effects需求，適合輕量Photoshop使用。  '}, 'Agent1_round2': {'gpt4o_score': 7, 'buildmate_score': 5, 'reason': '- **gpt4o**：效能適中，價格合理，處理器與顯示卡能滿足Adobe需求，但記憶體容量不足，影響After Effects多工性能。  '}, 'Agent2_round2': {'gpt4o_score': 8, 'buildmate_score': 4, 'reason': '- **gpt4o**：價格控制良好，效能足夠應付Photoshop與After Effects基本需求，但記憶體容量偏低，影響多工表現，建議升級至32GB。  '}, 'Agent3_round2': {'gpt4o_score': 7, 'buildmate_score': 4, 'reason': '- **gpt4o**：價格合理，效能足夠應付Photoshop與After Effects基本需求，但記憶體僅16GB，對多工與AE性能有瓶頸，建議升級至32GB。  '}}, 'round_count': 2, 'max_rounds': 3, 'consensus_reached': True}}\n",
      "{\n",
      "  \"question_id\": 8,\n",
      "  \"question\": \"預算約45000元，需要一台主要用來跑Adobe系列軟體的電腦，特別是Photoshop和After Effects。\",\n",
      "  \"buildmate_recommendation\": \"CPU: Intel Core i7-10700K | price: 12000\\nMotherboard: ASUS ROG Strix Z490-E Gaming | price: 12000\\nMemory: Corsair Vengeance LPX 32GB (2 x 16GB) DDR4 3200MHz | price: 8000\\nGPU: NVIDIA GeForce GTX 1660 Super | price: 6000\\nSSD: NVIDIA GeForce RTX 3060 | price: 15000\\nPower Supply: Corsair RM750x 750W 全模組化電源供應器 | price: 5000\\nCase: Intel Core i7-10700K | price: 12000\\nCase Fan: Noctua NH-D15 | price: 4500\\n總價: 74500\",\n",
      "  \"gpt4o_recommendation\": \"CPU: AMD Ryzen 5 5600X | price: 6200\\nMotherboard: MSI B550-A PRO | price: 3500\\nMemory: Corsair Vengeance LPX 16GB (2x8GB) DDR4-3200 | price: 1800\\nGPU: NVIDIA GeForce GTX 1660 Super | price: 7000\\nSSD: Crucial P3 1TB NVMe SSD | price: 2200\\nPower Supply: Seasonic S12III 650W 80+ Bronze | price: 2500\\nCase: NZXT H510 | price: 2000\\nCase Fan: ARCTIC P12 PWM | price: 300\\n總價: 25500\",\n",
      "  \"winner\": 0,\n",
      "  \"buildmate_avg_score\": 5.166666666666667,\n",
      "  \"gpt4o_avg_score\": 6.833333333333333,\n",
      "  \"rounds\": [\n",
      "    {\n",
      "      \"round_number\": 1,\n",
      "      \"Agent1\": {\n",
      "        \"gpt4o_score\": 6,\n",
      "        \"buildmate_score\": 8,\n",
      "        \"reason\": \"- **gpt4o**：效能偏低，特別是處理器與記憶體配置不足以支撐Adobe多工需求，儲存與散熱方案尚可，但整體效能與穩定性有限。  \"\n",
      "      },\n",
      "      \"Agent2\": {\n",
      "        \"gpt4o_score\": 7,\n",
      "        \"buildmate_score\": 5,\n",
      "        \"reason\": \"- **gpt4o**：價格低廉，效能足夠應付基本Adobe需求，但記憶體容量偏低，影響多工表現，GPU效能稍弱。  \"\n",
      "      },\n",
      "      \"Agent3\": {\n",
      "        \"gpt4o_score\": 6,\n",
      "        \"buildmate_score\": 5,\n",
      "        \"reason\": \"- **gpt4o**：價格低於預算，效能不足，特別是記憶體容量與GPU效能無法滿足After Effects需求，適合輕量Photoshop使用。  \"\n",
      "      }\n",
      "    },\n",
      "    {\n",
      "      \"round_number\": 2,\n",
      "      \"Agent1\": {\n",
      "        \"gpt4o_score\": 7,\n",
      "        \"buildmate_score\": 5,\n",
      "        \"reason\": \"- **gpt4o**：效能適中，價格合理，處理器與顯示卡能滿足Adobe需求，但記憶體容量不足，影響After Effects多工性能。  \"\n",
      "      },\n",
      "      \"Agent2\": {\n",
      "        \"gpt4o_score\": 8,\n",
      "        \"buildmate_score\": 4,\n",
      "        \"reason\": \"- **gpt4o**：價格控制良好，效能足夠應付Photoshop與After Effects基本需求，但記憶體容量偏低，影響多工表現，建議升級至32GB。  \"\n",
      "      },\n",
      "      \"Agent3\": {\n",
      "        \"gpt4o_score\": 7,\n",
      "        \"buildmate_score\": 4,\n",
      "        \"reason\": \"- **gpt4o**：價格合理，效能足夠應付Photoshop與After Effects基本需求，但記憶體僅16GB，對多工與AE性能有瓶頸，建議升級至32GB。  \"\n",
      "      }\n",
      "    }\n",
      "  ]\n",
      "}\n"
     ]
    },
    {
     "data": {
      "text/html": [
       "<pre style=\"white-space:pre;overflow-x:auto;line-height:normal;font-family:Menlo,'DejaVu Sans Mono',consolas,'Courier New',monospace\"><span style=\"font-weight: bold\">{</span>\n",
       "    <span style=\"color: #008000; text-decoration-color: #008000\">'question_id'</span>: <span style=\"color: #008080; text-decoration-color: #008080; font-weight: bold\">9</span>,\n",
       "    <span style=\"color: #008000; text-decoration-color: #008000\">'question'</span>: <span style=\"color: #008000; text-decoration-color: #008000\">'我需要一台適合股市分析的電腦，預算大概30000元，需要大量運算和多螢幕，有什麼好提議？'</span>,\n",
       "    <span style=\"color: #008000; text-decoration-color: #008000\">'gpt4o_recommendation'</span>: <span style=\"color: #008000; text-decoration-color: #008000\">'CPU: AMD Ryzen 5 5600X | price: 5990\\nMotherboard: MSI B550-A PRO | price: </span>\n",
       "<span style=\"color: #008000; text-decoration-color: #008000\">3990\\nMemory: Corsair Vengeance LPX 16GB (2x8GB) DDR4-3200 | price: 1800\\nGPU: NVIDIA GeForce GTX 1660 Super | </span>\n",
       "<span style=\"color: #008000; text-decoration-color: #008000\">price: 6500\\nSSD: Crucial P3 1TB NVMe SSD | price: 2200\\nPower Supply: Seasonic S12III 650W 80+ Bronze | price: </span>\n",
       "<span style=\"color: #008000; text-decoration-color: #008000\">2500\\nCase: NZXT H510 | price: 1800\\nCase Fan: ARCTIC P12 PWM | price: 300\\n總價: 25080'</span>,\n",
       "    <span style=\"color: #008000; text-decoration-color: #008000\">'buildmate_recommendation'</span>: <span style=\"color: #008000; text-decoration-color: #008000\">'CPU: Intel 第八代 i5-8400 | price: 4500\\nMotherboard: ASUS TUF Gaming B460M-Plus |</span>\n",
       "<span style=\"color: #008000; text-decoration-color: #008000\">price: 4500\\nMemory: Corsair Vengeance LPX 16GB (2 x 8GB) DDR4 3200MHz | price: 3000\\nGPU: NVIDIA GeForce GTX 1050 </span>\n",
       "<span style=\"color: #008000; text-decoration-color: #008000\">Ti | price: 800\\nSSD: Corsair RM750x 750W 電源供應器 | price: 5000\\nPower Supply: ASUS ROG Strix Z490-E Gaming | </span>\n",
       "<span style=\"color: #008000; text-decoration-color: #008000\">price: 8000\\nCase: Cooler Master MasterBox Q300L | price: 1500\\nCase Fan: Noctua NH-U12S Redux | price: 2500\\n總價:</span>\n",
       "<span style=\"color: #008000; text-decoration-color: #008000\">29800'</span>\n",
       "<span style=\"font-weight: bold\">}</span>\n",
       "</pre>\n"
      ],
      "text/plain": [
       "\u001b[1m{\u001b[0m\n",
       "    \u001b[32m'question_id'\u001b[0m: \u001b[1;36m9\u001b[0m,\n",
       "    \u001b[32m'question'\u001b[0m: \u001b[32m'我需要一台適合股市分析的電腦，預算大概30000元，需要大量運算和多螢幕，有什麼好提議？'\u001b[0m,\n",
       "    \u001b[32m'gpt4o_recommendation'\u001b[0m: \u001b[32m'CPU: AMD Ryzen 5 5600X | price: 5990\\nMotherboard: MSI B550-A PRO | price: \u001b[0m\n",
       "\u001b[32m3990\\nMemory: Corsair Vengeance LPX 16GB \u001b[0m\u001b[32m(\u001b[0m\u001b[32m2x8GB\u001b[0m\u001b[32m)\u001b[0m\u001b[32m DDR4-3200 | price: 1800\\nGPU: NVIDIA GeForce GTX 1660 Super | \u001b[0m\n",
       "\u001b[32mprice: 6500\\nSSD: Crucial P3 1TB NVMe SSD | price: 2200\\nPower Supply: Seasonic S12III 650W 80+ Bronze | price: \u001b[0m\n",
       "\u001b[32m2500\\nCase: NZXT H510 | price: 1800\\nCase Fan: ARCTIC P12 PWM | price: 300\\n總價: 25080'\u001b[0m,\n",
       "    \u001b[32m'buildmate_recommendation'\u001b[0m: \u001b[32m'CPU: Intel 第八代 i5-8400 | price: 4500\\nMotherboard: ASUS TUF Gaming B460M-Plus |\u001b[0m\n",
       "\u001b[32mprice: 4500\\nMemory: Corsair Vengeance LPX 16GB \u001b[0m\u001b[32m(\u001b[0m\u001b[32m2 x 8GB\u001b[0m\u001b[32m)\u001b[0m\u001b[32m DDR4 3200MHz | price: 3000\\nGPU: NVIDIA GeForce GTX 1050 \u001b[0m\n",
       "\u001b[32mTi | price: 800\\nSSD: Corsair RM750x 750W 電源供應器 | price: 5000\\nPower Supply: ASUS ROG Strix Z490-E Gaming | \u001b[0m\n",
       "\u001b[32mprice: 8000\\nCase: Cooler Master MasterBox Q300L | price: 1500\\nCase Fan: Noctua NH-U12S Redux | price: 2500\\n總價:\u001b[0m\n",
       "\u001b[32m29800'\u001b[0m\n",
       "\u001b[1m}\u001b[0m\n"
      ]
     },
     "metadata": {},
     "output_type": "display_data"
    },
    {
     "data": {
      "text/html": [
       "<pre style=\"white-space:pre;overflow-x:auto;line-height:normal;font-family:Menlo,'DejaVu Sans Mono',consolas,'Courier New',monospace\">Agent1: <span style=\"font-weight: bold\">[</span>對gpt4o評價<span style=\"font-weight: bold\">]</span>: <span style=\"color: #008080; text-decoration-color: #008080; font-weight: bold\">8</span>/<span style=\"color: #008080; text-decoration-color: #008080; font-weight: bold\">10</span>  \n",
       "<span style=\"font-weight: bold\">[</span>對BuildMate評價<span style=\"font-weight: bold\">]</span>: <span style=\"color: #008080; text-decoration-color: #008080; font-weight: bold\">5</span>/<span style=\"color: #008080; text-decoration-color: #008080; font-weight: bold\">10</span>  \n",
       "<span style=\"font-weight: bold\">[</span>簡短原因<span style=\"font-weight: bold\">]</span>:  \n",
       "gpt4o的清單在CPU、GPU和儲存裝置上效能更均衡，適合多螢幕和運算需求，且散熱與電源品質足夠。BuildMate的配置不平衡，CPU\n",
       "與GPU效能偏低，且電源與主機板過度高規，性價比差。\n",
       "</pre>\n"
      ],
      "text/plain": [
       "Agent1: \u001b[1m[\u001b[0m對gpt4o評價\u001b[1m]\u001b[0m: \u001b[1;36m8\u001b[0m/\u001b[1;36m10\u001b[0m  \n",
       "\u001b[1m[\u001b[0m對BuildMate評價\u001b[1m]\u001b[0m: \u001b[1;36m5\u001b[0m/\u001b[1;36m10\u001b[0m  \n",
       "\u001b[1m[\u001b[0m簡短原因\u001b[1m]\u001b[0m:  \n",
       "gpt4o的清單在CPU、GPU和儲存裝置上效能更均衡，適合多螢幕和運算需求，且散熱與電源品質足夠。BuildMate的配置不平衡，CPU\n",
       "與GPU效能偏低，且電源與主機板過度高規，性價比差。\n"
      ]
     },
     "metadata": {},
     "output_type": "display_data"
    },
    {
     "name": "stdout",
     "output_type": "stream",
     "text": [
      "======\n"
     ]
    },
    {
     "data": {
      "text/html": [
       "<pre style=\"white-space:pre;overflow-x:auto;line-height:normal;font-family:Menlo,'DejaVu Sans Mono',consolas,'Courier New',monospace\">Agent2: <span style=\"font-weight: bold\">[</span>對gpt4o評價<span style=\"font-weight: bold\">]</span>: <span style=\"color: #008080; text-decoration-color: #008080; font-weight: bold\">9</span>/<span style=\"color: #008080; text-decoration-color: #008080; font-weight: bold\">10</span>  \n",
       "<span style=\"font-weight: bold\">[</span>對BuildMate評價<span style=\"font-weight: bold\">]</span>: <span style=\"color: #008080; text-decoration-color: #008080; font-weight: bold\">4</span>/<span style=\"color: #008080; text-decoration-color: #008080; font-weight: bold\">10</span>  \n",
       "<span style=\"font-weight: bold\">[</span>簡短原因<span style=\"font-weight: bold\">]</span>:  \n",
       "gpt4o配置均衡，Ryzen <span style=\"color: #008080; text-decoration-color: #008080; font-weight: bold\">5</span> 5600X與GTX <span style=\"color: #008080; text-decoration-color: #008080; font-weight: bold\">1660</span> Super提供強大運算與多螢幕效能，價格控制良好。BuildMate \n",
       "CPU與GPU性能過時，電源與主機板過度高規，預算分配不合理，CP值低。\n",
       "</pre>\n"
      ],
      "text/plain": [
       "Agent2: \u001b[1m[\u001b[0m對gpt4o評價\u001b[1m]\u001b[0m: \u001b[1;36m9\u001b[0m/\u001b[1;36m10\u001b[0m  \n",
       "\u001b[1m[\u001b[0m對BuildMate評價\u001b[1m]\u001b[0m: \u001b[1;36m4\u001b[0m/\u001b[1;36m10\u001b[0m  \n",
       "\u001b[1m[\u001b[0m簡短原因\u001b[1m]\u001b[0m:  \n",
       "gpt4o配置均衡，Ryzen \u001b[1;36m5\u001b[0m 5600X與GTX \u001b[1;36m1660\u001b[0m Super提供強大運算與多螢幕效能，價格控制良好。BuildMate \n",
       "CPU與GPU性能過時，電源與主機板過度高規，預算分配不合理，CP值低。\n"
      ]
     },
     "metadata": {},
     "output_type": "display_data"
    },
    {
     "name": "stdout",
     "output_type": "stream",
     "text": [
      "======\n"
     ]
    },
    {
     "data": {
      "text/html": [
       "<pre style=\"white-space:pre;overflow-x:auto;line-height:normal;font-family:Menlo,'DejaVu Sans Mono',consolas,'Courier New',monospace\">Agent3: <span style=\"font-weight: bold\">[</span>對gpt4o評價<span style=\"font-weight: bold\">]</span>: <span style=\"color: #008080; text-decoration-color: #008080; font-weight: bold\">9</span>/<span style=\"color: #008080; text-decoration-color: #008080; font-weight: bold\">10</span>  \n",
       "<span style=\"font-weight: bold\">[</span>對BuildMate評價<span style=\"font-weight: bold\">]</span>: <span style=\"color: #008080; text-decoration-color: #008080; font-weight: bold\">4</span>/<span style=\"color: #008080; text-decoration-color: #008080; font-weight: bold\">10</span>  \n",
       "<span style=\"font-weight: bold\">[</span>簡短原因<span style=\"font-weight: bold\">]</span>:  \n",
       "gpt4o的清單在CPU、GPU和儲存空間上性能均衡，適合多螢幕和運算需求，且價格低於預算。BuildMate的CPU與GPU性能過時，電源\n",
       "與主機板過度高規，預算分配不合理。\n",
       "</pre>\n"
      ],
      "text/plain": [
       "Agent3: \u001b[1m[\u001b[0m對gpt4o評價\u001b[1m]\u001b[0m: \u001b[1;36m9\u001b[0m/\u001b[1;36m10\u001b[0m  \n",
       "\u001b[1m[\u001b[0m對BuildMate評價\u001b[1m]\u001b[0m: \u001b[1;36m4\u001b[0m/\u001b[1;36m10\u001b[0m  \n",
       "\u001b[1m[\u001b[0m簡短原因\u001b[1m]\u001b[0m:  \n",
       "gpt4o的清單在CPU、GPU和儲存空間上性能均衡，適合多螢幕和運算需求，且價格低於預算。BuildMate的CPU與GPU性能過時，電源\n",
       "與主機板過度高規，預算分配不合理。\n"
      ]
     },
     "metadata": {},
     "output_type": "display_data"
    },
    {
     "name": "stdout",
     "output_type": "stream",
     "text": [
      "======\n"
     ]
    },
    {
     "data": {
      "text/html": [
       "<pre style=\"white-space:pre;overflow-x:auto;line-height:normal;font-family:Menlo,'DejaVu Sans Mono',consolas,'Courier New',monospace\">Coordinator: 已達成共識，gpt4o較佳：效能均衡，符合多螢幕與運算需求，且價格低於預算，性價比高。\n",
       "</pre>\n"
      ],
      "text/plain": [
       "Coordinator: 已達成共識，gpt4o較佳：效能均衡，符合多螢幕與運算需求，且價格低於預算，性價比高。\n"
      ]
     },
     "metadata": {},
     "output_type": "display_data"
    },
    {
     "name": "stdout",
     "output_type": "stream",
     "text": [
      "======\n"
     ]
    },
    {
     "data": {
      "text/html": [
       "<pre style=\"white-space:pre;overflow-x:auto;line-height:normal;font-family:Menlo,'DejaVu Sans Mono',consolas,'Courier New',monospace\">Agent1: <span style=\"font-weight: bold\">[</span>對gpt4o評價<span style=\"font-weight: bold\">]</span>: <span style=\"color: #008080; text-decoration-color: #008080; font-weight: bold\">9</span>/<span style=\"color: #008080; text-decoration-color: #008080; font-weight: bold\">10</span>  \n",
       "<span style=\"font-weight: bold\">[</span>對BuildMate評價<span style=\"font-weight: bold\">]</span>: <span style=\"color: #008080; text-decoration-color: #008080; font-weight: bold\">4</span>/<span style=\"color: #008080; text-decoration-color: #008080; font-weight: bold\">10</span>  \n",
       "<span style=\"font-weight: bold\">[</span>簡短原因<span style=\"font-weight: bold\">]</span>:  \n",
       "gpt4o的CPU與GPU效能適合大量運算與多螢幕需求，儲存空間充足，散熱與電源穩定，性價比高。BuildMate的CPU與GPU性能過時，\n",
       "電源與主機板過度高規，整體效能不平衡且預算浪費。\n",
       "</pre>\n"
      ],
      "text/plain": [
       "Agent1: \u001b[1m[\u001b[0m對gpt4o評價\u001b[1m]\u001b[0m: \u001b[1;36m9\u001b[0m/\u001b[1;36m10\u001b[0m  \n",
       "\u001b[1m[\u001b[0m對BuildMate評價\u001b[1m]\u001b[0m: \u001b[1;36m4\u001b[0m/\u001b[1;36m10\u001b[0m  \n",
       "\u001b[1m[\u001b[0m簡短原因\u001b[1m]\u001b[0m:  \n",
       "gpt4o的CPU與GPU效能適合大量運算與多螢幕需求，儲存空間充足，散熱與電源穩定，性價比高。BuildMate的CPU與GPU性能過時，\n",
       "電源與主機板過度高規，整體效能不平衡且預算浪費。\n"
      ]
     },
     "metadata": {},
     "output_type": "display_data"
    },
    {
     "name": "stdout",
     "output_type": "stream",
     "text": [
      "======\n"
     ]
    },
    {
     "data": {
      "text/html": [
       "<pre style=\"white-space:pre;overflow-x:auto;line-height:normal;font-family:Menlo,'DejaVu Sans Mono',consolas,'Courier New',monospace\">Agent2: <span style=\"font-weight: bold\">[</span>對gpt4o評價<span style=\"font-weight: bold\">]</span>: <span style=\"color: #008080; text-decoration-color: #008080; font-weight: bold\">9</span>/<span style=\"color: #008080; text-decoration-color: #008080; font-weight: bold\">10</span>  \n",
       "<span style=\"font-weight: bold\">[</span>對BuildMate評價<span style=\"font-weight: bold\">]</span>: <span style=\"color: #008080; text-decoration-color: #008080; font-weight: bold\">3</span>/<span style=\"color: #008080; text-decoration-color: #008080; font-weight: bold\">10</span>  \n",
       "<span style=\"font-weight: bold\">[</span>簡短原因<span style=\"font-weight: bold\">]</span>:  \n",
       "gpt4o配置均衡，Ryzen <span style=\"color: #008080; text-decoration-color: #008080; font-weight: bold\">5</span> 5600X與GTX <span style=\"color: #008080; text-decoration-color: #008080; font-weight: bold\">1660</span> Super效能充足，適合多螢幕與運算需求，且價格低於預算。BuildMate \n",
       "CPU與GPU性能過時，電源與主機板過度高規，預算分配嚴重不合理。\n",
       "</pre>\n"
      ],
      "text/plain": [
       "Agent2: \u001b[1m[\u001b[0m對gpt4o評價\u001b[1m]\u001b[0m: \u001b[1;36m9\u001b[0m/\u001b[1;36m10\u001b[0m  \n",
       "\u001b[1m[\u001b[0m對BuildMate評價\u001b[1m]\u001b[0m: \u001b[1;36m3\u001b[0m/\u001b[1;36m10\u001b[0m  \n",
       "\u001b[1m[\u001b[0m簡短原因\u001b[1m]\u001b[0m:  \n",
       "gpt4o配置均衡，Ryzen \u001b[1;36m5\u001b[0m 5600X與GTX \u001b[1;36m1660\u001b[0m Super效能充足，適合多螢幕與運算需求，且價格低於預算。BuildMate \n",
       "CPU與GPU性能過時，電源與主機板過度高規，預算分配嚴重不合理。\n"
      ]
     },
     "metadata": {},
     "output_type": "display_data"
    },
    {
     "name": "stdout",
     "output_type": "stream",
     "text": [
      "======\n"
     ]
    },
    {
     "data": {
      "text/html": [
       "<pre style=\"white-space:pre;overflow-x:auto;line-height:normal;font-family:Menlo,'DejaVu Sans Mono',consolas,'Courier New',monospace\">Agent3: <span style=\"font-weight: bold\">[</span>對gpt4o評價<span style=\"font-weight: bold\">]</span>: <span style=\"color: #008080; text-decoration-color: #008080; font-weight: bold\">9</span>/<span style=\"color: #008080; text-decoration-color: #008080; font-weight: bold\">10</span>  \n",
       "<span style=\"font-weight: bold\">[</span>對BuildMate評價<span style=\"font-weight: bold\">]</span>: <span style=\"color: #008080; text-decoration-color: #008080; font-weight: bold\">3</span>/<span style=\"color: #008080; text-decoration-color: #008080; font-weight: bold\">10</span>  \n",
       "<span style=\"font-weight: bold\">[</span>簡短原因<span style=\"font-weight: bold\">]</span>:  \n",
       "gpt4o的CPU與GPU效能適合股市分析的大量運算與多螢幕需求，價格低於預算且配置均衡。BuildMate的CPU與GPU性能過時，電源與\n",
       "主機板過度高規，預算分配不合理，性價比低。\n",
       "</pre>\n"
      ],
      "text/plain": [
       "Agent3: \u001b[1m[\u001b[0m對gpt4o評價\u001b[1m]\u001b[0m: \u001b[1;36m9\u001b[0m/\u001b[1;36m10\u001b[0m  \n",
       "\u001b[1m[\u001b[0m對BuildMate評價\u001b[1m]\u001b[0m: \u001b[1;36m3\u001b[0m/\u001b[1;36m10\u001b[0m  \n",
       "\u001b[1m[\u001b[0m簡短原因\u001b[1m]\u001b[0m:  \n",
       "gpt4o的CPU與GPU效能適合股市分析的大量運算與多螢幕需求，價格低於預算且配置均衡。BuildMate的CPU與GPU性能過時，電源與\n",
       "主機板過度高規，預算分配不合理，性價比低。\n"
      ]
     },
     "metadata": {},
     "output_type": "display_data"
    },
    {
     "name": "stdout",
     "output_type": "stream",
     "text": [
      "======\n"
     ]
    },
    {
     "data": {
      "text/html": [
       "<pre style=\"white-space:pre;overflow-x:auto;line-height:normal;font-family:Menlo,'DejaVu Sans Mono',consolas,'Courier New',monospace\">Coordinator: 已達成共識，gpt4o較佳：效能均衡，適合股市分析的大量運算與多螢幕需求，且價格低於預算，性價比高。\n",
       "</pre>\n"
      ],
      "text/plain": [
       "Coordinator: 已達成共識，gpt4o較佳：效能均衡，適合股市分析的大量運算與多螢幕需求，且價格低於預算，性價比高。\n"
      ]
     },
     "metadata": {},
     "output_type": "display_data"
    },
    {
     "name": "stdout",
     "output_type": "stream",
     "text": [
      "======\n",
      "{'Coordinator': {'messages': [HumanMessage(content='Agent1: [對gpt4o評價]: 8/10  \\n[對BuildMate評價]: 5/10  \\n[簡短原因]:  \\ngpt4o的清單在CPU、GPU和儲存裝置上效能更均衡，適合多螢幕和運算需求，且散熱與電源品質足夠。BuildMate的配置不平衡，CPU與GPU效能偏低，且電源與主機板過度高規，性價比差。', additional_kwargs={}, response_metadata={}), HumanMessage(content='Agent2: [對gpt4o評價]: 9/10  \\n[對BuildMate評價]: 4/10  \\n[簡短原因]:  \\ngpt4o配置均衡，Ryzen 5 5600X與GTX 1660 Super提供強大運算與多螢幕效能，價格控制良好。BuildMate CPU與GPU性能過時，電源與主機板過度高規，預算分配不合理，CP值低。', additional_kwargs={}, response_metadata={}), HumanMessage(content='Agent3: [對gpt4o評價]: 9/10  \\n[對BuildMate評價]: 4/10  \\n[簡短原因]:  \\ngpt4o的清單在CPU、GPU和儲存空間上性能均衡，適合多螢幕和運算需求，且價格低於預算。BuildMate的CPU與GPU性能過時，電源與主機板過度高規，預算分配不合理。', additional_kwargs={}, response_metadata={}), HumanMessage(content='Coordinator: 已達成共識，gpt4o較佳：效能均衡，符合多螢幕與運算需求，且價格低於預算，性價比高。', additional_kwargs={}, response_metadata={}), HumanMessage(content='Agent1: [對gpt4o評價]: 9/10  \\n[對BuildMate評價]: 4/10  \\n[簡短原因]:  \\ngpt4o的CPU與GPU效能適合大量運算與多螢幕需求，儲存空間充足，散熱與電源穩定，性價比高。BuildMate的CPU與GPU性能過時，電源與主機板過度高規，整體效能不平衡且預算浪費。', additional_kwargs={}, response_metadata={}), HumanMessage(content='Agent2: [對gpt4o評價]: 9/10  \\n[對BuildMate評價]: 3/10  \\n[簡短原因]:  \\ngpt4o配置均衡，Ryzen 5 5600X與GTX 1660 Super效能充足，適合多螢幕與運算需求，且價格低於預算。BuildMate CPU與GPU性能過時，電源與主機板過度高規，預算分配嚴重不合理。', additional_kwargs={}, response_metadata={}), HumanMessage(content='Agent3: [對gpt4o評價]: 9/10  \\n[對BuildMate評價]: 3/10  \\n[簡短原因]:  \\ngpt4o的CPU與GPU效能適合股市分析的大量運算與多螢幕需求，價格低於預算且配置均衡。BuildMate的CPU與GPU性能過時，電源與主機板過度高規，預算分配不合理，性價比低。', additional_kwargs={}, response_metadata={}), HumanMessage(content='Coordinator: 已達成共識，gpt4o較佳：效能均衡，適合股市分析的大量運算與多螢幕需求，且價格低於預算，性價比高。', additional_kwargs={}, response_metadata={})], 'next_agent': '__end__', 'question_id': 9, 'question': '我需要一台適合股市分析的電腦，預算大概30000元，需要大量運算和多螢幕，有什麼好提議？', 'gpt4o_recommendation': 'CPU: AMD Ryzen 5 5600X | price: 5990\\nMotherboard: MSI B550-A PRO | price: 3990\\nMemory: Corsair Vengeance LPX 16GB (2x8GB) DDR4-3200 | price: 1800\\nGPU: NVIDIA GeForce GTX 1660 Super | price: 6500\\nSSD: Crucial P3 1TB NVMe SSD | price: 2200\\nPower Supply: Seasonic S12III 650W 80+ Bronze | price: 2500\\nCase: NZXT H510 | price: 1800\\nCase Fan: ARCTIC P12 PWM | price: 300\\n總價: 25080', 'buildmate_recommendation': 'CPU: Intel 第八代 i5-8400 | price: 4500\\nMotherboard: ASUS TUF Gaming B460M-Plus | price: 4500\\nMemory: Corsair Vengeance LPX 16GB (2 x 8GB) DDR4 3200MHz | price: 3000\\nGPU: NVIDIA GeForce GTX 1050 Ti | price: 800\\nSSD: Corsair RM750x 750W 電源供應器 | price: 5000\\nPower Supply: ASUS ROG Strix Z490-E Gaming | price: 8000\\nCase: Cooler Master MasterBox Q300L | price: 1500\\nCase Fan: Noctua NH-U12S Redux | price: 2500\\n總價: 29800', 'agent_scores': {'Agent1_round1': {'gpt4o_score': 8, 'buildmate_score': 5, 'reason': 'gpt4o的清單在CPU、GPU和儲存裝置上效能更均衡，適合多螢幕和運算需求，且散熱與電源品質足夠。BuildMate的配置不平衡，CPU與GPU效能偏低，且電源與主機板過度高規，性價比差。'}, 'Agent2_round1': {'gpt4o_score': 9, 'buildmate_score': 4, 'reason': 'gpt4o配置均衡，Ryzen 5 5600X與GTX 1660 Super提供強大運算與多螢幕效能，價格控制良好。BuildMate CPU與GPU性能過時，電源與主機板過度高規，預算分配不合理，CP值低。'}, 'Agent3_round1': {'gpt4o_score': 9, 'buildmate_score': 4, 'reason': 'gpt4o的清單在CPU、GPU和儲存空間上性能均衡，適合多螢幕和運算需求，且價格低於預算。BuildMate的CPU與GPU性能過時，電源與主機板過度高規，預算分配不合理。'}, 'Agent1_round2': {'gpt4o_score': 9, 'buildmate_score': 4, 'reason': 'gpt4o的CPU與GPU效能適合大量運算與多螢幕需求，儲存空間充足，散熱與電源穩定，性價比高。BuildMate的CPU與GPU性能過時，電源與主機板過度高規，整體效能不平衡且預算浪費。'}, 'Agent2_round2': {'gpt4o_score': 9, 'buildmate_score': 3, 'reason': 'gpt4o配置均衡，Ryzen 5 5600X與GTX 1660 Super效能充足，適合多螢幕與運算需求，且價格低於預算。BuildMate CPU與GPU性能過時，電源與主機板過度高規，預算分配嚴重不合理。'}, 'Agent3_round2': {'gpt4o_score': 9, 'buildmate_score': 3, 'reason': 'gpt4o的CPU與GPU效能適合股市分析的大量運算與多螢幕需求，價格低於預算且配置均衡。BuildMate的CPU與GPU性能過時，電源與主機板過度高規，預算分配不合理，性價比低。'}}, 'round_count': 2, 'max_rounds': 3, 'consensus_reached': True}}\n",
      "{\n",
      "  \"question_id\": 9,\n",
      "  \"question\": \"我需要一台適合股市分析的電腦，預算大概30000元，需要大量運算和多螢幕，有什麼好提議？\",\n",
      "  \"buildmate_recommendation\": \"CPU: Intel 第八代 i5-8400 | price: 4500\\nMotherboard: ASUS TUF Gaming B460M-Plus | price: 4500\\nMemory: Corsair Vengeance LPX 16GB (2 x 8GB) DDR4 3200MHz | price: 3000\\nGPU: NVIDIA GeForce GTX 1050 Ti | price: 800\\nSSD: Corsair RM750x 750W 電源供應器 | price: 5000\\nPower Supply: ASUS ROG Strix Z490-E Gaming | price: 8000\\nCase: Cooler Master MasterBox Q300L | price: 1500\\nCase Fan: Noctua NH-U12S Redux | price: 2500\\n總價: 29800\",\n",
      "  \"gpt4o_recommendation\": \"CPU: AMD Ryzen 5 5600X | price: 5990\\nMotherboard: MSI B550-A PRO | price: 3990\\nMemory: Corsair Vengeance LPX 16GB (2x8GB) DDR4-3200 | price: 1800\\nGPU: NVIDIA GeForce GTX 1660 Super | price: 6500\\nSSD: Crucial P3 1TB NVMe SSD | price: 2200\\nPower Supply: Seasonic S12III 650W 80+ Bronze | price: 2500\\nCase: NZXT H510 | price: 1800\\nCase Fan: ARCTIC P12 PWM | price: 300\\n總價: 25080\",\n",
      "  \"winner\": 0,\n",
      "  \"buildmate_avg_score\": 3.8333333333333335,\n",
      "  \"gpt4o_avg_score\": 8.833333333333334,\n",
      "  \"rounds\": [\n",
      "    {\n",
      "      \"round_number\": 1,\n",
      "      \"Agent1\": {\n",
      "        \"gpt4o_score\": 8,\n",
      "        \"buildmate_score\": 5,\n",
      "        \"reason\": \"gpt4o的清單在CPU、GPU和儲存裝置上效能更均衡，適合多螢幕和運算需求，且散熱與電源品質足夠。BuildMate的配置不平衡，CPU與GPU效能偏低，且電源與主機板過度高規，性價比差。\"\n",
      "      },\n",
      "      \"Agent2\": {\n",
      "        \"gpt4o_score\": 9,\n",
      "        \"buildmate_score\": 4,\n",
      "        \"reason\": \"gpt4o配置均衡，Ryzen 5 5600X與GTX 1660 Super提供強大運算與多螢幕效能，價格控制良好。BuildMate CPU與GPU性能過時，電源與主機板過度高規，預算分配不合理，CP值低。\"\n",
      "      },\n",
      "      \"Agent3\": {\n",
      "        \"gpt4o_score\": 9,\n",
      "        \"buildmate_score\": 4,\n",
      "        \"reason\": \"gpt4o的清單在CPU、GPU和儲存空間上性能均衡，適合多螢幕和運算需求，且價格低於預算。BuildMate的CPU與GPU性能過時，電源與主機板過度高規，預算分配不合理。\"\n",
      "      }\n",
      "    },\n",
      "    {\n",
      "      \"round_number\": 2,\n",
      "      \"Agent1\": {\n",
      "        \"gpt4o_score\": 9,\n",
      "        \"buildmate_score\": 4,\n",
      "        \"reason\": \"gpt4o的CPU與GPU效能適合大量運算與多螢幕需求，儲存空間充足，散熱與電源穩定，性價比高。BuildMate的CPU與GPU性能過時，電源與主機板過度高規，整體效能不平衡且預算浪費。\"\n",
      "      },\n",
      "      \"Agent2\": {\n",
      "        \"gpt4o_score\": 9,\n",
      "        \"buildmate_score\": 3,\n",
      "        \"reason\": \"gpt4o配置均衡，Ryzen 5 5600X與GTX 1660 Super效能充足，適合多螢幕與運算需求，且價格低於預算。BuildMate CPU與GPU性能過時，電源與主機板過度高規，預算分配嚴重不合理。\"\n",
      "      },\n",
      "      \"Agent3\": {\n",
      "        \"gpt4o_score\": 9,\n",
      "        \"buildmate_score\": 3,\n",
      "        \"reason\": \"gpt4o的CPU與GPU效能適合股市分析的大量運算與多螢幕需求，價格低於預算且配置均衡。BuildMate的CPU與GPU性能過時，電源與主機板過度高規，預算分配不合理，性價比低。\"\n",
      "      }\n",
      "    }\n",
      "  ]\n",
      "}\n"
     ]
    },
    {
     "data": {
      "text/html": [
       "<pre style=\"white-space:pre;overflow-x:auto;line-height:normal;font-family:Menlo,'DejaVu Sans Mono',consolas,'Courier New',monospace\"><span style=\"font-weight: bold\">{</span>\n",
       "    <span style=\"color: #008000; text-decoration-color: #008000\">'question_id'</span>: <span style=\"color: #008080; text-decoration-color: #008080; font-weight: bold\">10</span>,\n",
       "    <span style=\"color: #008000; text-decoration-color: #008000\">'question'</span>: <span style=\"color: #008000; text-decoration-color: #008000\">'想要組一台約65000元的電腦，主要用於VR遊戲和一般辦公，有沒有推薦配置？'</span>,\n",
       "    <span style=\"color: #008000; text-decoration-color: #008000\">'gpt4o_recommendation'</span>: <span style=\"color: #008000; text-decoration-color: #008000\">'CPU: AMD Ryzen 5 5600X | price: 5990\\nMotherboard: MSI B550M PRO-VDH WIFI | price: </span>\n",
       "<span style=\"color: #008000; text-decoration-color: #008000\">3490\\nMemory: Corsair Vengeance LPX 16GB (2x8GB) DDR4-3200 | price: 1800\\nGPU: AMD Radeon RX 6700 XT | price: </span>\n",
       "<span style=\"color: #008000; text-decoration-color: #008000\">13900\\nSSD: Western Digital Black SN750 1TB | price: 2200\\nPower Supply: Seasonic Focus GX-650, 80+ Gold | price: </span>\n",
       "<span style=\"color: #008000; text-decoration-color: #008000\">3200\\nCase: NZXT H510 | price: 2500\\nCase Fan: Noctua NF-P12 redux-1700 PWM | price: 300\\n總價: 33380'</span>,\n",
       "    <span style=\"color: #008000; text-decoration-color: #008000\">'buildmate_recommendation'</span>: <span style=\"color: #008000; text-decoration-color: #008000\">'CPU: AMD Ryzen 7 5800X | price: 12900\\nMotherboard: ASUS ROG Strix B550-F Gaming </span>\n",
       "<span style=\"color: #008000; text-decoration-color: #008000\">(Wi-Fi) | price: 8500\\nMemory: Corsair Vengeance LPX 16GB (2 x 8GB) DDR4 3200MHz | price: 3200\\nGPU: NVIDIA GeForce</span>\n",
       "<span style=\"color: #008000; text-decoration-color: #008000\">RTX 3060 | price: 15000\\nSSD: Corsair RM750x 750W 80 Plus Gold | price: 5000\\nPower Supply: Noctua NH-U12S Redux | </span>\n",
       "<span style=\"color: #008000; text-decoration-color: #008000\">price: 2800\\nCase: AMD Ryzen 7 5800X | price: 12900\\nCase Fan: Noctua NF-A12x25 PWM 120mm風扇 | price: 2000\\n總價: </span>\n",
       "<span style=\"color: #008000; text-decoration-color: #008000\">62300'</span>\n",
       "<span style=\"font-weight: bold\">}</span>\n",
       "</pre>\n"
      ],
      "text/plain": [
       "\u001b[1m{\u001b[0m\n",
       "    \u001b[32m'question_id'\u001b[0m: \u001b[1;36m10\u001b[0m,\n",
       "    \u001b[32m'question'\u001b[0m: \u001b[32m'想要組一台約65000元的電腦，主要用於VR遊戲和一般辦公，有沒有推薦配置？'\u001b[0m,\n",
       "    \u001b[32m'gpt4o_recommendation'\u001b[0m: \u001b[32m'CPU: AMD Ryzen 5 5600X | price: 5990\\nMotherboard: MSI B550M PRO-VDH WIFI | price: \u001b[0m\n",
       "\u001b[32m3490\\nMemory: Corsair Vengeance LPX 16GB \u001b[0m\u001b[32m(\u001b[0m\u001b[32m2x8GB\u001b[0m\u001b[32m)\u001b[0m\u001b[32m DDR4-3200 | price: 1800\\nGPU: AMD Radeon RX 6700 XT | price: \u001b[0m\n",
       "\u001b[32m13900\\nSSD: Western Digital Black SN750 1TB | price: 2200\\nPower Supply: Seasonic Focus GX-650, 80+ Gold | price: \u001b[0m\n",
       "\u001b[32m3200\\nCase: NZXT H510 | price: 2500\\nCase Fan: Noctua NF-P12 redux-1700 PWM | price: 300\\n總價: 33380'\u001b[0m,\n",
       "    \u001b[32m'buildmate_recommendation'\u001b[0m: \u001b[32m'CPU: AMD Ryzen 7 5800X | price: 12900\\nMotherboard: ASUS ROG Strix B550-F Gaming \u001b[0m\n",
       "\u001b[32m(\u001b[0m\u001b[32mWi-Fi\u001b[0m\u001b[32m)\u001b[0m\u001b[32m | price: 8500\\nMemory: Corsair Vengeance LPX 16GB \u001b[0m\u001b[32m(\u001b[0m\u001b[32m2 x 8GB\u001b[0m\u001b[32m)\u001b[0m\u001b[32m DDR4 3200MHz | price: 3200\\nGPU: NVIDIA GeForce\u001b[0m\n",
       "\u001b[32mRTX 3060 | price: 15000\\nSSD: Corsair RM750x 750W 80 Plus Gold | price: 5000\\nPower Supply: Noctua NH-U12S Redux | \u001b[0m\n",
       "\u001b[32mprice: 2800\\nCase: AMD Ryzen 7 5800X | price: 12900\\nCase Fan: Noctua NF-A12x25 PWM 120mm風扇 | price: 2000\\n總價: \u001b[0m\n",
       "\u001b[32m62300'\u001b[0m\n",
       "\u001b[1m}\u001b[0m\n"
      ]
     },
     "metadata": {},
     "output_type": "display_data"
    },
    {
     "data": {
      "text/html": [
       "<pre style=\"white-space:pre;overflow-x:auto;line-height:normal;font-family:Menlo,'DejaVu Sans Mono',consolas,'Courier New',monospace\">Agent1: <span style=\"font-weight: bold\">[</span>對gpt4o評價<span style=\"font-weight: bold\">]</span>: <span style=\"color: #008080; text-decoration-color: #008080; font-weight: bold\">8</span>  \n",
       "<span style=\"font-weight: bold\">[</span>對BuildMate評價<span style=\"font-weight: bold\">]</span>: <span style=\"color: #008080; text-decoration-color: #008080; font-weight: bold\">6</span>  \n",
       "\n",
       "<span style=\"font-weight: bold\">[</span>簡短原因<span style=\"font-weight: bold\">]</span>:  \n",
       "gpt4o在效能與穩定性上更平衡，RX <span style=\"color: #008080; text-decoration-color: #008080; font-weight: bold\">6700</span> XT效能優於RTX \n",
       "<span style=\"color: #008080; text-decoration-color: #008080; font-weight: bold\">3060</span>，且電源與散熱方案穩定；BuildMate的配置過於偏重CPU，GPU效能不足，且價格失衡。\n",
       "</pre>\n"
      ],
      "text/plain": [
       "Agent1: \u001b[1m[\u001b[0m對gpt4o評價\u001b[1m]\u001b[0m: \u001b[1;36m8\u001b[0m  \n",
       "\u001b[1m[\u001b[0m對BuildMate評價\u001b[1m]\u001b[0m: \u001b[1;36m6\u001b[0m  \n",
       "\n",
       "\u001b[1m[\u001b[0m簡短原因\u001b[1m]\u001b[0m:  \n",
       "gpt4o在效能與穩定性上更平衡，RX \u001b[1;36m6700\u001b[0m XT效能優於RTX \n",
       "\u001b[1;36m3060\u001b[0m，且電源與散熱方案穩定；BuildMate的配置過於偏重CPU，GPU效能不足，且價格失衡。\n"
      ]
     },
     "metadata": {},
     "output_type": "display_data"
    },
    {
     "name": "stdout",
     "output_type": "stream",
     "text": [
      "======\n"
     ]
    },
    {
     "data": {
      "text/html": [
       "<pre style=\"white-space:pre;overflow-x:auto;line-height:normal;font-family:Menlo,'DejaVu Sans Mono',consolas,'Courier New',monospace\">Agent2: <span style=\"font-weight: bold\">[</span>對gpt4o評價<span style=\"font-weight: bold\">]</span>: <span style=\"color: #008080; text-decoration-color: #008080; font-weight: bold\">9</span>  \n",
       "<span style=\"font-weight: bold\">[</span>對BuildMate評價<span style=\"font-weight: bold\">]</span>: <span style=\"color: #008080; text-decoration-color: #008080; font-weight: bold\">6</span>  \n",
       "\n",
       "<span style=\"font-weight: bold\">[</span>簡短原因<span style=\"font-weight: bold\">]</span>:  \n",
       "gpt4o配置平衡，RX <span style=\"color: #008080; text-decoration-color: #008080; font-weight: bold\">6700</span> \n",
       "XT效能適合VR遊戲，且價格合理；BuildMate過度投資於CPU與主機板，GPU效能不足，對VR遊戲不夠理想，預算分配不均。\n",
       "</pre>\n"
      ],
      "text/plain": [
       "Agent2: \u001b[1m[\u001b[0m對gpt4o評價\u001b[1m]\u001b[0m: \u001b[1;36m9\u001b[0m  \n",
       "\u001b[1m[\u001b[0m對BuildMate評價\u001b[1m]\u001b[0m: \u001b[1;36m6\u001b[0m  \n",
       "\n",
       "\u001b[1m[\u001b[0m簡短原因\u001b[1m]\u001b[0m:  \n",
       "gpt4o配置平衡，RX \u001b[1;36m6700\u001b[0m \n",
       "XT效能適合VR遊戲，且價格合理；BuildMate過度投資於CPU與主機板，GPU效能不足，對VR遊戲不夠理想，預算分配不均。\n"
      ]
     },
     "metadata": {},
     "output_type": "display_data"
    },
    {
     "name": "stdout",
     "output_type": "stream",
     "text": [
      "======\n"
     ]
    },
    {
     "data": {
      "text/html": [
       "<pre style=\"white-space:pre;overflow-x:auto;line-height:normal;font-family:Menlo,'DejaVu Sans Mono',consolas,'Courier New',monospace\">Agent3: <span style=\"font-weight: bold\">[</span>對gpt4o評價<span style=\"font-weight: bold\">]</span>: <span style=\"color: #008080; text-decoration-color: #008080; font-weight: bold\">9</span>  \n",
       "<span style=\"font-weight: bold\">[</span>對BuildMate評價<span style=\"font-weight: bold\">]</span>: <span style=\"color: #008080; text-decoration-color: #008080; font-weight: bold\">6</span>  \n",
       "\n",
       "<span style=\"font-weight: bold\">[</span>簡短原因<span style=\"font-weight: bold\">]</span>:  \n",
       "gpt4o配置平衡，RX <span style=\"color: #008080; text-decoration-color: #008080; font-weight: bold\">6700</span> \n",
       "XT效能適合VR遊戲，且價格遠低於預算，具升級空間；BuildMate過度投資於CPU與主機板，GPU效能不足，對VR遊戲不夠理想，預算\n",
       "分配不均。\n",
       "</pre>\n"
      ],
      "text/plain": [
       "Agent3: \u001b[1m[\u001b[0m對gpt4o評價\u001b[1m]\u001b[0m: \u001b[1;36m9\u001b[0m  \n",
       "\u001b[1m[\u001b[0m對BuildMate評價\u001b[1m]\u001b[0m: \u001b[1;36m6\u001b[0m  \n",
       "\n",
       "\u001b[1m[\u001b[0m簡短原因\u001b[1m]\u001b[0m:  \n",
       "gpt4o配置平衡，RX \u001b[1;36m6700\u001b[0m \n",
       "XT效能適合VR遊戲，且價格遠低於預算，具升級空間；BuildMate過度投資於CPU與主機板，GPU效能不足，對VR遊戲不夠理想，預算\n",
       "分配不均。\n"
      ]
     },
     "metadata": {},
     "output_type": "display_data"
    },
    {
     "name": "stdout",
     "output_type": "stream",
     "text": [
      "======\n"
     ]
    },
    {
     "data": {
      "text/html": [
       "<pre style=\"white-space:pre;overflow-x:auto;line-height:normal;font-family:Menlo,'DejaVu Sans Mono',consolas,'Courier New',monospace\">Coordinator: 已達成共識，gpt4o較佳：效能與穩定性平衡，GPU適合VR遊戲，價格更具CP值，且符合需求。\n",
       "</pre>\n"
      ],
      "text/plain": [
       "Coordinator: 已達成共識，gpt4o較佳：效能與穩定性平衡，GPU適合VR遊戲，價格更具CP值，且符合需求。\n"
      ]
     },
     "metadata": {},
     "output_type": "display_data"
    },
    {
     "name": "stdout",
     "output_type": "stream",
     "text": [
      "======\n"
     ]
    },
    {
     "data": {
      "text/html": [
       "<pre style=\"white-space:pre;overflow-x:auto;line-height:normal;font-family:Menlo,'DejaVu Sans Mono',consolas,'Courier New',monospace\">Agent1: <span style=\"font-weight: bold\">[</span>對gpt4o評價<span style=\"font-weight: bold\">]</span>: <span style=\"color: #008080; text-decoration-color: #008080; font-weight: bold\">9</span>  \n",
       "<span style=\"font-weight: bold\">[</span>對BuildMate評價<span style=\"font-weight: bold\">]</span>: <span style=\"color: #008080; text-decoration-color: #008080; font-weight: bold\">7</span>  \n",
       "\n",
       "<span style=\"font-weight: bold\">[</span>簡短原因<span style=\"font-weight: bold\">]</span>:  \n",
       "gpt4o配置平衡，RX <span style=\"color: #008080; text-decoration-color: #008080; font-weight: bold\">6700</span> \n",
       "XT效能更適合VR遊戲，且價格低於預算，散熱與電源穩定；BuildMate過度投資於CPU與主機板，GPU效能不足，整體效能不均衡。\n",
       "</pre>\n"
      ],
      "text/plain": [
       "Agent1: \u001b[1m[\u001b[0m對gpt4o評價\u001b[1m]\u001b[0m: \u001b[1;36m9\u001b[0m  \n",
       "\u001b[1m[\u001b[0m對BuildMate評價\u001b[1m]\u001b[0m: \u001b[1;36m7\u001b[0m  \n",
       "\n",
       "\u001b[1m[\u001b[0m簡短原因\u001b[1m]\u001b[0m:  \n",
       "gpt4o配置平衡，RX \u001b[1;36m6700\u001b[0m \n",
       "XT效能更適合VR遊戲，且價格低於預算，散熱與電源穩定；BuildMate過度投資於CPU與主機板，GPU效能不足，整體效能不均衡。\n"
      ]
     },
     "metadata": {},
     "output_type": "display_data"
    },
    {
     "name": "stdout",
     "output_type": "stream",
     "text": [
      "======\n"
     ]
    },
    {
     "data": {
      "text/html": [
       "<pre style=\"white-space:pre;overflow-x:auto;line-height:normal;font-family:Menlo,'DejaVu Sans Mono',consolas,'Courier New',monospace\">Agent2: <span style=\"font-weight: bold\">[</span>對gpt4o評價<span style=\"font-weight: bold\">]</span>: <span style=\"color: #008080; text-decoration-color: #008080; font-weight: bold\">9</span>  \n",
       "<span style=\"font-weight: bold\">[</span>對BuildMate評價<span style=\"font-weight: bold\">]</span>: <span style=\"color: #008080; text-decoration-color: #008080; font-weight: bold\">6</span>  \n",
       "\n",
       "<span style=\"font-weight: bold\">[</span>簡短原因<span style=\"font-weight: bold\">]</span>:  \n",
       "gpt4o配置平衡，RX <span style=\"color: #008080; text-decoration-color: #008080; font-weight: bold\">6700</span> XT效能強於RTX \n",
       "<span style=\"color: #008080; text-decoration-color: #008080; font-weight: bold\">3060</span>，適合VR遊戲，且價格遠低於預算；BuildMate過度投資於CPU與主機板，GPU效能不足，預算分配不合理。\n",
       "</pre>\n"
      ],
      "text/plain": [
       "Agent2: \u001b[1m[\u001b[0m對gpt4o評價\u001b[1m]\u001b[0m: \u001b[1;36m9\u001b[0m  \n",
       "\u001b[1m[\u001b[0m對BuildMate評價\u001b[1m]\u001b[0m: \u001b[1;36m6\u001b[0m  \n",
       "\n",
       "\u001b[1m[\u001b[0m簡短原因\u001b[1m]\u001b[0m:  \n",
       "gpt4o配置平衡，RX \u001b[1;36m6700\u001b[0m XT效能強於RTX \n",
       "\u001b[1;36m3060\u001b[0m，適合VR遊戲，且價格遠低於預算；BuildMate過度投資於CPU與主機板，GPU效能不足，預算分配不合理。\n"
      ]
     },
     "metadata": {},
     "output_type": "display_data"
    },
    {
     "name": "stdout",
     "output_type": "stream",
     "text": [
      "======\n"
     ]
    },
    {
     "data": {
      "text/html": [
       "<pre style=\"white-space:pre;overflow-x:auto;line-height:normal;font-family:Menlo,'DejaVu Sans Mono',consolas,'Courier New',monospace\">Agent3: <span style=\"font-weight: bold\">[</span>對gpt4o評價<span style=\"font-weight: bold\">]</span>: <span style=\"color: #008080; text-decoration-color: #008080; font-weight: bold\">9</span>  \n",
       "<span style=\"font-weight: bold\">[</span>對BuildMate評價<span style=\"font-weight: bold\">]</span>: <span style=\"color: #008080; text-decoration-color: #008080; font-weight: bold\">6</span>  \n",
       "\n",
       "<span style=\"font-weight: bold\">[</span>簡短原因<span style=\"font-weight: bold\">]</span>:  \n",
       "gpt4o配置平衡，RX <span style=\"color: #008080; text-decoration-color: #008080; font-weight: bold\">6700</span> \n",
       "XT效能適合VR遊戲，價格僅用了一半預算，具升級空間；BuildMate過度投資於CPU與主機板，GPU效能不足，對VR遊戲不理想，預算\n",
       "分配不均。\n",
       "</pre>\n"
      ],
      "text/plain": [
       "Agent3: \u001b[1m[\u001b[0m對gpt4o評價\u001b[1m]\u001b[0m: \u001b[1;36m9\u001b[0m  \n",
       "\u001b[1m[\u001b[0m對BuildMate評價\u001b[1m]\u001b[0m: \u001b[1;36m6\u001b[0m  \n",
       "\n",
       "\u001b[1m[\u001b[0m簡短原因\u001b[1m]\u001b[0m:  \n",
       "gpt4o配置平衡，RX \u001b[1;36m6700\u001b[0m \n",
       "XT效能適合VR遊戲，價格僅用了一半預算，具升級空間；BuildMate過度投資於CPU與主機板，GPU效能不足，對VR遊戲不理想，預算\n",
       "分配不均。\n"
      ]
     },
     "metadata": {},
     "output_type": "display_data"
    },
    {
     "name": "stdout",
     "output_type": "stream",
     "text": [
      "======\n"
     ]
    },
    {
     "data": {
      "text/html": [
       "<pre style=\"white-space:pre;overflow-x:auto;line-height:normal;font-family:Menlo,'DejaVu Sans Mono',consolas,'Courier New',monospace\">Coordinator: 已達成共識，gpt4o較佳：效能與穩定性平衡，GPU適合VR遊戲，價格僅用一半預算，具升級空間，CP值更高。\n",
       "</pre>\n"
      ],
      "text/plain": [
       "Coordinator: 已達成共識，gpt4o較佳：效能與穩定性平衡，GPU適合VR遊戲，價格僅用一半預算，具升級空間，CP值更高。\n"
      ]
     },
     "metadata": {},
     "output_type": "display_data"
    },
    {
     "name": "stdout",
     "output_type": "stream",
     "text": [
      "======\n",
      "{'Coordinator': {'messages': [HumanMessage(content='Agent1: [對gpt4o評價]: 8  \\n[對BuildMate評價]: 6  \\n\\n[簡短原因]:  \\ngpt4o在效能與穩定性上更平衡，RX 6700 XT效能優於RTX 3060，且電源與散熱方案穩定；BuildMate的配置過於偏重CPU，GPU效能不足，且價格失衡。', additional_kwargs={}, response_metadata={}), HumanMessage(content='Agent2: [對gpt4o評價]: 9  \\n[對BuildMate評價]: 6  \\n\\n[簡短原因]:  \\ngpt4o配置平衡，RX 6700 XT效能適合VR遊戲，且價格合理；BuildMate過度投資於CPU與主機板，GPU效能不足，對VR遊戲不夠理想，預算分配不均。', additional_kwargs={}, response_metadata={}), HumanMessage(content='Agent3: [對gpt4o評價]: 9  \\n[對BuildMate評價]: 6  \\n\\n[簡短原因]:  \\ngpt4o配置平衡，RX 6700 XT效能適合VR遊戲，且價格遠低於預算，具升級空間；BuildMate過度投資於CPU與主機板，GPU效能不足，對VR遊戲不夠理想，預算分配不均。', additional_kwargs={}, response_metadata={}), HumanMessage(content='Coordinator: 已達成共識，gpt4o較佳：效能與穩定性平衡，GPU適合VR遊戲，價格更具CP值，且符合需求。', additional_kwargs={}, response_metadata={}), HumanMessage(content='Agent1: [對gpt4o評價]: 9  \\n[對BuildMate評價]: 7  \\n\\n[簡短原因]:  \\ngpt4o配置平衡，RX 6700 XT效能更適合VR遊戲，且價格低於預算，散熱與電源穩定；BuildMate過度投資於CPU與主機板，GPU效能不足，整體效能不均衡。', additional_kwargs={}, response_metadata={}), HumanMessage(content='Agent2: [對gpt4o評價]: 9  \\n[對BuildMate評價]: 6  \\n\\n[簡短原因]:  \\ngpt4o配置平衡，RX 6700 XT效能強於RTX 3060，適合VR遊戲，且價格遠低於預算；BuildMate過度投資於CPU與主機板，GPU效能不足，預算分配不合理。', additional_kwargs={}, response_metadata={}), HumanMessage(content='Agent3: [對gpt4o評價]: 9  \\n[對BuildMate評價]: 6  \\n\\n[簡短原因]:  \\ngpt4o配置平衡，RX 6700 XT效能適合VR遊戲，價格僅用了一半預算，具升級空間；BuildMate過度投資於CPU與主機板，GPU效能不足，對VR遊戲不理想，預算分配不均。', additional_kwargs={}, response_metadata={}), HumanMessage(content='Coordinator: 已達成共識，gpt4o較佳：效能與穩定性平衡，GPU適合VR遊戲，價格僅用一半預算，具升級空間，CP值更高。', additional_kwargs={}, response_metadata={})], 'next_agent': '__end__', 'question_id': 10, 'question': '想要組一台約65000元的電腦，主要用於VR遊戲和一般辦公，有沒有推薦配置？', 'gpt4o_recommendation': 'CPU: AMD Ryzen 5 5600X | price: 5990\\nMotherboard: MSI B550M PRO-VDH WIFI | price: 3490\\nMemory: Corsair Vengeance LPX 16GB (2x8GB) DDR4-3200 | price: 1800\\nGPU: AMD Radeon RX 6700 XT | price: 13900\\nSSD: Western Digital Black SN750 1TB | price: 2200\\nPower Supply: Seasonic Focus GX-650, 80+ Gold | price: 3200\\nCase: NZXT H510 | price: 2500\\nCase Fan: Noctua NF-P12 redux-1700 PWM | price: 300\\n總價: 33380', 'buildmate_recommendation': 'CPU: AMD Ryzen 7 5800X | price: 12900\\nMotherboard: ASUS ROG Strix B550-F Gaming (Wi-Fi) | price: 8500\\nMemory: Corsair Vengeance LPX 16GB (2 x 8GB) DDR4 3200MHz | price: 3200\\nGPU: NVIDIA GeForce RTX 3060 | price: 15000\\nSSD: Corsair RM750x 750W 80 Plus Gold | price: 5000\\nPower Supply: Noctua NH-U12S Redux | price: 2800\\nCase: AMD Ryzen 7 5800X | price: 12900\\nCase Fan: Noctua NF-A12x25 PWM 120mm風扇 | price: 2000\\n總價: 62300', 'agent_scores': {'Agent1_round1': {'gpt4o_score': 8, 'buildmate_score': 6, 'reason': 'gpt4o在效能與穩定性上更平衡，RX 6700 XT效能優於RTX 3060，且電源與散熱方案穩定；BuildMate的配置過於偏重CPU，GPU效能不足，且價格失衡。'}, 'Agent2_round1': {'gpt4o_score': 9, 'buildmate_score': 6, 'reason': 'gpt4o配置平衡，RX 6700 XT效能適合VR遊戲，且價格合理；BuildMate過度投資於CPU與主機板，GPU效能不足，對VR遊戲不夠理想，預算分配不均。'}, 'Agent3_round1': {'gpt4o_score': 9, 'buildmate_score': 6, 'reason': 'gpt4o配置平衡，RX 6700 XT效能適合VR遊戲，且價格遠低於預算，具升級空間；BuildMate過度投資於CPU與主機板，GPU效能不足，對VR遊戲不夠理想，預算分配不均。'}, 'Agent1_round2': {'gpt4o_score': 9, 'buildmate_score': 7, 'reason': 'gpt4o配置平衡，RX 6700 XT效能更適合VR遊戲，且價格低於預算，散熱與電源穩定；BuildMate過度投資於CPU與主機板，GPU效能不足，整體效能不均衡。'}, 'Agent2_round2': {'gpt4o_score': 9, 'buildmate_score': 6, 'reason': 'gpt4o配置平衡，RX 6700 XT效能強於RTX 3060，適合VR遊戲，且價格遠低於預算；BuildMate過度投資於CPU與主機板，GPU效能不足，預算分配不合理。'}, 'Agent3_round2': {'gpt4o_score': 9, 'buildmate_score': 6, 'reason': 'gpt4o配置平衡，RX 6700 XT效能適合VR遊戲，價格僅用了一半預算，具升級空間；BuildMate過度投資於CPU與主機板，GPU效能不足，對VR遊戲不理想，預算分配不均。'}}, 'round_count': 2, 'max_rounds': 3, 'consensus_reached': True}}\n",
      "{\n",
      "  \"question_id\": 10,\n",
      "  \"question\": \"想要組一台約65000元的電腦，主要用於VR遊戲和一般辦公，有沒有推薦配置？\",\n",
      "  \"buildmate_recommendation\": \"CPU: AMD Ryzen 7 5800X | price: 12900\\nMotherboard: ASUS ROG Strix B550-F Gaming (Wi-Fi) | price: 8500\\nMemory: Corsair Vengeance LPX 16GB (2 x 8GB) DDR4 3200MHz | price: 3200\\nGPU: NVIDIA GeForce RTX 3060 | price: 15000\\nSSD: Corsair RM750x 750W 80 Plus Gold | price: 5000\\nPower Supply: Noctua NH-U12S Redux | price: 2800\\nCase: AMD Ryzen 7 5800X | price: 12900\\nCase Fan: Noctua NF-A12x25 PWM 120mm風扇 | price: 2000\\n總價: 62300\",\n",
      "  \"gpt4o_recommendation\": \"CPU: AMD Ryzen 5 5600X | price: 5990\\nMotherboard: MSI B550M PRO-VDH WIFI | price: 3490\\nMemory: Corsair Vengeance LPX 16GB (2x8GB) DDR4-3200 | price: 1800\\nGPU: AMD Radeon RX 6700 XT | price: 13900\\nSSD: Western Digital Black SN750 1TB | price: 2200\\nPower Supply: Seasonic Focus GX-650, 80+ Gold | price: 3200\\nCase: NZXT H510 | price: 2500\\nCase Fan: Noctua NF-P12 redux-1700 PWM | price: 300\\n總價: 33380\",\n",
      "  \"winner\": 0,\n",
      "  \"buildmate_avg_score\": 6.166666666666667,\n",
      "  \"gpt4o_avg_score\": 8.833333333333334,\n",
      "  \"rounds\": [\n",
      "    {\n",
      "      \"round_number\": 1,\n",
      "      \"Agent1\": {\n",
      "        \"gpt4o_score\": 8,\n",
      "        \"buildmate_score\": 6,\n",
      "        \"reason\": \"gpt4o在效能與穩定性上更平衡，RX 6700 XT效能優於RTX 3060，且電源與散熱方案穩定；BuildMate的配置過於偏重CPU，GPU效能不足，且價格失衡。\"\n",
      "      },\n",
      "      \"Agent2\": {\n",
      "        \"gpt4o_score\": 9,\n",
      "        \"buildmate_score\": 6,\n",
      "        \"reason\": \"gpt4o配置平衡，RX 6700 XT效能適合VR遊戲，且價格合理；BuildMate過度投資於CPU與主機板，GPU效能不足，對VR遊戲不夠理想，預算分配不均。\"\n",
      "      },\n",
      "      \"Agent3\": {\n",
      "        \"gpt4o_score\": 9,\n",
      "        \"buildmate_score\": 6,\n",
      "        \"reason\": \"gpt4o配置平衡，RX 6700 XT效能適合VR遊戲，且價格遠低於預算，具升級空間；BuildMate過度投資於CPU與主機板，GPU效能不足，對VR遊戲不夠理想，預算分配不均。\"\n",
      "      }\n",
      "    },\n",
      "    {\n",
      "      \"round_number\": 2,\n",
      "      \"Agent1\": {\n",
      "        \"gpt4o_score\": 9,\n",
      "        \"buildmate_score\": 7,\n",
      "        \"reason\": \"gpt4o配置平衡，RX 6700 XT效能更適合VR遊戲，且價格低於預算，散熱與電源穩定；BuildMate過度投資於CPU與主機板，GPU效能不足，整體效能不均衡。\"\n",
      "      },\n",
      "      \"Agent2\": {\n",
      "        \"gpt4o_score\": 9,\n",
      "        \"buildmate_score\": 6,\n",
      "        \"reason\": \"gpt4o配置平衡，RX 6700 XT效能強於RTX 3060，適合VR遊戲，且價格遠低於預算；BuildMate過度投資於CPU與主機板，GPU效能不足，預算分配不合理。\"\n",
      "      },\n",
      "      \"Agent3\": {\n",
      "        \"gpt4o_score\": 9,\n",
      "        \"buildmate_score\": 6,\n",
      "        \"reason\": \"gpt4o配置平衡，RX 6700 XT效能適合VR遊戲，價格僅用了一半預算，具升級空間；BuildMate過度投資於CPU與主機板，GPU效能不足，對VR遊戲不理想，預算分配不均。\"\n",
      "      }\n",
      "    }\n",
      "  ]\n",
      "}\n"
     ]
    }
   ],
   "source": [
    "from typing import Dict, List, TypedDict\n",
    "from langgraph.graph import StateGraph, END, START\n",
    "from typing import Annotated, Sequence\n",
    "from langchain_core.messages import BaseMessage, HumanMessage, SystemMessage\n",
    "import json\n",
    "from langchain_openai import ChatOpenAI\n",
    "from typing import Optional\n",
    "import re\n",
    "import rich\n",
    "def convert_messages_to_serializable(obj):\n",
    "    if isinstance(obj, dict):\n",
    "        # 遞迴處理字典\n",
    "        return {k: convert_messages_to_serializable(v) for k, v in obj.items()}\n",
    "    elif isinstance(obj, list):\n",
    "        # 遞迴處理列表\n",
    "        return [convert_messages_to_serializable(v) for v in obj]\n",
    "    elif isinstance(obj, HumanMessage) or isinstance(obj, SystemMessage):\n",
    "        # 將 Message 物件轉成字典格式\n",
    "        # ontent 前面有 \"Speaker: 內容\" 格式，可以分離\n",
    "        parts = obj.content.split(\":\", 1)\n",
    "        if len(parts) == 2:\n",
    "            speaker = parts[0].strip()\n",
    "            message = parts[1].strip()\n",
    "        else:\n",
    "            speaker = \"unknown\"\n",
    "            message = obj.content\n",
    "        \n",
    "        return {\n",
    "            \"speaker\": speaker,\n",
    "            \"message\": message\n",
    "        }\n",
    "    else:\n",
    "        # 對於非字典/列表/Message物件\n",
    "        return obj\n",
    "\n",
    "class EvaluationState(TypedDict):\n",
    "    messages: Annotated[Sequence[BaseMessage], \"聊天歷史\"]\n",
    "    next_agent: str\n",
    "    question_id: int\n",
    "    question: str\n",
    "    gpt4o_recommendation: str\n",
    "    buildmate_recommendation: str\n",
    "    agent_scores: Dict[str, Dict[str, int]]\n",
    "    round_count: int     # 用於紀錄第幾輪\n",
    "    max_rounds: int       # 最大回合數\n",
    "    consensus_reached: bool  # 是否已達成共識\n",
    "\n",
    "def create_agent(name: str, llm):\n",
    "    # new \n",
    "    system_prompts = {\n",
    "    \"Agent1\": \"\"\"你是電腦硬體顧問，專精於「效能」與「系統穩定」層面。\n",
    "請從處理器、顯示卡、記憶體、儲存裝置的整體效能，以及散熱方案、電源品質、系統組裝平衡度，來比較兩個推薦清單的效能與穩定度。\n",
    "\n",
    "請提供：\n",
    "[對gpt4o評價]: (0~10)\n",
    "[對BuildMate評價]: (0~10)\n",
    "[簡短原因]: (以專業觀點精簡描述)\n",
    "\n",
    "注意事項：\n",
    "1. 原因的說明請限制在50個字以內。\n",
    "\"\"\",\n",
    "\n",
    "    \"Agent2\": \"\"\"你是電腦硬體顧問，專精於「價格/效能比」(CP值)。\n",
    "請根據兩個推薦清單中各零件的價位與提供效能是否相稱、預算是否用在刀口上，評估CP值高低。\n",
    "\n",
    "請提供：\n",
    "[對gpt4o評價]: (0~10)\n",
    "[對BuildMate評價]: (0~10)\n",
    "[簡短原因]: (以專業觀點精簡描述)\n",
    "\n",
    "注意事項：\n",
    "1. 原因的說明請限制在50個字以內。\n",
    "\"\"\",\n",
    "\n",
    "    \"Agent3\": \"\"\"你是電腦硬體顧問，專精於「需求符合度」。\n",
    "1.請根據使用者的需求場景（例如遊戲、剪輯、多工、深度學習、家庭多媒體等），判斷各推薦清單是否選用合適的CPU/GPU、記憶體容量、儲存空間及其他週邊，並評估清單是否過度或不足。\n",
    "2.請評估使用者的總預算與清單總價是否接近，在使用者預算合理下，應該要充分運用預算。\n",
    "3.請評估清單是否與使用者的需求相符，例如零組件外觀，主機大小，保固等各式需求。\n",
    "4.請評估使用者的特殊考量事項是否被滿足，例如：省電。\n",
    "\n",
    "請提供：\n",
    "[對gpt4o評價]: (0~10)\n",
    "[對BuildMate評價]: (0~10)\n",
    "[簡短原因]: (以專業觀點精簡描述)\n",
    "\n",
    "注意事項：\n",
    "1. 原因的說明請限制在50個字以內。\n",
    "\"\"\",\n",
    "\n",
    "    \"Coordinator\": \"\"\"你是最終協調者，已獲得3位專家針對效能與穩定、CP值、需求符合度的評分。\n",
    "如果尚未達成共識，請只簡短回應「未達共識」。\n",
    "如果已達共識，請回應「已達成共識」並指出哪一方較佳(不超過50字)。\"\"\"\n",
    "}\n",
    "\n",
    "\n",
    "    def agent_function(state: EvaluationState):\n",
    "        messages = list(state[\"messages\"])\n",
    "        question = state[\"question\"]\n",
    "        gpt4o_recom = state[\"gpt4o_recommendation\"]\n",
    "        buildmate_recom = state[\"buildmate_recommendation\"]\n",
    "\n",
    "        system_msg = SystemMessage(content=system_prompts[name])\n",
    "        user_prompt = f\"\"\"(第{state['round_count']}輪)\n",
    "問題: {question}\n",
    "\n",
    "--- gpt4o的組裝清單 ---\n",
    "{gpt4o_recom}\n",
    "\n",
    "--- BuildMate的組裝清單 ---\n",
    "{buildmate_recom}\n",
    "\"\"\"\n",
    "\n",
    "        conversation = [system_msg]\n",
    "        conversation.extend(messages)\n",
    "        conversation.append(HumanMessage(content=user_prompt))\n",
    "\n",
    "        llm_response = llm.invoke(conversation)\n",
    "        content_with_speaker = f\"{name}: {llm_response.content}\"\n",
    "        rich.print( content_with_speaker)\n",
    "        if name in (\"Agent1\",\"Agent2\",\"Agent3\"):\n",
    "            gpt4o_match = re.search(r\"\\[對gpt4o評價\\]:\\s*(\\d+)\", llm_response.content)\n",
    "            bm_match = re.search(r\"\\[對BuildMate評價\\]:\\s*(\\d+)\", llm_response.content)\n",
    "            pattern = r\"\\[簡短原因\\]:\\s*(.+)\"\n",
    "            reason_match = re.search(pattern, llm_response.content)\n",
    "            reason = reason_match.group(1)\n",
    "\n",
    "            if gpt4o_match and bm_match:\n",
    "                gpt4o_score = int(gpt4o_match.group(1))\n",
    "                bm_score = int(bm_match.group(1))\n",
    "                # 將分數存入\n",
    "                state[\"agent_scores\"][f\"{name}_round{state['round_count']}\"] = {\n",
    "                    \"gpt4o_score\": gpt4o_score,\n",
    "                    \"buildmate_score\": bm_score,\n",
    "                    \"reason\": reason\n",
    "                }\n",
    "                #print (f'gpt score: {gpt4o_score}, buildmate score: {bm_score}')\n",
    "\n",
    "        if name == \"Coordinator\":\n",
    "            # 假設協調者若尚未達成共識則回應「未達共識」四字，如果達成共識就「已達成共識」\n",
    "            if \"已達成共識\" in llm_response.content:\n",
    "                state[\"consensus_reached\"] = True\n",
    "            else:\n",
    "                state[\"consensus_reached\"] = False\n",
    "\n",
    "        new_message = HumanMessage(content=content_with_speaker)\n",
    "\n",
    "        return {\n",
    "            \"messages\": [*messages, new_message],\n",
    "            \"next_agent\": decide_next_speaker(name, state),\n",
    "            \"question_id\": state[\"question_id\"],\n",
    "            \"question\": state[\"question\"],\n",
    "            \"gpt4o_recommendation\": state[\"gpt4o_recommendation\"],\n",
    "            \"buildmate_recommendation\": state[\"buildmate_recommendation\"],\n",
    "            \"agent_scores\": state[\"agent_scores\"],\n",
    "            \"round_count\": state[\"round_count\"],\n",
    "            \"max_rounds\": state[\"max_rounds\"],\n",
    "            \"consensus_reached\": state[\"consensus_reached\"]\n",
    "        }\n",
    "    return agent_function\n",
    "\n",
    "\n",
    "def decide_next_speaker(current_speaker: str, state: EvaluationState) -> str:\n",
    "    if current_speaker == \"Agent1\":\n",
    "        return \"Agent2\"\n",
    "    elif current_speaker == \"Agent2\":\n",
    "        return \"Agent3\"\n",
    "    elif current_speaker == \"Agent3\":\n",
    "        return \"Coordinator\"\n",
    "    elif current_speaker == \"Coordinator\":\n",
    "        # 即使已達共識，但如果 round_count < 2，仍然強制進入下一輪\n",
    "        if state[\"round_count\"] < 2:\n",
    "            # 即使協調者表示「已達成共識」，也不要結束\n",
    "            state[\"round_count\"] += 1\n",
    "            state[\"consensus_reached\"] = False  # 忽略本輪的共識結果，強制再跑一輪\n",
    "            return \"Agent1\"\n",
    "        else:\n",
    "            # 現在已經執行到第二輪或更多\n",
    "            # 這裡才根據共識及最大回合數決定是否結束\n",
    "            if state[\"consensus_reached\"] or state[\"round_count\"] >= state[\"max_rounds\"]:\n",
    "                return END\n",
    "            else:\n",
    "                state[\"round_count\"] += 1\n",
    "                return \"Agent1\"\n",
    "    else:\n",
    "        return END\n",
    "\n",
    "def create_workflow(llm):\n",
    "    workflow = StateGraph(EvaluationState)\n",
    "    workflow.add_node(\"Agent1\", create_agent(\"Agent1\", llm))\n",
    "    workflow.add_node(\"Agent2\", create_agent(\"Agent2\", llm))\n",
    "    workflow.add_node(\"Agent3\", create_agent(\"Agent3\", llm))\n",
    "    workflow.add_node(\"Coordinator\", create_agent(\"Coordinator\", llm))\n",
    "\n",
    "    def router(state: EvaluationState) -> str:\n",
    "        return state[\"next_agent\"]\n",
    "\n",
    "    workflow.add_conditional_edges(\"Agent1\", router, {\"Agent2\": \"Agent2\", END: END})\n",
    "    workflow.add_conditional_edges(\"Agent2\", router, {\"Agent3\": \"Agent3\", END: END})\n",
    "    workflow.add_conditional_edges(\"Agent3\", router, {\"Coordinator\": \"Coordinator\", END: END})\n",
    "    workflow.add_conditional_edges(\"Coordinator\", router, {\"Agent1\": \"Agent1\", END: END})\n",
    "\n",
    "    workflow.add_edge(START, \"Agent1\")\n",
    "\n",
    "    return workflow.compile()\n",
    "\n",
    "\n",
    "\n",
    "recommendation_file = './final_output.json'\n",
    "with open(recommendation_file, \"r\", encoding=\"utf-8\") as f:\n",
    "        recommendation_data  = json.load(f)\n",
    "        final_report = []  # 用來儲存所有 question 的評估結果\n",
    "\n",
    "        for sample_data in recommendation_data:\n",
    "\n",
    "            rich.print(sample_data)\n",
    "            llm = ChatOpenAI(model=\"gpt-4o-2024-11-20\", temperature=0.3)\n",
    "            app = create_workflow(llm)\n",
    "\n",
    "            initial_state = {\n",
    "                \"messages\": [],\n",
    "                \"next_agent\": \"Agent1\",\n",
    "                \"question_id\": sample_data[\"question_id\"],\n",
    "                \"question\": sample_data[\"question\"],\n",
    "                \"gpt4o_recommendation\": sample_data[\"gpt4o_recommendation\"],\n",
    "                \"buildmate_recommendation\": sample_data[\"buildmate_recommendation\"],\n",
    "                \"agent_scores\": {},\n",
    "                \"round_count\": 1,\n",
    "                \"max_rounds\": 3,  #最多3回合\n",
    "                \"consensus_reached\": False\n",
    "            }\n",
    "\n",
    "            final_state = None\n",
    "            i = 0 \n",
    "            for output in app.stream(initial_state):\n",
    "                print (f\"======\")\n",
    "                final_state = output\n",
    "                i = i + 1\n",
    "            print (final_state)\n",
    "            serializable_state = dict(final_state)\n",
    "            state = final_state[\"Coordinator\"]\n",
    "            question_id = state[\"question_id\"]\n",
    "            question = state[\"question\"]\n",
    "            gpt4o_recom = state[\"gpt4o_recommendation\"]\n",
    "            buildmate_recom = state[\"buildmate_recommendation\"]\n",
    "            agent_scores = state[\"agent_scores\"]\n",
    "\n",
    "\n",
    "            gpt4o_scores_all = []\n",
    "            buildmate_scores_all = []\n",
    "            rounds_data = {}\n",
    "\n",
    "            for key, scores in agent_scores.items():\n",
    "                m = re.match(r\"(Agent\\d+)_round(\\d+)\", key)\n",
    "                if m:\n",
    "                    agent_name = m.group(1)\n",
    "                    round_num = int(m.group(2))\n",
    "                    if round_num not in rounds_data:\n",
    "                        rounds_data[round_num] = {}\n",
    "                    rounds_data[round_num][agent_name] = scores\n",
    "                    gpt4o_scores_all.append(scores[\"gpt4o_score\"])\n",
    "                    buildmate_scores_all.append(scores[\"buildmate_score\"])\n",
    "\n",
    "            if gpt4o_scores_all:\n",
    "                gpt4o_avg = sum(gpt4o_scores_all) / len(gpt4o_scores_all)\n",
    "            else:\n",
    "                gpt4o_avg = 0\n",
    "\n",
    "            if buildmate_scores_all:\n",
    "                buildmate_avg = sum(buildmate_scores_all) / len(buildmate_scores_all)\n",
    "            else:\n",
    "                buildmate_avg = 0\n",
    "\n",
    "            # 判斷誰贏 (1: BuildMate 贏; 0: BuildMate 輸)\n",
    "            winner = 1 if buildmate_avg > gpt4o_avg else 0\n",
    "\n",
    "            # 整理 round 資訊\n",
    "            rounds_list = []\n",
    "            for r in sorted(rounds_data.keys()):\n",
    "                round_info = {\"round_number\": r}\n",
    "                for agent_name, sc in rounds_data[r].items():\n",
    "                    round_info[agent_name] = {\n",
    "                        \"gpt4o_score\": sc[\"gpt4o_score\"],\n",
    "                        \"buildmate_score\": sc[\"buildmate_score\"],\n",
    "                        \"reason\": sc[\"reason\"]\n",
    "                    }\n",
    "                rounds_list.append(round_info)\n",
    "\n",
    "            report_item = {\n",
    "                \"question_id\": question_id,\n",
    "                \"question\": question,\n",
    "                \"buildmate_recommendation\":buildmate_recom,\n",
    "                \"gpt4o_recommendation\": gpt4o_recom,\n",
    "                \"winner\": winner,\n",
    "                \"buildmate_avg_score\": buildmate_avg,\n",
    "                \"gpt4o_avg_score\": gpt4o_avg,\n",
    "                \"rounds\": rounds_list\n",
    "            }\n",
    "\n",
    "            print(json.dumps(report_item, ensure_ascii=False, indent=2))\n",
    "            final_report.append(report_item)\n",
    "\n",
    "            #serializable_result = convert_messages_to_serializable(final_state)\n",
    "with open(\"evaluation_report_budget_reason.json\", \"w\", encoding=\"utf-8\") as out_f:\n",
    "    json.dump(final_report, out_f, ensure_ascii=False, indent=2)\n",
    "\n",
    "\n",
    "\n"
   ]
  },
  {
   "cell_type": "code",
   "execution_count": null,
   "metadata": {},
   "outputs": [],
   "source": [
    "sample_data = {\n",
    "\"question_id\": 1,\n",
    "\"question\": \"我有30K預算組遊戲機\",\n",
    "\"gpt4o_recommendation\": \"\"\"CPU: Intel Core i5-12400 | price: 5,790\n",
    "Motherboard: 華擎 B660M PG Riptide | price: 3,990\n",
    "Memory: 十銨 T-Force Vulcan Z DDR4-3200 32GB (16GB*2) | price: 1,899\n",
    "GPU: 微星 RTX 3060 VENTUS 2X 12G OC | price: 8,490\n",
    "SSD: 金士頓 KC3000 1TB M.2 PCIe 4.0 | price: 1,950\n",
    "Power Supply: NZXT C650 80+金牌 全模組 | price: 2,990\n",
    "Case: Antec P20CE | price: 2,390\n",
    "CPU Cooler: 利民 Assassin Spirit 120 Plus V2 | price: 790\n",
    "總價: 28,299\"\"\",\n",
    "        \"buildmate_recommendation\": \"\"\"CPU: AMD Ryzen 5 5600 | price: 5,200\n",
    "Motherboard: 微星 B550M PRO-VDH | price: 3,400\n",
    "Memory: 金士頓 FURY DDR4-3200 16GB*2 | price: 1,700\n",
    "GPU: 技嘉 GeForce RTX 3060 EAGLE 12G | price: 8,300\n",
    "SSD: 鎂光 P5 Plus 1TB PCIe 4.0 | price: 2,000\n",
    "Power Supply: 恆能源 650W 80+金牌 | price: 2,700\n",
    "Case: Cooler Master MasterBox MB400L | price: 1,800\n",
    "CPU Cooler: 追風者 PH-TC12LS | price: 700\n",
    "總價: 25,800\"\"\"\n",
    "}"
   ]
  }
 ],
 "metadata": {
  "kernelspec": {
   "display_name": "Python 3",
   "language": "python",
   "name": "python3"
  },
  "language_info": {
   "codemirror_mode": {
    "name": "ipython",
    "version": 3
   },
   "file_extension": ".py",
   "mimetype": "text/x-python",
   "name": "python",
   "nbconvert_exporter": "python",
   "pygments_lexer": "ipython3",
   "version": "3.10.16"
  },
  "orig_nbformat": 4
 },
 "nbformat": 4,
 "nbformat_minor": 2
}
